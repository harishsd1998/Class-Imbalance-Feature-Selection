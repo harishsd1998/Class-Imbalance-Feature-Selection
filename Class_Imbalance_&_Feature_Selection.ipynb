{
  "nbformat": 4,
  "nbformat_minor": 0,
  "metadata": {
    "colab": {
      "name": "Class Imbalance & Feature Selection.ipynb",
      "provenance": [],
      "collapsed_sections": [],
      "include_colab_link": true
    },
    "kernelspec": {
      "display_name": "Python 3",
      "language": "python",
      "name": "python3"
    },
    "language_info": {
      "codemirror_mode": {
        "name": "ipython",
        "version": 3
      },
      "file_extension": ".py",
      "mimetype": "text/x-python",
      "name": "python",
      "nbconvert_exporter": "python",
      "pygments_lexer": "ipython3",
      "version": "3.7.4"
    }
  },
  "cells": [
    {
      "cell_type": "markdown",
      "metadata": {
        "id": "view-in-github",
        "colab_type": "text"
      },
      "source": [
        "<a href=\"https://colab.research.google.com/github/harishsd1998/Class-Imbalance-Feature-Selection/blob/main/Class_Imbalance_%26_Feature_Selection.ipynb\" target=\"_parent\"><img src=\"https://colab.research.google.com/assets/colab-badge.svg\" alt=\"Open In Colab\"/></a>"
      ]
    },
    {
      "cell_type": "markdown",
      "metadata": {
        "id": "-yAuFc87437k"
      },
      "source": [
        "### Part-A: Class Imbalance, ensembles, and feature selection."
      ]
    },
    {
      "cell_type": "markdown",
      "metadata": {
        "id": "2_o2fpLFSNT1"
      },
      "source": [
        "**1. Rebalancing original dataset into Oversampling, Undersampling and Balanced sampling datasets.**"
      ]
    },
    {
      "cell_type": "code",
      "metadata": {
        "id": "PFN-bKcORa3V",
        "outputId": "7fe0c668-ac1f-4a05-e505-11145f36ce85",
        "colab": {
          "base_uri": "https://localhost:8080/",
          "height": 272
        }
      },
      "source": [
        "#Importing required libraries and converting the dataset into dataframe using \"pandas\" library.\n",
        "import pandas as pd \n",
        "import numpy as np\n",
        "from sklearn import preprocessing\n",
        "from sklearn.model_selection import GridSearchCV\n",
        "from sklearn.svm import SVC\n",
        "from warnings import simplefilter\n",
        "simplefilter(action='ignore', category=FutureWarning)\n",
        "df = pd.read_csv('bank-additional-full.csv',sep = ';')\n",
        "print(df)"
      ],
      "execution_count": null,
      "outputs": [
        {
          "output_type": "stream",
          "text": [
            "       age          job  marital            education  default housing loan  \\\n",
            "0       56    housemaid  married             basic.4y       no      no   no   \n",
            "1       57     services  married          high.school  unknown      no   no   \n",
            "2       37     services  married          high.school       no     yes   no   \n",
            "3       40       admin.  married             basic.6y       no      no   no   \n",
            "4       56     services  married          high.school       no      no  yes   \n",
            "...    ...          ...      ...                  ...      ...     ...  ...   \n",
            "41183   73      retired  married  professional.course       no     yes   no   \n",
            "41184   46  blue-collar  married  professional.course       no      no   no   \n",
            "41185   56      retired  married    university.degree       no     yes   no   \n",
            "41186   44   technician  married  professional.course       no      no   no   \n",
            "41187   74      retired  married  professional.course       no     yes   no   \n",
            "\n",
            "         contact month day_of_week  ...  campaign  pdays  previous  \\\n",
            "0      telephone   may         mon  ...         1    999         0   \n",
            "1      telephone   may         mon  ...         1    999         0   \n",
            "2      telephone   may         mon  ...         1    999         0   \n",
            "3      telephone   may         mon  ...         1    999         0   \n",
            "4      telephone   may         mon  ...         1    999         0   \n",
            "...          ...   ...         ...  ...       ...    ...       ...   \n",
            "41183   cellular   nov         fri  ...         1    999         0   \n",
            "41184   cellular   nov         fri  ...         1    999         0   \n",
            "41185   cellular   nov         fri  ...         2    999         0   \n",
            "41186   cellular   nov         fri  ...         1    999         0   \n",
            "41187   cellular   nov         fri  ...         3    999         1   \n",
            "\n",
            "          poutcome emp.var.rate  cons.price.idx  cons.conf.idx  euribor3m  \\\n",
            "0      nonexistent          1.1          93.994          -36.4      4.857   \n",
            "1      nonexistent          1.1          93.994          -36.4      4.857   \n",
            "2      nonexistent          1.1          93.994          -36.4      4.857   \n",
            "3      nonexistent          1.1          93.994          -36.4      4.857   \n",
            "4      nonexistent          1.1          93.994          -36.4      4.857   \n",
            "...            ...          ...             ...            ...        ...   \n",
            "41183  nonexistent         -1.1          94.767          -50.8      1.028   \n",
            "41184  nonexistent         -1.1          94.767          -50.8      1.028   \n",
            "41185  nonexistent         -1.1          94.767          -50.8      1.028   \n",
            "41186  nonexistent         -1.1          94.767          -50.8      1.028   \n",
            "41187      failure         -1.1          94.767          -50.8      1.028   \n",
            "\n",
            "       nr.employed    y  \n",
            "0           5191.0   no  \n",
            "1           5191.0   no  \n",
            "2           5191.0   no  \n",
            "3           5191.0   no  \n",
            "4           5191.0   no  \n",
            "...            ...  ...  \n",
            "41183       4963.6  yes  \n",
            "41184       4963.6   no  \n",
            "41185       4963.6   no  \n",
            "41186       4963.6  yes  \n",
            "41187       4963.6   no  \n",
            "\n",
            "[41188 rows x 21 columns]\n"
          ],
          "name": "stdout"
        }
      ]
    },
    {
      "cell_type": "markdown",
      "metadata": {
        "id": "OVhAwamKSVgd"
      },
      "source": [
        "**Label Encoding of 'month' and 'day_of_week' features**"
      ]
    },
    {
      "cell_type": "code",
      "metadata": {
        "id": "axNA751ESQ2Y"
      },
      "source": [
        "label_encoder1 = preprocessing.LabelEncoder()\n",
        "label_encoder2 = preprocessing.LabelEncoder()\n",
        "df['month'] = label_encoder1.fit_transform(df['month'].astype(str)) \n",
        "df['day_of_week'] = label_encoder2.fit_transform(df['day_of_week'].astype(str))"
      ],
      "execution_count": null,
      "outputs": []
    },
    {
      "cell_type": "markdown",
      "metadata": {
        "id": "T2MIyOhISr4w"
      },
      "source": [
        "**Implementing our own user defined function namely \"encode_and_bind\" which will perform \"One-hot-encoding\" and binds those columns to our original dataframe.**"
      ]
    },
    {
      "cell_type": "code",
      "metadata": {
        "id": "ZmyjfIZfSeZV"
      },
      "source": [
        "def encode_and_bind(df,feature_to_encode):\n",
        "    dummies = pd.get_dummies(df[[feature_to_encode]])\n",
        "    df = pd.concat([df,dummies],axis=1)\n",
        "    df = df.drop([feature_to_encode],axis=1)\n",
        "    return(df)"
      ],
      "execution_count": null,
      "outputs": []
    },
    {
      "cell_type": "markdown",
      "metadata": {
        "id": "XXrSOjb0S18P"
      },
      "source": [
        "**Selecting the categorical columns which are not ordinal for \"One-hot-encoding\".**"
      ]
    },
    {
      "cell_type": "code",
      "metadata": {
        "id": "u3Ax5G4ISw3n"
      },
      "source": [
        "features_to_encode = ['job', 'marital', 'education', 'default','housing','loan','contact','poutcome'] \n",
        "for feature in features_to_encode:\n",
        "    df = encode_and_bind(df,feature)"
      ],
      "execution_count": null,
      "outputs": []
    },
    {
      "cell_type": "code",
      "metadata": {
        "id": "Ibrj5gkXS5In",
        "outputId": "5d83bf34-d2f3-4e12-b332-623a1d291228",
        "colab": {
          "base_uri": "https://localhost:8080/",
          "height": 445
        }
      },
      "source": [
        "df"
      ],
      "execution_count": null,
      "outputs": [
        {
          "output_type": "execute_result",
          "data": {
            "text/html": [
              "<div>\n",
              "<style scoped>\n",
              "    .dataframe tbody tr th:only-of-type {\n",
              "        vertical-align: middle;\n",
              "    }\n",
              "\n",
              "    .dataframe tbody tr th {\n",
              "        vertical-align: top;\n",
              "    }\n",
              "\n",
              "    .dataframe thead th {\n",
              "        text-align: right;\n",
              "    }\n",
              "</style>\n",
              "<table border=\"1\" class=\"dataframe\">\n",
              "  <thead>\n",
              "    <tr style=\"text-align: right;\">\n",
              "      <th></th>\n",
              "      <th>age</th>\n",
              "      <th>month</th>\n",
              "      <th>day_of_week</th>\n",
              "      <th>duration</th>\n",
              "      <th>campaign</th>\n",
              "      <th>pdays</th>\n",
              "      <th>previous</th>\n",
              "      <th>emp.var.rate</th>\n",
              "      <th>cons.price.idx</th>\n",
              "      <th>cons.conf.idx</th>\n",
              "      <th>...</th>\n",
              "      <th>housing_unknown</th>\n",
              "      <th>housing_yes</th>\n",
              "      <th>loan_no</th>\n",
              "      <th>loan_unknown</th>\n",
              "      <th>loan_yes</th>\n",
              "      <th>contact_cellular</th>\n",
              "      <th>contact_telephone</th>\n",
              "      <th>poutcome_failure</th>\n",
              "      <th>poutcome_nonexistent</th>\n",
              "      <th>poutcome_success</th>\n",
              "    </tr>\n",
              "  </thead>\n",
              "  <tbody>\n",
              "    <tr>\n",
              "      <td>0</td>\n",
              "      <td>56</td>\n",
              "      <td>6</td>\n",
              "      <td>1</td>\n",
              "      <td>261</td>\n",
              "      <td>1</td>\n",
              "      <td>999</td>\n",
              "      <td>0</td>\n",
              "      <td>1.1</td>\n",
              "      <td>93.994</td>\n",
              "      <td>-36.4</td>\n",
              "      <td>...</td>\n",
              "      <td>0</td>\n",
              "      <td>0</td>\n",
              "      <td>1</td>\n",
              "      <td>0</td>\n",
              "      <td>0</td>\n",
              "      <td>0</td>\n",
              "      <td>1</td>\n",
              "      <td>0</td>\n",
              "      <td>1</td>\n",
              "      <td>0</td>\n",
              "    </tr>\n",
              "    <tr>\n",
              "      <td>1</td>\n",
              "      <td>57</td>\n",
              "      <td>6</td>\n",
              "      <td>1</td>\n",
              "      <td>149</td>\n",
              "      <td>1</td>\n",
              "      <td>999</td>\n",
              "      <td>0</td>\n",
              "      <td>1.1</td>\n",
              "      <td>93.994</td>\n",
              "      <td>-36.4</td>\n",
              "      <td>...</td>\n",
              "      <td>0</td>\n",
              "      <td>0</td>\n",
              "      <td>1</td>\n",
              "      <td>0</td>\n",
              "      <td>0</td>\n",
              "      <td>0</td>\n",
              "      <td>1</td>\n",
              "      <td>0</td>\n",
              "      <td>1</td>\n",
              "      <td>0</td>\n",
              "    </tr>\n",
              "    <tr>\n",
              "      <td>2</td>\n",
              "      <td>37</td>\n",
              "      <td>6</td>\n",
              "      <td>1</td>\n",
              "      <td>226</td>\n",
              "      <td>1</td>\n",
              "      <td>999</td>\n",
              "      <td>0</td>\n",
              "      <td>1.1</td>\n",
              "      <td>93.994</td>\n",
              "      <td>-36.4</td>\n",
              "      <td>...</td>\n",
              "      <td>0</td>\n",
              "      <td>1</td>\n",
              "      <td>1</td>\n",
              "      <td>0</td>\n",
              "      <td>0</td>\n",
              "      <td>0</td>\n",
              "      <td>1</td>\n",
              "      <td>0</td>\n",
              "      <td>1</td>\n",
              "      <td>0</td>\n",
              "    </tr>\n",
              "    <tr>\n",
              "      <td>3</td>\n",
              "      <td>40</td>\n",
              "      <td>6</td>\n",
              "      <td>1</td>\n",
              "      <td>151</td>\n",
              "      <td>1</td>\n",
              "      <td>999</td>\n",
              "      <td>0</td>\n",
              "      <td>1.1</td>\n",
              "      <td>93.994</td>\n",
              "      <td>-36.4</td>\n",
              "      <td>...</td>\n",
              "      <td>0</td>\n",
              "      <td>0</td>\n",
              "      <td>1</td>\n",
              "      <td>0</td>\n",
              "      <td>0</td>\n",
              "      <td>0</td>\n",
              "      <td>1</td>\n",
              "      <td>0</td>\n",
              "      <td>1</td>\n",
              "      <td>0</td>\n",
              "    </tr>\n",
              "    <tr>\n",
              "      <td>4</td>\n",
              "      <td>56</td>\n",
              "      <td>6</td>\n",
              "      <td>1</td>\n",
              "      <td>307</td>\n",
              "      <td>1</td>\n",
              "      <td>999</td>\n",
              "      <td>0</td>\n",
              "      <td>1.1</td>\n",
              "      <td>93.994</td>\n",
              "      <td>-36.4</td>\n",
              "      <td>...</td>\n",
              "      <td>0</td>\n",
              "      <td>0</td>\n",
              "      <td>0</td>\n",
              "      <td>0</td>\n",
              "      <td>1</td>\n",
              "      <td>0</td>\n",
              "      <td>1</td>\n",
              "      <td>0</td>\n",
              "      <td>1</td>\n",
              "      <td>0</td>\n",
              "    </tr>\n",
              "    <tr>\n",
              "      <td>...</td>\n",
              "      <td>...</td>\n",
              "      <td>...</td>\n",
              "      <td>...</td>\n",
              "      <td>...</td>\n",
              "      <td>...</td>\n",
              "      <td>...</td>\n",
              "      <td>...</td>\n",
              "      <td>...</td>\n",
              "      <td>...</td>\n",
              "      <td>...</td>\n",
              "      <td>...</td>\n",
              "      <td>...</td>\n",
              "      <td>...</td>\n",
              "      <td>...</td>\n",
              "      <td>...</td>\n",
              "      <td>...</td>\n",
              "      <td>...</td>\n",
              "      <td>...</td>\n",
              "      <td>...</td>\n",
              "      <td>...</td>\n",
              "      <td>...</td>\n",
              "    </tr>\n",
              "    <tr>\n",
              "      <td>41183</td>\n",
              "      <td>73</td>\n",
              "      <td>7</td>\n",
              "      <td>0</td>\n",
              "      <td>334</td>\n",
              "      <td>1</td>\n",
              "      <td>999</td>\n",
              "      <td>0</td>\n",
              "      <td>-1.1</td>\n",
              "      <td>94.767</td>\n",
              "      <td>-50.8</td>\n",
              "      <td>...</td>\n",
              "      <td>0</td>\n",
              "      <td>1</td>\n",
              "      <td>1</td>\n",
              "      <td>0</td>\n",
              "      <td>0</td>\n",
              "      <td>1</td>\n",
              "      <td>0</td>\n",
              "      <td>0</td>\n",
              "      <td>1</td>\n",
              "      <td>0</td>\n",
              "    </tr>\n",
              "    <tr>\n",
              "      <td>41184</td>\n",
              "      <td>46</td>\n",
              "      <td>7</td>\n",
              "      <td>0</td>\n",
              "      <td>383</td>\n",
              "      <td>1</td>\n",
              "      <td>999</td>\n",
              "      <td>0</td>\n",
              "      <td>-1.1</td>\n",
              "      <td>94.767</td>\n",
              "      <td>-50.8</td>\n",
              "      <td>...</td>\n",
              "      <td>0</td>\n",
              "      <td>0</td>\n",
              "      <td>1</td>\n",
              "      <td>0</td>\n",
              "      <td>0</td>\n",
              "      <td>1</td>\n",
              "      <td>0</td>\n",
              "      <td>0</td>\n",
              "      <td>1</td>\n",
              "      <td>0</td>\n",
              "    </tr>\n",
              "    <tr>\n",
              "      <td>41185</td>\n",
              "      <td>56</td>\n",
              "      <td>7</td>\n",
              "      <td>0</td>\n",
              "      <td>189</td>\n",
              "      <td>2</td>\n",
              "      <td>999</td>\n",
              "      <td>0</td>\n",
              "      <td>-1.1</td>\n",
              "      <td>94.767</td>\n",
              "      <td>-50.8</td>\n",
              "      <td>...</td>\n",
              "      <td>0</td>\n",
              "      <td>1</td>\n",
              "      <td>1</td>\n",
              "      <td>0</td>\n",
              "      <td>0</td>\n",
              "      <td>1</td>\n",
              "      <td>0</td>\n",
              "      <td>0</td>\n",
              "      <td>1</td>\n",
              "      <td>0</td>\n",
              "    </tr>\n",
              "    <tr>\n",
              "      <td>41186</td>\n",
              "      <td>44</td>\n",
              "      <td>7</td>\n",
              "      <td>0</td>\n",
              "      <td>442</td>\n",
              "      <td>1</td>\n",
              "      <td>999</td>\n",
              "      <td>0</td>\n",
              "      <td>-1.1</td>\n",
              "      <td>94.767</td>\n",
              "      <td>-50.8</td>\n",
              "      <td>...</td>\n",
              "      <td>0</td>\n",
              "      <td>0</td>\n",
              "      <td>1</td>\n",
              "      <td>0</td>\n",
              "      <td>0</td>\n",
              "      <td>1</td>\n",
              "      <td>0</td>\n",
              "      <td>0</td>\n",
              "      <td>1</td>\n",
              "      <td>0</td>\n",
              "    </tr>\n",
              "    <tr>\n",
              "      <td>41187</td>\n",
              "      <td>74</td>\n",
              "      <td>7</td>\n",
              "      <td>0</td>\n",
              "      <td>239</td>\n",
              "      <td>3</td>\n",
              "      <td>999</td>\n",
              "      <td>1</td>\n",
              "      <td>-1.1</td>\n",
              "      <td>94.767</td>\n",
              "      <td>-50.8</td>\n",
              "      <td>...</td>\n",
              "      <td>0</td>\n",
              "      <td>1</td>\n",
              "      <td>1</td>\n",
              "      <td>0</td>\n",
              "      <td>0</td>\n",
              "      <td>1</td>\n",
              "      <td>0</td>\n",
              "      <td>1</td>\n",
              "      <td>0</td>\n",
              "      <td>0</td>\n",
              "    </tr>\n",
              "  </tbody>\n",
              "</table>\n",
              "<p>41188 rows × 51 columns</p>\n",
              "</div>"
            ],
            "text/plain": [
              "       age  month  day_of_week  duration  campaign  pdays  previous  \\\n",
              "0       56      6            1       261         1    999         0   \n",
              "1       57      6            1       149         1    999         0   \n",
              "2       37      6            1       226         1    999         0   \n",
              "3       40      6            1       151         1    999         0   \n",
              "4       56      6            1       307         1    999         0   \n",
              "...    ...    ...          ...       ...       ...    ...       ...   \n",
              "41183   73      7            0       334         1    999         0   \n",
              "41184   46      7            0       383         1    999         0   \n",
              "41185   56      7            0       189         2    999         0   \n",
              "41186   44      7            0       442         1    999         0   \n",
              "41187   74      7            0       239         3    999         1   \n",
              "\n",
              "       emp.var.rate  cons.price.idx  cons.conf.idx  ...  housing_unknown  \\\n",
              "0               1.1          93.994          -36.4  ...                0   \n",
              "1               1.1          93.994          -36.4  ...                0   \n",
              "2               1.1          93.994          -36.4  ...                0   \n",
              "3               1.1          93.994          -36.4  ...                0   \n",
              "4               1.1          93.994          -36.4  ...                0   \n",
              "...             ...             ...            ...  ...              ...   \n",
              "41183          -1.1          94.767          -50.8  ...                0   \n",
              "41184          -1.1          94.767          -50.8  ...                0   \n",
              "41185          -1.1          94.767          -50.8  ...                0   \n",
              "41186          -1.1          94.767          -50.8  ...                0   \n",
              "41187          -1.1          94.767          -50.8  ...                0   \n",
              "\n",
              "       housing_yes loan_no  loan_unknown  loan_yes  contact_cellular  \\\n",
              "0                0       1             0         0                 0   \n",
              "1                0       1             0         0                 0   \n",
              "2                1       1             0         0                 0   \n",
              "3                0       1             0         0                 0   \n",
              "4                0       0             0         1                 0   \n",
              "...            ...     ...           ...       ...               ...   \n",
              "41183            1       1             0         0                 1   \n",
              "41184            0       1             0         0                 1   \n",
              "41185            1       1             0         0                 1   \n",
              "41186            0       1             0         0                 1   \n",
              "41187            1       1             0         0                 1   \n",
              "\n",
              "       contact_telephone  poutcome_failure  poutcome_nonexistent  \\\n",
              "0                      1                 0                     1   \n",
              "1                      1                 0                     1   \n",
              "2                      1                 0                     1   \n",
              "3                      1                 0                     1   \n",
              "4                      1                 0                     1   \n",
              "...                  ...               ...                   ...   \n",
              "41183                  0                 0                     1   \n",
              "41184                  0                 0                     1   \n",
              "41185                  0                 0                     1   \n",
              "41186                  0                 0                     1   \n",
              "41187                  0                 1                     0   \n",
              "\n",
              "       poutcome_success  \n",
              "0                     0  \n",
              "1                     0  \n",
              "2                     0  \n",
              "3                     0  \n",
              "4                     0  \n",
              "...                 ...  \n",
              "41183                 0  \n",
              "41184                 0  \n",
              "41185                 0  \n",
              "41186                 0  \n",
              "41187                 0  \n",
              "\n",
              "[41188 rows x 51 columns]"
            ]
          },
          "metadata": {
            "tags": []
          },
          "execution_count": 56
        }
      ]
    },
    {
      "cell_type": "markdown",
      "metadata": {
        "id": "O-5ZrOIAT48o"
      },
      "source": [
        "**Since our class label is 'y', we are label-encoding it with the help of \"map\" function.**"
      ]
    },
    {
      "cell_type": "code",
      "metadata": {
        "id": "_j4caNcoT698",
        "outputId": "509771ad-1b16-4f6e-b0b4-a7a1651ba621",
        "colab": {
          "base_uri": "https://localhost:8080/",
          "height": 1000
        }
      },
      "source": [
        "df.y = df.y.map({'no':0, 'yes':1}).astype('uint8')\n",
        "df.head(10).T"
      ],
      "execution_count": null,
      "outputs": [
        {
          "output_type": "execute_result",
          "data": {
            "text/html": [
              "<div>\n",
              "<style scoped>\n",
              "    .dataframe tbody tr th:only-of-type {\n",
              "        vertical-align: middle;\n",
              "    }\n",
              "\n",
              "    .dataframe tbody tr th {\n",
              "        vertical-align: top;\n",
              "    }\n",
              "\n",
              "    .dataframe thead th {\n",
              "        text-align: right;\n",
              "    }\n",
              "</style>\n",
              "<table border=\"1\" class=\"dataframe\">\n",
              "  <thead>\n",
              "    <tr style=\"text-align: right;\">\n",
              "      <th></th>\n",
              "      <th>0</th>\n",
              "      <th>1</th>\n",
              "      <th>2</th>\n",
              "      <th>3</th>\n",
              "      <th>4</th>\n",
              "      <th>5</th>\n",
              "      <th>6</th>\n",
              "      <th>7</th>\n",
              "      <th>8</th>\n",
              "      <th>9</th>\n",
              "    </tr>\n",
              "  </thead>\n",
              "  <tbody>\n",
              "    <tr>\n",
              "      <td>age</td>\n",
              "      <td>56.000</td>\n",
              "      <td>57.000</td>\n",
              "      <td>37.000</td>\n",
              "      <td>40.000</td>\n",
              "      <td>56.000</td>\n",
              "      <td>45.000</td>\n",
              "      <td>59.000</td>\n",
              "      <td>41.000</td>\n",
              "      <td>24.000</td>\n",
              "      <td>25.000</td>\n",
              "    </tr>\n",
              "    <tr>\n",
              "      <td>month</td>\n",
              "      <td>6.000</td>\n",
              "      <td>6.000</td>\n",
              "      <td>6.000</td>\n",
              "      <td>6.000</td>\n",
              "      <td>6.000</td>\n",
              "      <td>6.000</td>\n",
              "      <td>6.000</td>\n",
              "      <td>6.000</td>\n",
              "      <td>6.000</td>\n",
              "      <td>6.000</td>\n",
              "    </tr>\n",
              "    <tr>\n",
              "      <td>day_of_week</td>\n",
              "      <td>1.000</td>\n",
              "      <td>1.000</td>\n",
              "      <td>1.000</td>\n",
              "      <td>1.000</td>\n",
              "      <td>1.000</td>\n",
              "      <td>1.000</td>\n",
              "      <td>1.000</td>\n",
              "      <td>1.000</td>\n",
              "      <td>1.000</td>\n",
              "      <td>1.000</td>\n",
              "    </tr>\n",
              "    <tr>\n",
              "      <td>duration</td>\n",
              "      <td>261.000</td>\n",
              "      <td>149.000</td>\n",
              "      <td>226.000</td>\n",
              "      <td>151.000</td>\n",
              "      <td>307.000</td>\n",
              "      <td>198.000</td>\n",
              "      <td>139.000</td>\n",
              "      <td>217.000</td>\n",
              "      <td>380.000</td>\n",
              "      <td>50.000</td>\n",
              "    </tr>\n",
              "    <tr>\n",
              "      <td>campaign</td>\n",
              "      <td>1.000</td>\n",
              "      <td>1.000</td>\n",
              "      <td>1.000</td>\n",
              "      <td>1.000</td>\n",
              "      <td>1.000</td>\n",
              "      <td>1.000</td>\n",
              "      <td>1.000</td>\n",
              "      <td>1.000</td>\n",
              "      <td>1.000</td>\n",
              "      <td>1.000</td>\n",
              "    </tr>\n",
              "    <tr>\n",
              "      <td>pdays</td>\n",
              "      <td>999.000</td>\n",
              "      <td>999.000</td>\n",
              "      <td>999.000</td>\n",
              "      <td>999.000</td>\n",
              "      <td>999.000</td>\n",
              "      <td>999.000</td>\n",
              "      <td>999.000</td>\n",
              "      <td>999.000</td>\n",
              "      <td>999.000</td>\n",
              "      <td>999.000</td>\n",
              "    </tr>\n",
              "    <tr>\n",
              "      <td>previous</td>\n",
              "      <td>0.000</td>\n",
              "      <td>0.000</td>\n",
              "      <td>0.000</td>\n",
              "      <td>0.000</td>\n",
              "      <td>0.000</td>\n",
              "      <td>0.000</td>\n",
              "      <td>0.000</td>\n",
              "      <td>0.000</td>\n",
              "      <td>0.000</td>\n",
              "      <td>0.000</td>\n",
              "    </tr>\n",
              "    <tr>\n",
              "      <td>emp.var.rate</td>\n",
              "      <td>1.100</td>\n",
              "      <td>1.100</td>\n",
              "      <td>1.100</td>\n",
              "      <td>1.100</td>\n",
              "      <td>1.100</td>\n",
              "      <td>1.100</td>\n",
              "      <td>1.100</td>\n",
              "      <td>1.100</td>\n",
              "      <td>1.100</td>\n",
              "      <td>1.100</td>\n",
              "    </tr>\n",
              "    <tr>\n",
              "      <td>cons.price.idx</td>\n",
              "      <td>93.994</td>\n",
              "      <td>93.994</td>\n",
              "      <td>93.994</td>\n",
              "      <td>93.994</td>\n",
              "      <td>93.994</td>\n",
              "      <td>93.994</td>\n",
              "      <td>93.994</td>\n",
              "      <td>93.994</td>\n",
              "      <td>93.994</td>\n",
              "      <td>93.994</td>\n",
              "    </tr>\n",
              "    <tr>\n",
              "      <td>cons.conf.idx</td>\n",
              "      <td>-36.400</td>\n",
              "      <td>-36.400</td>\n",
              "      <td>-36.400</td>\n",
              "      <td>-36.400</td>\n",
              "      <td>-36.400</td>\n",
              "      <td>-36.400</td>\n",
              "      <td>-36.400</td>\n",
              "      <td>-36.400</td>\n",
              "      <td>-36.400</td>\n",
              "      <td>-36.400</td>\n",
              "    </tr>\n",
              "    <tr>\n",
              "      <td>euribor3m</td>\n",
              "      <td>4.857</td>\n",
              "      <td>4.857</td>\n",
              "      <td>4.857</td>\n",
              "      <td>4.857</td>\n",
              "      <td>4.857</td>\n",
              "      <td>4.857</td>\n",
              "      <td>4.857</td>\n",
              "      <td>4.857</td>\n",
              "      <td>4.857</td>\n",
              "      <td>4.857</td>\n",
              "    </tr>\n",
              "    <tr>\n",
              "      <td>nr.employed</td>\n",
              "      <td>5191.000</td>\n",
              "      <td>5191.000</td>\n",
              "      <td>5191.000</td>\n",
              "      <td>5191.000</td>\n",
              "      <td>5191.000</td>\n",
              "      <td>5191.000</td>\n",
              "      <td>5191.000</td>\n",
              "      <td>5191.000</td>\n",
              "      <td>5191.000</td>\n",
              "      <td>5191.000</td>\n",
              "    </tr>\n",
              "    <tr>\n",
              "      <td>y</td>\n",
              "      <td>0.000</td>\n",
              "      <td>0.000</td>\n",
              "      <td>0.000</td>\n",
              "      <td>0.000</td>\n",
              "      <td>0.000</td>\n",
              "      <td>0.000</td>\n",
              "      <td>0.000</td>\n",
              "      <td>0.000</td>\n",
              "      <td>0.000</td>\n",
              "      <td>0.000</td>\n",
              "    </tr>\n",
              "    <tr>\n",
              "      <td>job_admin.</td>\n",
              "      <td>0.000</td>\n",
              "      <td>0.000</td>\n",
              "      <td>0.000</td>\n",
              "      <td>1.000</td>\n",
              "      <td>0.000</td>\n",
              "      <td>0.000</td>\n",
              "      <td>1.000</td>\n",
              "      <td>0.000</td>\n",
              "      <td>0.000</td>\n",
              "      <td>0.000</td>\n",
              "    </tr>\n",
              "    <tr>\n",
              "      <td>job_blue-collar</td>\n",
              "      <td>0.000</td>\n",
              "      <td>0.000</td>\n",
              "      <td>0.000</td>\n",
              "      <td>0.000</td>\n",
              "      <td>0.000</td>\n",
              "      <td>0.000</td>\n",
              "      <td>0.000</td>\n",
              "      <td>1.000</td>\n",
              "      <td>0.000</td>\n",
              "      <td>0.000</td>\n",
              "    </tr>\n",
              "    <tr>\n",
              "      <td>job_entrepreneur</td>\n",
              "      <td>0.000</td>\n",
              "      <td>0.000</td>\n",
              "      <td>0.000</td>\n",
              "      <td>0.000</td>\n",
              "      <td>0.000</td>\n",
              "      <td>0.000</td>\n",
              "      <td>0.000</td>\n",
              "      <td>0.000</td>\n",
              "      <td>0.000</td>\n",
              "      <td>0.000</td>\n",
              "    </tr>\n",
              "    <tr>\n",
              "      <td>job_housemaid</td>\n",
              "      <td>1.000</td>\n",
              "      <td>0.000</td>\n",
              "      <td>0.000</td>\n",
              "      <td>0.000</td>\n",
              "      <td>0.000</td>\n",
              "      <td>0.000</td>\n",
              "      <td>0.000</td>\n",
              "      <td>0.000</td>\n",
              "      <td>0.000</td>\n",
              "      <td>0.000</td>\n",
              "    </tr>\n",
              "    <tr>\n",
              "      <td>job_management</td>\n",
              "      <td>0.000</td>\n",
              "      <td>0.000</td>\n",
              "      <td>0.000</td>\n",
              "      <td>0.000</td>\n",
              "      <td>0.000</td>\n",
              "      <td>0.000</td>\n",
              "      <td>0.000</td>\n",
              "      <td>0.000</td>\n",
              "      <td>0.000</td>\n",
              "      <td>0.000</td>\n",
              "    </tr>\n",
              "    <tr>\n",
              "      <td>job_retired</td>\n",
              "      <td>0.000</td>\n",
              "      <td>0.000</td>\n",
              "      <td>0.000</td>\n",
              "      <td>0.000</td>\n",
              "      <td>0.000</td>\n",
              "      <td>0.000</td>\n",
              "      <td>0.000</td>\n",
              "      <td>0.000</td>\n",
              "      <td>0.000</td>\n",
              "      <td>0.000</td>\n",
              "    </tr>\n",
              "    <tr>\n",
              "      <td>job_self-employed</td>\n",
              "      <td>0.000</td>\n",
              "      <td>0.000</td>\n",
              "      <td>0.000</td>\n",
              "      <td>0.000</td>\n",
              "      <td>0.000</td>\n",
              "      <td>0.000</td>\n",
              "      <td>0.000</td>\n",
              "      <td>0.000</td>\n",
              "      <td>0.000</td>\n",
              "      <td>0.000</td>\n",
              "    </tr>\n",
              "    <tr>\n",
              "      <td>job_services</td>\n",
              "      <td>0.000</td>\n",
              "      <td>1.000</td>\n",
              "      <td>1.000</td>\n",
              "      <td>0.000</td>\n",
              "      <td>1.000</td>\n",
              "      <td>1.000</td>\n",
              "      <td>0.000</td>\n",
              "      <td>0.000</td>\n",
              "      <td>0.000</td>\n",
              "      <td>1.000</td>\n",
              "    </tr>\n",
              "    <tr>\n",
              "      <td>job_student</td>\n",
              "      <td>0.000</td>\n",
              "      <td>0.000</td>\n",
              "      <td>0.000</td>\n",
              "      <td>0.000</td>\n",
              "      <td>0.000</td>\n",
              "      <td>0.000</td>\n",
              "      <td>0.000</td>\n",
              "      <td>0.000</td>\n",
              "      <td>0.000</td>\n",
              "      <td>0.000</td>\n",
              "    </tr>\n",
              "    <tr>\n",
              "      <td>job_technician</td>\n",
              "      <td>0.000</td>\n",
              "      <td>0.000</td>\n",
              "      <td>0.000</td>\n",
              "      <td>0.000</td>\n",
              "      <td>0.000</td>\n",
              "      <td>0.000</td>\n",
              "      <td>0.000</td>\n",
              "      <td>0.000</td>\n",
              "      <td>1.000</td>\n",
              "      <td>0.000</td>\n",
              "    </tr>\n",
              "    <tr>\n",
              "      <td>job_unemployed</td>\n",
              "      <td>0.000</td>\n",
              "      <td>0.000</td>\n",
              "      <td>0.000</td>\n",
              "      <td>0.000</td>\n",
              "      <td>0.000</td>\n",
              "      <td>0.000</td>\n",
              "      <td>0.000</td>\n",
              "      <td>0.000</td>\n",
              "      <td>0.000</td>\n",
              "      <td>0.000</td>\n",
              "    </tr>\n",
              "    <tr>\n",
              "      <td>job_unknown</td>\n",
              "      <td>0.000</td>\n",
              "      <td>0.000</td>\n",
              "      <td>0.000</td>\n",
              "      <td>0.000</td>\n",
              "      <td>0.000</td>\n",
              "      <td>0.000</td>\n",
              "      <td>0.000</td>\n",
              "      <td>0.000</td>\n",
              "      <td>0.000</td>\n",
              "      <td>0.000</td>\n",
              "    </tr>\n",
              "    <tr>\n",
              "      <td>marital_divorced</td>\n",
              "      <td>0.000</td>\n",
              "      <td>0.000</td>\n",
              "      <td>0.000</td>\n",
              "      <td>0.000</td>\n",
              "      <td>0.000</td>\n",
              "      <td>0.000</td>\n",
              "      <td>0.000</td>\n",
              "      <td>0.000</td>\n",
              "      <td>0.000</td>\n",
              "      <td>0.000</td>\n",
              "    </tr>\n",
              "    <tr>\n",
              "      <td>marital_married</td>\n",
              "      <td>1.000</td>\n",
              "      <td>1.000</td>\n",
              "      <td>1.000</td>\n",
              "      <td>1.000</td>\n",
              "      <td>1.000</td>\n",
              "      <td>1.000</td>\n",
              "      <td>1.000</td>\n",
              "      <td>1.000</td>\n",
              "      <td>0.000</td>\n",
              "      <td>0.000</td>\n",
              "    </tr>\n",
              "    <tr>\n",
              "      <td>marital_single</td>\n",
              "      <td>0.000</td>\n",
              "      <td>0.000</td>\n",
              "      <td>0.000</td>\n",
              "      <td>0.000</td>\n",
              "      <td>0.000</td>\n",
              "      <td>0.000</td>\n",
              "      <td>0.000</td>\n",
              "      <td>0.000</td>\n",
              "      <td>1.000</td>\n",
              "      <td>1.000</td>\n",
              "    </tr>\n",
              "    <tr>\n",
              "      <td>marital_unknown</td>\n",
              "      <td>0.000</td>\n",
              "      <td>0.000</td>\n",
              "      <td>0.000</td>\n",
              "      <td>0.000</td>\n",
              "      <td>0.000</td>\n",
              "      <td>0.000</td>\n",
              "      <td>0.000</td>\n",
              "      <td>0.000</td>\n",
              "      <td>0.000</td>\n",
              "      <td>0.000</td>\n",
              "    </tr>\n",
              "    <tr>\n",
              "      <td>education_basic.4y</td>\n",
              "      <td>1.000</td>\n",
              "      <td>0.000</td>\n",
              "      <td>0.000</td>\n",
              "      <td>0.000</td>\n",
              "      <td>0.000</td>\n",
              "      <td>0.000</td>\n",
              "      <td>0.000</td>\n",
              "      <td>0.000</td>\n",
              "      <td>0.000</td>\n",
              "      <td>0.000</td>\n",
              "    </tr>\n",
              "    <tr>\n",
              "      <td>education_basic.6y</td>\n",
              "      <td>0.000</td>\n",
              "      <td>0.000</td>\n",
              "      <td>0.000</td>\n",
              "      <td>1.000</td>\n",
              "      <td>0.000</td>\n",
              "      <td>0.000</td>\n",
              "      <td>0.000</td>\n",
              "      <td>0.000</td>\n",
              "      <td>0.000</td>\n",
              "      <td>0.000</td>\n",
              "    </tr>\n",
              "    <tr>\n",
              "      <td>education_basic.9y</td>\n",
              "      <td>0.000</td>\n",
              "      <td>0.000</td>\n",
              "      <td>0.000</td>\n",
              "      <td>0.000</td>\n",
              "      <td>0.000</td>\n",
              "      <td>1.000</td>\n",
              "      <td>0.000</td>\n",
              "      <td>0.000</td>\n",
              "      <td>0.000</td>\n",
              "      <td>0.000</td>\n",
              "    </tr>\n",
              "    <tr>\n",
              "      <td>education_high.school</td>\n",
              "      <td>0.000</td>\n",
              "      <td>1.000</td>\n",
              "      <td>1.000</td>\n",
              "      <td>0.000</td>\n",
              "      <td>1.000</td>\n",
              "      <td>0.000</td>\n",
              "      <td>0.000</td>\n",
              "      <td>0.000</td>\n",
              "      <td>0.000</td>\n",
              "      <td>1.000</td>\n",
              "    </tr>\n",
              "    <tr>\n",
              "      <td>education_illiterate</td>\n",
              "      <td>0.000</td>\n",
              "      <td>0.000</td>\n",
              "      <td>0.000</td>\n",
              "      <td>0.000</td>\n",
              "      <td>0.000</td>\n",
              "      <td>0.000</td>\n",
              "      <td>0.000</td>\n",
              "      <td>0.000</td>\n",
              "      <td>0.000</td>\n",
              "      <td>0.000</td>\n",
              "    </tr>\n",
              "    <tr>\n",
              "      <td>education_professional.course</td>\n",
              "      <td>0.000</td>\n",
              "      <td>0.000</td>\n",
              "      <td>0.000</td>\n",
              "      <td>0.000</td>\n",
              "      <td>0.000</td>\n",
              "      <td>0.000</td>\n",
              "      <td>1.000</td>\n",
              "      <td>0.000</td>\n",
              "      <td>1.000</td>\n",
              "      <td>0.000</td>\n",
              "    </tr>\n",
              "    <tr>\n",
              "      <td>education_university.degree</td>\n",
              "      <td>0.000</td>\n",
              "      <td>0.000</td>\n",
              "      <td>0.000</td>\n",
              "      <td>0.000</td>\n",
              "      <td>0.000</td>\n",
              "      <td>0.000</td>\n",
              "      <td>0.000</td>\n",
              "      <td>0.000</td>\n",
              "      <td>0.000</td>\n",
              "      <td>0.000</td>\n",
              "    </tr>\n",
              "    <tr>\n",
              "      <td>education_unknown</td>\n",
              "      <td>0.000</td>\n",
              "      <td>0.000</td>\n",
              "      <td>0.000</td>\n",
              "      <td>0.000</td>\n",
              "      <td>0.000</td>\n",
              "      <td>0.000</td>\n",
              "      <td>0.000</td>\n",
              "      <td>1.000</td>\n",
              "      <td>0.000</td>\n",
              "      <td>0.000</td>\n",
              "    </tr>\n",
              "    <tr>\n",
              "      <td>default_no</td>\n",
              "      <td>1.000</td>\n",
              "      <td>0.000</td>\n",
              "      <td>1.000</td>\n",
              "      <td>1.000</td>\n",
              "      <td>1.000</td>\n",
              "      <td>0.000</td>\n",
              "      <td>1.000</td>\n",
              "      <td>0.000</td>\n",
              "      <td>1.000</td>\n",
              "      <td>1.000</td>\n",
              "    </tr>\n",
              "    <tr>\n",
              "      <td>default_unknown</td>\n",
              "      <td>0.000</td>\n",
              "      <td>1.000</td>\n",
              "      <td>0.000</td>\n",
              "      <td>0.000</td>\n",
              "      <td>0.000</td>\n",
              "      <td>1.000</td>\n",
              "      <td>0.000</td>\n",
              "      <td>1.000</td>\n",
              "      <td>0.000</td>\n",
              "      <td>0.000</td>\n",
              "    </tr>\n",
              "    <tr>\n",
              "      <td>default_yes</td>\n",
              "      <td>0.000</td>\n",
              "      <td>0.000</td>\n",
              "      <td>0.000</td>\n",
              "      <td>0.000</td>\n",
              "      <td>0.000</td>\n",
              "      <td>0.000</td>\n",
              "      <td>0.000</td>\n",
              "      <td>0.000</td>\n",
              "      <td>0.000</td>\n",
              "      <td>0.000</td>\n",
              "    </tr>\n",
              "    <tr>\n",
              "      <td>housing_no</td>\n",
              "      <td>1.000</td>\n",
              "      <td>1.000</td>\n",
              "      <td>0.000</td>\n",
              "      <td>1.000</td>\n",
              "      <td>1.000</td>\n",
              "      <td>1.000</td>\n",
              "      <td>1.000</td>\n",
              "      <td>1.000</td>\n",
              "      <td>0.000</td>\n",
              "      <td>0.000</td>\n",
              "    </tr>\n",
              "    <tr>\n",
              "      <td>housing_unknown</td>\n",
              "      <td>0.000</td>\n",
              "      <td>0.000</td>\n",
              "      <td>0.000</td>\n",
              "      <td>0.000</td>\n",
              "      <td>0.000</td>\n",
              "      <td>0.000</td>\n",
              "      <td>0.000</td>\n",
              "      <td>0.000</td>\n",
              "      <td>0.000</td>\n",
              "      <td>0.000</td>\n",
              "    </tr>\n",
              "    <tr>\n",
              "      <td>housing_yes</td>\n",
              "      <td>0.000</td>\n",
              "      <td>0.000</td>\n",
              "      <td>1.000</td>\n",
              "      <td>0.000</td>\n",
              "      <td>0.000</td>\n",
              "      <td>0.000</td>\n",
              "      <td>0.000</td>\n",
              "      <td>0.000</td>\n",
              "      <td>1.000</td>\n",
              "      <td>1.000</td>\n",
              "    </tr>\n",
              "    <tr>\n",
              "      <td>loan_no</td>\n",
              "      <td>1.000</td>\n",
              "      <td>1.000</td>\n",
              "      <td>1.000</td>\n",
              "      <td>1.000</td>\n",
              "      <td>0.000</td>\n",
              "      <td>1.000</td>\n",
              "      <td>1.000</td>\n",
              "      <td>1.000</td>\n",
              "      <td>1.000</td>\n",
              "      <td>1.000</td>\n",
              "    </tr>\n",
              "    <tr>\n",
              "      <td>loan_unknown</td>\n",
              "      <td>0.000</td>\n",
              "      <td>0.000</td>\n",
              "      <td>0.000</td>\n",
              "      <td>0.000</td>\n",
              "      <td>0.000</td>\n",
              "      <td>0.000</td>\n",
              "      <td>0.000</td>\n",
              "      <td>0.000</td>\n",
              "      <td>0.000</td>\n",
              "      <td>0.000</td>\n",
              "    </tr>\n",
              "    <tr>\n",
              "      <td>loan_yes</td>\n",
              "      <td>0.000</td>\n",
              "      <td>0.000</td>\n",
              "      <td>0.000</td>\n",
              "      <td>0.000</td>\n",
              "      <td>1.000</td>\n",
              "      <td>0.000</td>\n",
              "      <td>0.000</td>\n",
              "      <td>0.000</td>\n",
              "      <td>0.000</td>\n",
              "      <td>0.000</td>\n",
              "    </tr>\n",
              "    <tr>\n",
              "      <td>contact_cellular</td>\n",
              "      <td>0.000</td>\n",
              "      <td>0.000</td>\n",
              "      <td>0.000</td>\n",
              "      <td>0.000</td>\n",
              "      <td>0.000</td>\n",
              "      <td>0.000</td>\n",
              "      <td>0.000</td>\n",
              "      <td>0.000</td>\n",
              "      <td>0.000</td>\n",
              "      <td>0.000</td>\n",
              "    </tr>\n",
              "    <tr>\n",
              "      <td>contact_telephone</td>\n",
              "      <td>1.000</td>\n",
              "      <td>1.000</td>\n",
              "      <td>1.000</td>\n",
              "      <td>1.000</td>\n",
              "      <td>1.000</td>\n",
              "      <td>1.000</td>\n",
              "      <td>1.000</td>\n",
              "      <td>1.000</td>\n",
              "      <td>1.000</td>\n",
              "      <td>1.000</td>\n",
              "    </tr>\n",
              "    <tr>\n",
              "      <td>poutcome_failure</td>\n",
              "      <td>0.000</td>\n",
              "      <td>0.000</td>\n",
              "      <td>0.000</td>\n",
              "      <td>0.000</td>\n",
              "      <td>0.000</td>\n",
              "      <td>0.000</td>\n",
              "      <td>0.000</td>\n",
              "      <td>0.000</td>\n",
              "      <td>0.000</td>\n",
              "      <td>0.000</td>\n",
              "    </tr>\n",
              "    <tr>\n",
              "      <td>poutcome_nonexistent</td>\n",
              "      <td>1.000</td>\n",
              "      <td>1.000</td>\n",
              "      <td>1.000</td>\n",
              "      <td>1.000</td>\n",
              "      <td>1.000</td>\n",
              "      <td>1.000</td>\n",
              "      <td>1.000</td>\n",
              "      <td>1.000</td>\n",
              "      <td>1.000</td>\n",
              "      <td>1.000</td>\n",
              "    </tr>\n",
              "    <tr>\n",
              "      <td>poutcome_success</td>\n",
              "      <td>0.000</td>\n",
              "      <td>0.000</td>\n",
              "      <td>0.000</td>\n",
              "      <td>0.000</td>\n",
              "      <td>0.000</td>\n",
              "      <td>0.000</td>\n",
              "      <td>0.000</td>\n",
              "      <td>0.000</td>\n",
              "      <td>0.000</td>\n",
              "      <td>0.000</td>\n",
              "    </tr>\n",
              "  </tbody>\n",
              "</table>\n",
              "</div>"
            ],
            "text/plain": [
              "                                      0         1         2         3  \\\n",
              "age                              56.000    57.000    37.000    40.000   \n",
              "month                             6.000     6.000     6.000     6.000   \n",
              "day_of_week                       1.000     1.000     1.000     1.000   \n",
              "duration                        261.000   149.000   226.000   151.000   \n",
              "campaign                          1.000     1.000     1.000     1.000   \n",
              "pdays                           999.000   999.000   999.000   999.000   \n",
              "previous                          0.000     0.000     0.000     0.000   \n",
              "emp.var.rate                      1.100     1.100     1.100     1.100   \n",
              "cons.price.idx                   93.994    93.994    93.994    93.994   \n",
              "cons.conf.idx                   -36.400   -36.400   -36.400   -36.400   \n",
              "euribor3m                         4.857     4.857     4.857     4.857   \n",
              "nr.employed                    5191.000  5191.000  5191.000  5191.000   \n",
              "y                                 0.000     0.000     0.000     0.000   \n",
              "job_admin.                        0.000     0.000     0.000     1.000   \n",
              "job_blue-collar                   0.000     0.000     0.000     0.000   \n",
              "job_entrepreneur                  0.000     0.000     0.000     0.000   \n",
              "job_housemaid                     1.000     0.000     0.000     0.000   \n",
              "job_management                    0.000     0.000     0.000     0.000   \n",
              "job_retired                       0.000     0.000     0.000     0.000   \n",
              "job_self-employed                 0.000     0.000     0.000     0.000   \n",
              "job_services                      0.000     1.000     1.000     0.000   \n",
              "job_student                       0.000     0.000     0.000     0.000   \n",
              "job_technician                    0.000     0.000     0.000     0.000   \n",
              "job_unemployed                    0.000     0.000     0.000     0.000   \n",
              "job_unknown                       0.000     0.000     0.000     0.000   \n",
              "marital_divorced                  0.000     0.000     0.000     0.000   \n",
              "marital_married                   1.000     1.000     1.000     1.000   \n",
              "marital_single                    0.000     0.000     0.000     0.000   \n",
              "marital_unknown                   0.000     0.000     0.000     0.000   \n",
              "education_basic.4y                1.000     0.000     0.000     0.000   \n",
              "education_basic.6y                0.000     0.000     0.000     1.000   \n",
              "education_basic.9y                0.000     0.000     0.000     0.000   \n",
              "education_high.school             0.000     1.000     1.000     0.000   \n",
              "education_illiterate              0.000     0.000     0.000     0.000   \n",
              "education_professional.course     0.000     0.000     0.000     0.000   \n",
              "education_university.degree       0.000     0.000     0.000     0.000   \n",
              "education_unknown                 0.000     0.000     0.000     0.000   \n",
              "default_no                        1.000     0.000     1.000     1.000   \n",
              "default_unknown                   0.000     1.000     0.000     0.000   \n",
              "default_yes                       0.000     0.000     0.000     0.000   \n",
              "housing_no                        1.000     1.000     0.000     1.000   \n",
              "housing_unknown                   0.000     0.000     0.000     0.000   \n",
              "housing_yes                       0.000     0.000     1.000     0.000   \n",
              "loan_no                           1.000     1.000     1.000     1.000   \n",
              "loan_unknown                      0.000     0.000     0.000     0.000   \n",
              "loan_yes                          0.000     0.000     0.000     0.000   \n",
              "contact_cellular                  0.000     0.000     0.000     0.000   \n",
              "contact_telephone                 1.000     1.000     1.000     1.000   \n",
              "poutcome_failure                  0.000     0.000     0.000     0.000   \n",
              "poutcome_nonexistent              1.000     1.000     1.000     1.000   \n",
              "poutcome_success                  0.000     0.000     0.000     0.000   \n",
              "\n",
              "                                      4         5         6         7  \\\n",
              "age                              56.000    45.000    59.000    41.000   \n",
              "month                             6.000     6.000     6.000     6.000   \n",
              "day_of_week                       1.000     1.000     1.000     1.000   \n",
              "duration                        307.000   198.000   139.000   217.000   \n",
              "campaign                          1.000     1.000     1.000     1.000   \n",
              "pdays                           999.000   999.000   999.000   999.000   \n",
              "previous                          0.000     0.000     0.000     0.000   \n",
              "emp.var.rate                      1.100     1.100     1.100     1.100   \n",
              "cons.price.idx                   93.994    93.994    93.994    93.994   \n",
              "cons.conf.idx                   -36.400   -36.400   -36.400   -36.400   \n",
              "euribor3m                         4.857     4.857     4.857     4.857   \n",
              "nr.employed                    5191.000  5191.000  5191.000  5191.000   \n",
              "y                                 0.000     0.000     0.000     0.000   \n",
              "job_admin.                        0.000     0.000     1.000     0.000   \n",
              "job_blue-collar                   0.000     0.000     0.000     1.000   \n",
              "job_entrepreneur                  0.000     0.000     0.000     0.000   \n",
              "job_housemaid                     0.000     0.000     0.000     0.000   \n",
              "job_management                    0.000     0.000     0.000     0.000   \n",
              "job_retired                       0.000     0.000     0.000     0.000   \n",
              "job_self-employed                 0.000     0.000     0.000     0.000   \n",
              "job_services                      1.000     1.000     0.000     0.000   \n",
              "job_student                       0.000     0.000     0.000     0.000   \n",
              "job_technician                    0.000     0.000     0.000     0.000   \n",
              "job_unemployed                    0.000     0.000     0.000     0.000   \n",
              "job_unknown                       0.000     0.000     0.000     0.000   \n",
              "marital_divorced                  0.000     0.000     0.000     0.000   \n",
              "marital_married                   1.000     1.000     1.000     1.000   \n",
              "marital_single                    0.000     0.000     0.000     0.000   \n",
              "marital_unknown                   0.000     0.000     0.000     0.000   \n",
              "education_basic.4y                0.000     0.000     0.000     0.000   \n",
              "education_basic.6y                0.000     0.000     0.000     0.000   \n",
              "education_basic.9y                0.000     1.000     0.000     0.000   \n",
              "education_high.school             1.000     0.000     0.000     0.000   \n",
              "education_illiterate              0.000     0.000     0.000     0.000   \n",
              "education_professional.course     0.000     0.000     1.000     0.000   \n",
              "education_university.degree       0.000     0.000     0.000     0.000   \n",
              "education_unknown                 0.000     0.000     0.000     1.000   \n",
              "default_no                        1.000     0.000     1.000     0.000   \n",
              "default_unknown                   0.000     1.000     0.000     1.000   \n",
              "default_yes                       0.000     0.000     0.000     0.000   \n",
              "housing_no                        1.000     1.000     1.000     1.000   \n",
              "housing_unknown                   0.000     0.000     0.000     0.000   \n",
              "housing_yes                       0.000     0.000     0.000     0.000   \n",
              "loan_no                           0.000     1.000     1.000     1.000   \n",
              "loan_unknown                      0.000     0.000     0.000     0.000   \n",
              "loan_yes                          1.000     0.000     0.000     0.000   \n",
              "contact_cellular                  0.000     0.000     0.000     0.000   \n",
              "contact_telephone                 1.000     1.000     1.000     1.000   \n",
              "poutcome_failure                  0.000     0.000     0.000     0.000   \n",
              "poutcome_nonexistent              1.000     1.000     1.000     1.000   \n",
              "poutcome_success                  0.000     0.000     0.000     0.000   \n",
              "\n",
              "                                      8         9  \n",
              "age                              24.000    25.000  \n",
              "month                             6.000     6.000  \n",
              "day_of_week                       1.000     1.000  \n",
              "duration                        380.000    50.000  \n",
              "campaign                          1.000     1.000  \n",
              "pdays                           999.000   999.000  \n",
              "previous                          0.000     0.000  \n",
              "emp.var.rate                      1.100     1.100  \n",
              "cons.price.idx                   93.994    93.994  \n",
              "cons.conf.idx                   -36.400   -36.400  \n",
              "euribor3m                         4.857     4.857  \n",
              "nr.employed                    5191.000  5191.000  \n",
              "y                                 0.000     0.000  \n",
              "job_admin.                        0.000     0.000  \n",
              "job_blue-collar                   0.000     0.000  \n",
              "job_entrepreneur                  0.000     0.000  \n",
              "job_housemaid                     0.000     0.000  \n",
              "job_management                    0.000     0.000  \n",
              "job_retired                       0.000     0.000  \n",
              "job_self-employed                 0.000     0.000  \n",
              "job_services                      0.000     1.000  \n",
              "job_student                       0.000     0.000  \n",
              "job_technician                    1.000     0.000  \n",
              "job_unemployed                    0.000     0.000  \n",
              "job_unknown                       0.000     0.000  \n",
              "marital_divorced                  0.000     0.000  \n",
              "marital_married                   0.000     0.000  \n",
              "marital_single                    1.000     1.000  \n",
              "marital_unknown                   0.000     0.000  \n",
              "education_basic.4y                0.000     0.000  \n",
              "education_basic.6y                0.000     0.000  \n",
              "education_basic.9y                0.000     0.000  \n",
              "education_high.school             0.000     1.000  \n",
              "education_illiterate              0.000     0.000  \n",
              "education_professional.course     1.000     0.000  \n",
              "education_university.degree       0.000     0.000  \n",
              "education_unknown                 0.000     0.000  \n",
              "default_no                        1.000     1.000  \n",
              "default_unknown                   0.000     0.000  \n",
              "default_yes                       0.000     0.000  \n",
              "housing_no                        0.000     0.000  \n",
              "housing_unknown                   0.000     0.000  \n",
              "housing_yes                       1.000     1.000  \n",
              "loan_no                           1.000     1.000  \n",
              "loan_unknown                      0.000     0.000  \n",
              "loan_yes                          0.000     0.000  \n",
              "contact_cellular                  0.000     0.000  \n",
              "contact_telephone                 1.000     1.000  \n",
              "poutcome_failure                  0.000     0.000  \n",
              "poutcome_nonexistent              1.000     1.000  \n",
              "poutcome_success                  0.000     0.000  "
            ]
          },
          "metadata": {
            "tags": []
          },
          "execution_count": 57
        }
      ]
    },
    {
      "cell_type": "markdown",
      "metadata": {
        "id": "l-DTc6lWZdpu"
      },
      "source": [
        "**Creating Independent and Dependent Features**"
      ]
    },
    {
      "cell_type": "code",
      "metadata": {
        "id": "k1OlZcDyS7Ev",
        "outputId": "1e44a86a-85e8-4905-ecb9-40108ac7ee98",
        "colab": {
          "base_uri": "https://localhost:8080/",
          "height": 54
        }
      },
      "source": [
        "columns = df.columns.tolist()\n",
        "# Filtering the columns to remove data we do not want \n",
        "columns = [c for c in columns if c not in [\"y\"]]\n",
        "# Storing the variable we are predicting \n",
        "target = \"y\"\n",
        "# Defining a random state \n",
        "state = np.random.RandomState(42)\n",
        "X = df[columns]\n",
        "Y = df[target]\n",
        "X_outliers = state.uniform(low=0, high=1, size=(X.shape[0], X.shape[1]))\n",
        "# Printing the shapes of X & Y\n",
        "print(X.shape)\n",
        "print(Y.shape)"
      ],
      "execution_count": null,
      "outputs": [
        {
          "output_type": "stream",
          "text": [
            "(41188, 50)\n",
            "(41188,)\n"
          ],
          "name": "stdout"
        }
      ]
    },
    {
      "cell_type": "code",
      "metadata": {
        "id": "PZjVgbqZUE_T",
        "outputId": "608857c8-df17-4a7c-fab7-8ea74fbe5015",
        "colab": {
          "base_uri": "https://localhost:8080/",
          "height": 313
        }
      },
      "source": [
        "# Calculating and Representing the count of categorical variables yes(1) & no(0) of the 'y' class with the help of \"bar chart\"\n",
        "import matplotlib.pyplot as plt\n",
        "%matplotlib inline\n",
        "count_classes = pd.value_counts(df['y'], sort = True)\n",
        "\n",
        "count_classes.plot(kind = 'bar', rot=0)\n",
        "\n",
        "plt.title(\"y Class Distribution\")\n",
        "\n",
        "plt.xticks(range(2))\n",
        "\n",
        "plt.xlabel(\"Class\")\n",
        "\n",
        "plt.ylabel(\"Frequency\")"
      ],
      "execution_count": null,
      "outputs": [
        {
          "output_type": "execute_result",
          "data": {
            "text/plain": [
              "Text(0, 0.5, 'Frequency')"
            ]
          },
          "metadata": {
            "tags": []
          },
          "execution_count": 59
        },
        {
          "output_type": "display_data",
          "data": {
            "image/png": "[encoded data removed]",
            "text/plain": [
              "<Figure size 432x288 with 1 Axes>"
            ]
          },
          "metadata": {
            "tags": [],
            "needs_background": "light"
          }
        }
      ]
    },
    {
      "cell_type": "code",
      "metadata": {
        "id": "UO452HG_W54U"
      },
      "source": [
        "#Getting the count of \"y\" target columns categories \"yes\" and \"no\" which represents Product Purchased and Product Not Purchased Respectively.\n",
        "yes = df[df['y']==1]\n",
        "no = df[df['y']==0]"
      ],
      "execution_count": null,
      "outputs": []
    },
    {
      "cell_type": "code",
      "metadata": {
        "id": "A4zB9CJbZ9_i",
        "outputId": "dd621f2d-ce21-4c35-c057-4d1ae3ed8530",
        "colab": {
          "base_uri": "https://localhost:8080/",
          "height": 35
        }
      },
      "source": [
        "print(yes.shape,no.shape)"
      ],
      "execution_count": null,
      "outputs": [
        {
          "output_type": "stream",
          "text": [
            "(4640, 51) (36548, 51)\n"
          ],
          "name": "stdout"
        }
      ]
    },
    {
      "cell_type": "markdown",
      "metadata": {
        "id": "M860e9ngdp4d"
      },
      "source": [
        "**1(a) Over Sampling of minority class**"
      ]
    },
    {
      "cell_type": "code",
      "metadata": {
        "id": "ciYLyBclkfxM",
        "outputId": "18251c42-8ef6-4059-ee41-8dbd905823cb",
        "colab": {
          "base_uri": "https://localhost:8080/",
          "height": 35
        }
      },
      "source": [
        "#Using SMOTE method to create Oversampled Dataset from the Imbalanced Dataset\n",
        "from imblearn.over_sampling import SMOTE\n",
        "OverSampler =  SMOTE()\n",
        "X_oversample, y_oversample = OverSampler.fit_sample(X, Y)\n",
        "X_oversample.shape,y_oversample.shape"
      ],
      "execution_count": null,
      "outputs": [
        {
          "output_type": "execute_result",
          "data": {
            "text/plain": [
              "((73096, 50), (73096,))"
            ]
          },
          "metadata": {
            "tags": []
          },
          "execution_count": 62
        }
      ]
    },
    {
      "cell_type": "code",
      "metadata": {
        "id": "MVyMkTWnlHet",
        "outputId": "88dc231f-f569-40f1-902c-d9cfa10fde17",
        "colab": {
          "base_uri": "https://localhost:8080/",
          "height": 54
        }
      },
      "source": [
        "from collections import Counter\n",
        "print('Original dataset shape {}'.format(Counter(Y)))\n",
        "print('Resampled dataset shape {}'.format(Counter(y_oversample)))"
      ],
      "execution_count": null,
      "outputs": [
        {
          "output_type": "stream",
          "text": [
            "Original dataset shape Counter({0: 36548, 1: 4640})\n",
            "Resampled dataset shape Counter({0: 36548, 1: 36548})\n"
          ],
          "name": "stdout"
        }
      ]
    },
    {
      "cell_type": "markdown",
      "metadata": {
        "id": "H12polmsdwKa"
      },
      "source": [
        "**1(b) Under Sampling of majority class**"
      ]
    },
    {
      "cell_type": "code",
      "metadata": {
        "id": "mvckDg3SaNAe"
      },
      "source": [
        "import sklearn\n",
        "#Importing \"imbalanced-learn\" library\n",
        "from imblearn.under_sampling import NearMiss\n",
        "# Implementing Undersampling for Handling Imbalanced  Dataset \n",
        "nm = NearMiss(random_state=42)\n",
        "#Generating new independent and dependent feature based on the count and the under sampling of the \"y\" output feature\n",
        "X_undersample,y_undersample=nm.fit_sample(X,Y)"
      ],
      "execution_count": null,
      "outputs": []
    },
    {
      "cell_type": "code",
      "metadata": {
        "id": "vQACcmDibQNI",
        "outputId": "59e57c72-dbf8-4b7c-9817-b90ed839d615",
        "colab": {
          "base_uri": "https://localhost:8080/",
          "height": 35
        }
      },
      "source": [
        "X_undersample.shape,y_undersample.shape"
      ],
      "execution_count": null,
      "outputs": [
        {
          "output_type": "execute_result",
          "data": {
            "text/plain": [
              "((9280, 50), (9280,))"
            ]
          },
          "metadata": {
            "tags": []
          },
          "execution_count": 65
        }
      ]
    },
    {
      "cell_type": "code",
      "metadata": {
        "id": "WXbXjWfmcXog",
        "outputId": "282d8d6c-3573-43db-e325-45f617afa417",
        "colab": {
          "base_uri": "https://localhost:8080/",
          "height": 54
        }
      },
      "source": [
        "from collections import Counter\n",
        "print('Original dataset shape {}'.format(Counter(Y)))\n",
        "print('Resampled undersampled dataset shape {}'.format(Counter(y_undersample)))"
      ],
      "execution_count": null,
      "outputs": [
        {
          "output_type": "stream",
          "text": [
            "Original dataset shape Counter({0: 36548, 1: 4640})\n",
            "Resampled undersampled dataset shape Counter({0: 4640, 1: 4640})\n"
          ],
          "name": "stdout"
        }
      ]
    },
    {
      "cell_type": "markdown",
      "metadata": {
        "id": "FABdHIDSkFBJ"
      },
      "source": [
        "**1(c) Balanced Sampling**"
      ]
    },
    {
      "cell_type": "code",
      "metadata": {
        "id": "uKniggiheWWq"
      },
      "source": [
        "#SMOTETomek is a hybrid method which uses an under sampling method(Tomek) with an over sampling method(SMOTE)\n",
        "from imblearn.combine import SMOTETomek\n",
        "from imblearn.under_sampling import NearMiss\n",
        "# Implementing Balanced Sampling for Handling Imbalanced Dataset\n",
        "smk = SMOTETomek(ratio=1)\n",
        "X_balanced_sample,y_balanced_sample=smk.fit_sample(X,Y)"
      ],
      "execution_count": null,
      "outputs": []
    },
    {
      "cell_type": "code",
      "metadata": {
        "id": "7VLoS4USedHU",
        "outputId": "17d0f830-3165-4182-ba7d-aa86bb9dd1c9",
        "colab": {
          "base_uri": "https://localhost:8080/",
          "height": 35
        }
      },
      "source": [
        "X_balanced_sample.shape,y_balanced_sample.shape"
      ],
      "execution_count": null,
      "outputs": [
        {
          "output_type": "execute_result",
          "data": {
            "text/plain": [
              "((72590, 50), (72590,))"
            ]
          },
          "metadata": {
            "tags": []
          },
          "execution_count": 68
        }
      ]
    },
    {
      "cell_type": "code",
      "metadata": {
        "id": "S9Xb2hfQfPua",
        "outputId": "4ab8d8c6-192f-485a-b636-10a10ed848e6",
        "colab": {
          "base_uri": "https://localhost:8080/",
          "height": 54
        }
      },
      "source": [
        "from collections import Counter\n",
        "print('Original dataset shape {}'.format(Counter(Y)))\n",
        "print('Resampled dataset shape {}'.format(Counter(y_oversample)))"
      ],
      "execution_count": null,
      "outputs": [
        {
          "output_type": "stream",
          "text": [
            "Original dataset shape Counter({0: 36548, 1: 4640})\n",
            "Resampled dataset shape Counter({0: 36548, 1: 36548})\n"
          ],
          "name": "stdout"
        }
      ]
    },
    {
      "cell_type": "markdown",
      "metadata": {
        "id": "TgICQBwr439R"
      },
      "source": [
        "**2. Implementation of four algorithms namely K-Nearest Neighbors(KNN),Support Vector Machine(SVM),Decision Tree and Naive Bayesian Learner Algorithms against three resampled datasets using tenfold cross validation.**"
      ]
    },
    {
      "cell_type": "markdown",
      "metadata": {
        "id": "t74hwp57a269"
      },
      "source": [
        "**Implementing K-Nearest-Neighbors algorithm for Oversampled dataset using tenfold cross validation.**"
      ]
    },
    {
      "cell_type": "code",
      "metadata": {
        "id": "sFyYDKC0vtZl",
        "outputId": "fa60dfb0-8cba-4774-ba6a-4b6d99909e13"
      },
      "source": [
        "from sklearn.neighbors import KNeighborsClassifier\n",
        "from sklearn.model_selection import cross_val_score\n",
        "import numpy as np\n",
        "#creating a new KNN model\n",
        "knn_cv = KNeighborsClassifier(n_neighbors= 5)\n",
        "#training our model with cv of 10 \n",
        "cross_val_scores = cross_val_score(knn_cv, X_oversample, y_oversample, cv=10)\n",
        "#printing each cross validation score (accuracy) and finding the average of them\n",
        "knn_oversampled_scores = print('knn_oversampled_cross_val_scores:{}'.format(cross_val_scores))\n",
        "knn_oversampled_best_score = print('knn_oversampled_cross_val_scores mean:{}'.format(np.mean(cross_val_scores)))"
      ],
      "execution_count": null,
      "outputs": [
        {
          "output_type": "stream",
          "text": [
            "knn_oversampled_cross_val_scores:[0.95854993 0.95731874 0.95512996 0.94870041 0.94240766 0.9374829\n",
            " 0.84430155 0.75058147 0.84922698 0.60268163]\n",
            "knn_oversampled_cross_val_scores mean:0.87463812300447\n"
          ],
          "name": "stdout"
        }
      ]
    },
    {
      "cell_type": "markdown",
      "metadata": {
        "id": "PAc6-7n2flqC"
      },
      "source": [
        "**Implementing K-Nearest-Neighbors algorithm for Undersampled dataset using tenfold cross validation.**"
      ]
    },
    {
      "cell_type": "code",
      "metadata": {
        "id": "ztv_FHfrbPuR",
        "outputId": "8c9e1344-92b9-4303-8709-89ca6e6d55a9",
        "colab": {
          "base_uri": "https://localhost:8080/",
          "height": 72
        }
      },
      "source": [
        "from sklearn.neighbors import KNeighborsClassifier\n",
        "from sklearn.model_selection import cross_val_score\n",
        "import numpy as np\n",
        "#creating a new KNN model\n",
        "knn_cv = KNeighborsClassifier(n_neighbors= 5)\n",
        "#training our model with cv of 10 \n",
        "cross_val_scores = cross_val_score(knn_cv, X_undersample, y_undersample, cv=10)\n",
        "#printing each cross validation score (accuracy) and finding the average of them\n",
        "knn_undersampled_scores = print('knn_undersampled_cross_val_scores:{}'.format(cross_val_scores))\n",
        "knn_undersampled_best_score = print('knn_undersampled_cross_val_scores mean:{}'.format(np.mean(cross_val_scores)))"
      ],
      "execution_count": null,
      "outputs": [
        {
          "output_type": "stream",
          "text": [
            "knn_undersampled_cross_val_scores:[0.5387931  0.63469828 0.63038793 0.57327586 0.6325431  0.68211207\n",
            " 0.80603448 0.84267241 0.90193966 0.86206897]\n",
            "knn_undersampled_cross_val_scores mean:0.7104525862068966\n"
          ],
          "name": "stdout"
        }
      ]
    },
    {
      "cell_type": "markdown",
      "metadata": {
        "id": "XAP-bBEYjciT"
      },
      "source": [
        "**Implementing K-Nearest-Neighbors algorithm for Balanced dataset using tenfold cross validation.**"
      ]
    },
    {
      "cell_type": "code",
      "metadata": {
        "id": "Xa_5Tz88jvDz",
        "outputId": "30924327-d559-4f77-fe5d-ab1922ff768e"
      },
      "source": [
        "from sklearn.neighbors import KNeighborsClassifier\n",
        "from sklearn.model_selection import cross_val_score\n",
        "import numpy as np\n",
        "#creating a new KNN model\n",
        "knn_cv = KNeighborsClassifier(n_neighbors= 5)\n",
        "#training our model with cv of 10 \n",
        "cross_val_scores = cross_val_score(knn_cv, X_balanced_sample, y_balanced_sample, cv=10)\n",
        "#printing each cross validation score (accuracy) and finding the average of them\n",
        "knn_balance_sampled_scores = print('knn_balance_sampled_cross_val_scores:{}'.format(cross_val_scores))\n",
        "knn_balance_sampled_best_score = print('knn_balance_sampled_cross_val_scores mean:{}'.format(np.mean(cross_val_scores)))"
      ],
      "execution_count": null,
      "outputs": [
        {
          "output_type": "stream",
          "text": [
            "knn_balance_sampled_cross_val_scores:[0.95939436 0.95898142 0.9559532  0.95003441 0.94480385 0.93503097\n",
            " 0.85767378 0.75320028 0.84735031 0.61197522]\n",
            "knn_balance_sampled_cross_val_scores mean:0.8774397797660013\n"
          ],
          "name": "stdout"
        }
      ]
    },
    {
      "cell_type": "markdown",
      "metadata": {
        "id": "tnKVk4Lc5WZe"
      },
      "source": [
        "**Implementing Decision Tree algorithm for Oversampled dataset using tenfold cross validation.**"
      ]
    },
    {
      "cell_type": "code",
      "metadata": {
        "id": "kwG8UcoErlBI",
        "outputId": "a17f1359-2227-4c6f-ec45-ce698f7db82f"
      },
      "source": [
        "from sklearn.tree import DecisionTreeClassifier\n",
        "#creating a new decision tree model\n",
        "DecisionTree_classifier = DecisionTreeClassifier()\n",
        "#training our model with cross value of 10\n",
        "decisiontree_oversampled_data_scores = cross_val_score(DecisionTree_classifier, X_oversample, y_oversample, cv=10)\n",
        "#printing the values of 10 scores\n",
        "decision_tree_oversampled_scores = print('decision_tree_oversampled_cross_val_scores:{}'.format(decisiontree_oversampled_data_scores))\n",
        "decision_tree_oversampled_best_score = print('decision_tree_oversampled_cross_val_scores mean:{}'.format(np.mean(decisiontree_oversampled_data_scores)))"
      ],
      "execution_count": null,
      "outputs": [
        {
          "output_type": "stream",
          "text": [
            "decision_tree_oversampled_cross_val_scores:[0.63187415 0.92270862 0.94911081 0.96922025 0.9621067  0.9246238\n",
            " 0.74428786 0.55602682 0.87905322 0.57887536]\n",
            "decision_tree_oversampled_cross_val_scores mean:0.8117887584577529\n"
          ],
          "name": "stdout"
        }
      ]
    },
    {
      "cell_type": "markdown",
      "metadata": {
        "id": "_K_9cDlz6Ztm"
      },
      "source": [
        "**Implementing Decision Tree algorithm for Undersampled dataset using tenfold cross validation**"
      ]
    },
    {
      "cell_type": "code",
      "metadata": {
        "id": "4zdSPXgM6XAO",
        "outputId": "36ab31d3-d51d-440e-b49b-62a7fa8eeb1d",
        "colab": {
          "base_uri": "https://localhost:8080/",
          "height": 54
        }
      },
      "source": [
        "from sklearn.tree import DecisionTreeClassifier\n",
        "#creating a new decision tree model\n",
        "DecisionTree_classifier = DecisionTreeClassifier()\n",
        "#training our model with cross value of 10\n",
        "decisiontree_undersampled_data_scores = cross_val_score(DecisionTree_classifier, X_undersample, y_undersample, cv=10)\n",
        "#printing the values of 10 scores\n",
        "decision_tree_undersampled_scores = print('decision_tree_oversampled_cross_val_scores:{}'.format(decisiontree_undersampled_data_scores))\n",
        "decision_tree_undersampled_best_score = print('decision_tree_oversampled_cross_val_scores mean:{}'.format(np.mean(decisiontree_undersampled_data_scores)))"
      ],
      "execution_count": null,
      "outputs": [
        {
          "output_type": "stream",
          "text": [
            "decision_tree_oversampled_cross_val_scores:[0.38038793 0.56034483 0.55711207 0.52909483 0.56465517 0.58836207\n",
            " 0.41594828 0.39439655 0.65948276 0.69612069]\n",
            "decision_tree_oversampled_cross_val_scores mean:0.5345905172413794\n"
          ],
          "name": "stdout"
        }
      ]
    },
    {
      "cell_type": "markdown",
      "metadata": {
        "id": "CSVrgS986pfc"
      },
      "source": [
        "**Implementing Decision Tree algorithm for Balanced dataset using tenfold cross validation**"
      ]
    },
    {
      "cell_type": "code",
      "metadata": {
        "id": "cHKUjEaTyNFy",
        "outputId": "3bc385d1-309b-4883-c2da-0d2450b83fca"
      },
      "source": [
        "from sklearn.tree import DecisionTreeClassifier\n",
        "#creating a new decision tree model\n",
        "DecisionTree_classifier = DecisionTreeClassifier()\n",
        "#training our model with cross value of 10\n",
        "decisiontree_balance_sampled_data_scores = cross_val_score(DecisionTree_classifier, X_balanced_sample, y_balanced_sample, cv=10)\n",
        "#printing the values of 10 scores\n",
        "decision_tree_balance_sampled_scores = print('decision_tree_balance_sampled_cross_val_scores:{}'.format(decisiontree_balance_sampled_data_scores))\n",
        "decision_tree_balance_sampled_best_score = print('decision_tree_balance_sampled_cross_val_scores mean:{}'.format(np.mean(decisiontree_balance_sampled_data_scores)))"
      ],
      "execution_count": null,
      "outputs": [
        {
          "output_type": "stream",
          "text": [
            "decision_tree_balance_sampled_cross_val_scores:[0.63041982 0.9193393  0.94480385 0.97068135 0.96200964 0.95388851\n",
            " 0.74769443 0.56145905 0.88176187 0.58926359]\n",
            "decision_tree_balance_sampled_cross_val_scores mean:0.816132140399174\n"
          ],
          "name": "stdout"
        }
      ]
    },
    {
      "cell_type": "markdown",
      "metadata": {
        "id": "V6FiSYYJ74r9"
      },
      "source": [
        "**Implementing Naive Bayes algorithm for Oversampled dataset using tenfold cross validation**"
      ]
    },
    {
      "cell_type": "code",
      "metadata": {
        "id": "3Ug0Ec3P1W5c",
        "outputId": "f5ff9823-d442-45de-de3c-e53ac17a10c8"
      },
      "source": [
        "#creating a new naive bayes model\n",
        "from sklearn.naive_bayes import GaussianNB\n",
        "NaiveBayes_classifier = GaussianNB(np.random.seed(999))\n",
        "#training our model with cross value of 10\n",
        "naivebayes_oversampled_data_scores = cross_val_score(NaiveBayes_classifier, X_oversample, y_oversample, cv=10)\n",
        "#printing the values of 10 scores\n",
        "naivebayes_oversampled_scores = print('naivebayes_oversampled_cross_val_scores:{}'.format(naivebayes_oversampled_data_scores))\n",
        "naivebayes_oversampled_best_score = print('naivebayes_oversampled_cross_val_scores mean:{}'.format(np.mean(naivebayes_oversampled_data_scores)))"
      ],
      "execution_count": null,
      "outputs": [
        {
          "output_type": "stream",
          "text": [
            "naivebayes_oversampled_cross_val_scores:[0.77715458 0.88002736 0.85170999 0.85581395 0.84459644 0.84760602\n",
            " 0.80284581 0.63798057 0.60952251 0.44137365]\n",
            "naivebayes_oversampled_cross_val_scores mean:0.7548630878595604\n"
          ],
          "name": "stdout"
        }
      ]
    },
    {
      "cell_type": "markdown",
      "metadata": {
        "id": "d1YZWx5K2WW-"
      },
      "source": [
        "**Implementing Naive Bayes algorithm for Undersampled dataset using tenfold cross validation**"
      ]
    },
    {
      "cell_type": "code",
      "metadata": {
        "id": "KWa8GojW2l4L",
        "outputId": "5512d729-6175-487b-e01d-1306ca47ada1"
      },
      "source": [
        "#creating a new naive bayes model\n",
        "from sklearn.naive_bayes import GaussianNB\n",
        "NaiveBayes_classifier = GaussianNB(np.random.seed(999))\n",
        "#training our model with cross value of 10\n",
        "naivebayes_undersampled_data_scores = cross_val_score(NaiveBayes_classifier, X_undersample, y_undersample, cv=10)\n",
        "#printing the values of 10 scores\n",
        "naivebayes_undersampled_scores = print('naivebayes_undersampled_cross_val_scores:{}'.format(naivebayes_oversampled_data_scores))\n",
        "naivebayes_undersampled_best_score = print('naivebayes_undersampled_cross_val_scores mean:{}'.format(np.mean(naivebayes_undersampled_data_scores)))"
      ],
      "execution_count": null,
      "outputs": [
        {
          "output_type": "stream",
          "text": [
            "naivebayes_undersampled_cross_val_scores:[0.77715458 0.88002736 0.85170999 0.85581395 0.84459644 0.84760602\n",
            " 0.80284581 0.63798057 0.60952251 0.44137365]\n",
            "naivebayes_undersampled_cross_val_scores mean:0.6678879310344827\n"
          ],
          "name": "stdout"
        }
      ]
    },
    {
      "cell_type": "markdown",
      "metadata": {
        "id": "SLvSrTDy99on"
      },
      "source": [
        "**Implementing Naive Bayes algorithm for Balanced dataset using tenfold cross validation**"
      ]
    },
    {
      "cell_type": "code",
      "metadata": {
        "id": "Qv1eoHNV2_f0",
        "outputId": "2a36abbc-c3ec-439c-a2e1-3595dde9c279"
      },
      "source": [
        "#creating a new naive bayes model\n",
        "from sklearn.naive_bayes import GaussianNB\n",
        "NaiveBayes_classifier = GaussianNB(np.random.seed(999))\n",
        "#training our model with cross value of 10\n",
        "naivebayes_balancesampled_data_scores = cross_val_score(NaiveBayes_classifier, X_balanced_sample, y_balanced_sample, cv=10)\n",
        "#printing the values of 10 scores\n",
        "naivebayes_balance_sampled_scores = print('naivebayes_balancesampled_cross_val_scores:{}'.format(naivebayes_balancesampled_data_scores))\n",
        "naivebayes_balance_sampled_best_score = print('naivebayes_balancesampled_cross_val_scores mean:{}'.format(np.mean(naivebayes_balancesampled_data_scores)))"
      ],
      "execution_count": null,
      "outputs": [
        {
          "output_type": "stream",
          "text": [
            "naivebayes_balancesampled_cross_val_scores:[0.77742602 0.88327598 0.85891259 0.85560908 0.84528562 0.84597385\n",
            " 0.81362698 0.64294563 0.60825877 0.45423262]\n",
            "naivebayes_balancesampled_cross_val_scores mean:0.7585547143840332\n"
          ],
          "name": "stdout"
        }
      ]
    },
    {
      "cell_type": "markdown",
      "metadata": {
        "id": "G3TY3MMx6sDQ"
      },
      "source": [
        "**Implementing Support Vector Machine algorithm for Oversampled dataset using tenfold cross validation**"
      ]
    },
    {
      "cell_type": "code",
      "metadata": {
        "id": "ejRCevNm7kUy",
        "outputId": "512f5466-423c-4bc9-e214-b1e8d695d7c9"
      },
      "source": [
        "#creating a new svm model\n",
        "support_vector_classifier = SVC(gamma='auto')\n",
        "support_vector_classifier = SVC(gamma='scale')\n",
        "#training our model with cross value of 10\n",
        "svm_oversampled_data_scores = cross_val_score(support_vector_classifier, X_oversample, y_oversample, cv=10)\n",
        "#printing the values of 10 scores\n",
        "svm_oversampled_scores = print('svm_oversampled_cross_val_scores:{}'.format(svm_oversampled_data_scores))\n",
        "svm_oversampled_best_score = print('svm_oversampled_cross_val_scores mean:{}'.format(np.mean(svm_oversampled_data_scores)))"
      ],
      "execution_count": null,
      "outputs": [
        {
          "output_type": "stream",
          "text": [
            "svm_oversampled_cross_val_scores:[0.85458276 0.89329685 0.89439124 0.89439124 0.89015048 0.9002736\n",
            " 0.89027227 0.7857436  0.76617868 0.60049254]\n",
            "svm_oversampled_cross_val_scores mean:0.8369773281408769\n"
          ],
          "name": "stdout"
        }
      ]
    },
    {
      "cell_type": "markdown",
      "metadata": {
        "id": "Z7i25iXf8eFZ"
      },
      "source": [
        "**Implementing Support Vector Machine algorithm for Undersampled dataset using tenfold cross validation**"
      ]
    },
    {
      "cell_type": "code",
      "metadata": {
        "id": "vJSHqxAx8l0B",
        "outputId": "b4cba338-07b9-4c16-918b-e450fc44e9ba"
      },
      "source": [
        "#creating a new svm model\n",
        "support_vector_classifier = SVC(gamma='auto')\n",
        "support_vector_classifier = SVC(gamma='scale')\n",
        "#training our model with cross value of 10\n",
        "svm_undersampled_data_scores = cross_val_score(support_vector_classifier, X_undersample, y_undersample, cv=10)\n",
        "#printing the values of 10 scores\n",
        "svm_undersampled_scores = print('svm_undersampled_cross_val_scores:{}'.format(svm_undersampled_data_scores))\n",
        "svm_undersampled_best_score = print('svm_undersampled_cross_val_scores mean:{}'.format(np.mean(svm_undersampled_data_scores)))"
      ],
      "execution_count": null,
      "outputs": [
        {
          "output_type": "stream",
          "text": [
            "svm_undersampled_cross_val_scores:[0.75538793 0.72306034 0.65732759 0.61099138 0.82327586 0.6325431\n",
            " 0.68857759 0.73491379 0.79956897 0.83728448]\n",
            "svm_undersampled_cross_val_scores mean:0.7262931034482759\n"
          ],
          "name": "stdout"
        }
      ]
    },
    {
      "cell_type": "markdown",
      "metadata": {
        "id": "MzInt1Lo817V"
      },
      "source": [
        "**Implementing Support Vector Machine algorithm for Balanced dataset using tenfold cross validation**"
      ]
    },
    {
      "cell_type": "code",
      "metadata": {
        "id": "fhzBklgh89Z7",
        "scrolled": true,
        "outputId": "31d99ace-b8e5-4d7e-c327-fe31641df2e3"
      },
      "source": [
        "#creating a new svm model\n",
        "support_vector_classifier = SVC(gamma='auto')\n",
        "support_vector_classifier = SVC(gamma='scale')\n",
        "#training our model with cross value of 10\n",
        "svm_balancesampled_data_scores = cross_val_score(support_vector_classifier, X_balanced_sample, y_balanced_sample, cv=10)\n",
        "#printing the values of 10 scores\n",
        "svm_balance_sampled_scores = print('svm_balancesampled_cross_val_scores:{}'.format(svm_balancesampled_data_scores))\n",
        "svm_balance_sampled_best_score = print('svm_balancesampled_cross_val_scores mean:{}'.format(np.mean(svm_balancesampled_data_scores)))"
      ],
      "execution_count": null,
      "outputs": [
        {
          "output_type": "stream",
          "text": [
            "svm_balancesampled_cross_val_scores:[0.85507845 0.89306358 0.8971924  0.89388935 0.88879714 0.90352326\n",
            " 0.8896229  0.78598954 0.76902959 0.61142464]\n",
            "svm_balancesampled_cross_val_scores mean:0.8387610852495545\n"
          ],
          "name": "stdout"
        }
      ]
    },
    {
      "cell_type": "markdown",
      "metadata": {
        "id": "RcR_7mCw43-V"
      },
      "source": [
        "**3. Building Random Forest and Extreme Learning Trees Algorithm models using tenfold cross validation against Oversampled,Undersampled and Balanced sample dataset.**"
      ]
    },
    {
      "cell_type": "markdown",
      "metadata": {
        "id": "8xZcAf9S43-W"
      },
      "source": [
        "**Implementing Random Forest algorithm for Oversampled dataset using tenfold cross validation**"
      ]
    },
    {
      "cell_type": "code",
      "metadata": {
        "id": "gSufszOX43-X",
        "outputId": "e0c00479-432e-4f92-c55c-e8cdcbde3e0a"
      },
      "source": [
        "from sklearn.ensemble import RandomForestClassifier\n",
        "from sklearn.model_selection import cross_val_score\n",
        "#creating a new svm model\n",
        "random_forest_classifier = RandomForestClassifier(n_jobs = -1, n_estimators=10,bootstrap= True, criterion='gini')\n",
        "#training our model with cross value of 10\n",
        "randomforest_oversampled_data_scores = cross_val_score(random_forest_classifier, X_oversample, y_oversample, cv=10)\n",
        "#printing the values of 10 scores\n",
        "randomforest_oversampled_scores = print('randomforest_oversampled_cross_val_scores:{}'.format(randomforest_oversampled_data_scores))\n",
        "randomforest_oversampled_best_score = print('randomforest_oversampled_cross_val_scores mean:{}'.format(np.mean(randomforest_oversampled_data_scores)))"
      ],
      "execution_count": null,
      "outputs": [
        {
          "output_type": "stream",
          "text": [
            "randomforest_oversampled_cross_val_scores:[0.57086183 0.91846785 0.95923393 0.98180575 0.97893297 0.96826265\n",
            " 0.91339445 0.65905049 0.92666575 0.60952251]\n",
            "randomforest_oversampled_cross_val_scores mean:0.8486198171435287\n"
          ],
          "name": "stdout"
        }
      ]
    },
    {
      "cell_type": "markdown",
      "metadata": {
        "id": "Iut9l0bu43-a"
      },
      "source": [
        "**Implementing Random Forest algorithm for Undersampled dataset using tenfold cross validation**"
      ]
    },
    {
      "cell_type": "code",
      "metadata": {
        "id": "2s7EYEI343-b",
        "outputId": "5b48d925-ecf4-49c0-bdd4-00c6cb24f78a"
      },
      "source": [
        "from sklearn.ensemble import RandomForestClassifier\n",
        "from sklearn.model_selection import cross_val_score\n",
        "#creating a new svm model\n",
        "random_forest_classifier = RandomForestClassifier(n_jobs = -1, n_estimators=10,bootstrap= True, criterion='gini')\n",
        "#training our model with cross value of 10\n",
        "randomforest_undersampled_data_scores = cross_val_score(random_forest_classifier, X_undersample, y_undersample, cv=10)\n",
        "#printing the values of 10 scores\n",
        "randomforest_undersampled_scores = print('randomforest_undersampled_cross_val_scores:{}'.format(randomforest_undersampled_data_scores))\n",
        "randomforest_undersampled_best_score = print('randomforest_undersampled_cross_val_scores mean:{}'.format(np.mean(randomforest_undersampled_data_scores)))"
      ],
      "execution_count": null,
      "outputs": [
        {
          "output_type": "stream",
          "text": [
            "randomforest_undersampled_cross_val_scores:[0.4137931  0.47090517 0.50969828 0.51077586 0.5075431  0.55711207\n",
            " 0.51831897 0.62715517 0.79741379 0.73599138]\n",
            "randomforest_undersampled_cross_val_scores mean:0.5648706896551724\n"
          ],
          "name": "stdout"
        }
      ]
    },
    {
      "cell_type": "markdown",
      "metadata": {
        "id": "AG7wYjKC43-e"
      },
      "source": [
        "**Implementing Random Forest algorithm for Balanced dataset using tenfold cross validation**"
      ]
    },
    {
      "cell_type": "code",
      "metadata": {
        "id": "mB9LxFi443-f",
        "outputId": "619602dc-2088-4b35-94d9-53d06c11d424"
      },
      "source": [
        "from sklearn.ensemble import RandomForestClassifier\n",
        "from sklearn.model_selection import cross_val_score\n",
        "#creating a new svm model\n",
        "random_forest_classifier = RandomForestClassifier(n_jobs = -1, n_estimators=10,bootstrap= True, criterion='gini')\n",
        "#training our model with cross value of 10\n",
        "randomforest_balancesampled_data_scores = cross_val_score(random_forest_classifier, X_balanced_sample, y_balanced_sample, cv=10)\n",
        "#printing the values of 10 scores\n",
        "randomforest_balance_sampled_scores = print('randomforest_balancesampled_cross_val_scores:{}'.format(randomforest_balancesampled_data_scores))\n",
        "randomforest_balance_sampled_best_score = print('randomforest_balancesampled_cross_val_scores mean:{}'.format(np.mean(randomforest_balancesampled_data_scores)))"
      ],
      "execution_count": null,
      "outputs": [
        {
          "output_type": "stream",
          "text": [
            "randomforest_balancesampled_cross_val_scores:[0.56260319 0.92652724 0.96257567 0.98321409 0.97729774 0.96601541\n",
            " 0.94399339 0.66024494 0.92500344 0.60988028]\n",
            "randomforest_balancesampled_cross_val_scores mean:0.8517355410299755\n"
          ],
          "name": "stdout"
        }
      ]
    },
    {
      "cell_type": "markdown",
      "metadata": {
        "id": "mQPxcOYr43-j"
      },
      "source": [
        "**Implementing Extreme learning trees algorithm for Oversampled dataset using tenfold cross validation**"
      ]
    },
    {
      "cell_type": "code",
      "metadata": {
        "id": "gWcIdsVp43-l",
        "outputId": "01ff6fb6-2eaf-4d35-a699-c38eec2ae4a4"
      },
      "source": [
        "from sklearn.ensemble import ExtraTreesClassifier\n",
        "ExtraTrees_classifier = ExtraTreesClassifier(n_estimators=100, random_state=0)\n",
        "#training our model with cross value of 10\n",
        "extreme_learning_tree_oversampled_data_scores = cross_val_score(ExtraTrees_classifier, X_oversample, y_oversample, cv=10)\n",
        "#printing the values of 10 scores\n",
        "extreme_learning_tree_oversampled_scores = print('extreme_tree_oversampled_cross_val_scores:{}'.format(extreme_learning_tree_oversampled_data_scores))\n",
        "extreme_learning_tree_oversampled_best_score = print('extreme_tree_oversampled_cross_val_scores mean:{}'.format(np.mean(extreme_learning_tree_oversampled_data_scores)))"
      ],
      "execution_count": null,
      "outputs": [
        {
          "output_type": "stream",
          "text": [
            "extreme_tree_oversampled_cross_val_scores:[0.6376197  0.96662107 0.91067031 0.98577291 0.98071135 0.96607387\n",
            " 0.85565741 0.68805582 0.94445205 0.61362704]\n",
            "extreme_tree_oversampled_cross_val_scores mean:0.8549261531095876\n"
          ],
          "name": "stdout"
        }
      ]
    },
    {
      "cell_type": "markdown",
      "metadata": {
        "id": "lbN3aoIF43-r"
      },
      "source": [
        "**Implementing Extreme learning trees algorithm for Undersampled dataset using tenfold cross validation**"
      ]
    },
    {
      "cell_type": "code",
      "metadata": {
        "id": "UpTSvE5u43-s",
        "outputId": "ac006a14-7065-47d1-9010-717a5b870522"
      },
      "source": [
        "from sklearn.ensemble import ExtraTreesClassifier\n",
        "ExtraTrees_classifier = ExtraTreesClassifier(n_estimators=100, random_state=0)\n",
        "#training our model with cross value of 10\n",
        "extreme_learning_tree_undersampled_data_scores = cross_val_score(ExtraTrees_classifier, X_undersample, y_undersample, cv=10)\n",
        "#printing the values of 10 scores\n",
        "extreme_learning_tree_undersampled_scores = print('extreme_tree_undersampled_cross_val_scores:{}'.format(extreme_learning_tree_undersampled_data_scores))\n",
        "extreme_learning_tree_undersampled_best_score = print('extreme_tree_undersampled_cross_val_scores mean:{}'.format(np.mean(extreme_learning_tree_undersampled_data_scores)))"
      ],
      "execution_count": null,
      "outputs": [
        {
          "output_type": "stream",
          "text": [
            "extreme_tree_undersampled_cross_val_scores:[0.40517241 0.47844828 0.49892241 0.47952586 0.48168103 0.53017241\n",
            " 0.65193966 0.75538793 0.85668103 0.79202586]\n",
            "extreme_tree_undersampled_cross_val_scores mean:0.5929956896551725\n"
          ],
          "name": "stdout"
        }
      ]
    },
    {
      "cell_type": "markdown",
      "metadata": {
        "id": "XYFWcVO943-y"
      },
      "source": [
        "**Implementing Extreme learning trees algorithm for Balanced dataset using tenfold cross validation**"
      ]
    },
    {
      "cell_type": "code",
      "metadata": {
        "id": "AxNJXjIG43-y",
        "outputId": "4ee7509b-48a6-4e7a-eb24-51d5de09fec0"
      },
      "source": [
        "from sklearn.ensemble import ExtraTreesClassifier\n",
        "ExtraTrees_classifier = ExtraTreesClassifier(n_estimators=100, random_state=0)\n",
        "#training our model with cross value of 10\n",
        "extreme_learning_tree_balancesampled_data_scores = cross_val_score(ExtraTrees_classifier, X_balanced_sample, y_balanced_sample, cv=10)\n",
        "#printing the values of 10 scores\n",
        "extreme_learning_tree_balance_sampled_scores = print('extreme_tree_balance_sampled_cross_val_scores:{}'.format(extreme_learning_tree_balancesampled_data_scores))\n",
        "extreme_learning_tree_balance_sampled_best_score = print('extreme_tree_balance_sampled_cross_val_scores mean:{}'.format(np.mean(extreme_learning_tree_balancesampled_data_scores)))"
      ],
      "execution_count": null,
      "outputs": [
        {
          "output_type": "stream",
          "text": [
            "extreme_tree_balance_sampled_cross_val_scores:[0.6432306  0.96917997 0.90506329 0.98665382 0.97977435 0.96780407\n",
            " 0.8684464  0.68928031 0.95238751 0.62033852]\n",
            "extreme_tree_balance_sampled_cross_val_scores mean:0.8582158840496907\n"
          ],
          "name": "stdout"
        }
      ]
    },
    {
      "cell_type": "markdown",
      "metadata": {
        "id": "KZM2SqUj43-4"
      },
      "source": [
        "**4.** Balanced Sampling method produced the best accuracy scores for all the algorithms applied on balanced  dataset when compared to that of over and under sampled dataset. The main reason behind this is that it uses over sampling which involves random duplicating examples in the minority class. In addition, it also uses under sampling which will remove examples from the majority class. Also, while handling class imbalanced dataset , balanced sampling method uses  “SMOTETomek” method which is a hybrid method that uses an under sampling method(Tomek)  with an over sampling method(SMOTE) to make the dependent class feature i.e., the target varibale categories into equal shape. Although, the average accuracy scores  for both balanced and over sampled datasets are almost similar,I prefer balanced sampling  instead of over sampling. This is because the disadvantage with oversampling method is that it will duplicate and create new synthetic examples in the minority class which will result in overfitting of data. Also, it increases the number of training examples resulting in the increase of learning time. "
      ]
    },
    {
      "cell_type": "markdown",
      "metadata": {
        "id": "zIPtxhgt43-5"
      },
      "source": [
        "**5. Creating a table which shows the accuracies of six algorithms against each one of the tenfolds when trained using Balanced Sampling technique.**"
      ]
    },
    {
      "cell_type": "markdown",
      "metadata": {
        "id": "mQvi5pAw43-5"
      },
      "source": [
        "**Implementing KNN algorithm for Balanced dataset using tenfold cross validation**"
      ]
    },
    {
      "cell_type": "code",
      "metadata": {
        "id": "D9r4GlTw43-6",
        "outputId": "20e4e1eb-f17d-469a-f64e-c90ca1b9a60e"
      },
      "source": [
        "from sklearn.neighbors import KNeighborsClassifier\n",
        "from sklearn.model_selection import cross_val_score\n",
        "import numpy as np\n",
        "import statistics\n",
        "#creating a new KNN model\n",
        "knn_cv = KNeighborsClassifier(n_neighbors= 3)\n",
        "#training our model with cv of 10 \n",
        "knn_cross_val_scores = cross_val_score(knn_cv, X_balanced_sample, y_balanced_sample, cv=10)\n",
        "#printing cross validation scores\n",
        "print(knn_cross_val_scores)\n",
        "#printing the average of them\n",
        "knn_avg_score = np.mean(knn_cross_val_scores)\n",
        "print(knn_avg_score)\n",
        "#printing standard deviation using statistics module\n",
        "knn_stdev = statistics.stdev(knn_cross_val_scores)\n",
        "print(knn_stdev)"
      ],
      "execution_count": null,
      "outputs": [
        {
          "output_type": "stream",
          "text": [
            "[0.96597796 0.96556474 0.9600551  0.95633609 0.9523416  0.93553719\n",
            " 0.8677686  0.75523416 0.86499518 0.6130321 ]\n",
            "0.8836842703481608\n",
            "0.11659265574337005\n"
          ],
          "name": "stdout"
        }
      ]
    },
    {
      "cell_type": "markdown",
      "metadata": {
        "id": "VMqikmPs43--"
      },
      "source": [
        "**Implementing Decision Tree algorithm for Balanced dataset using tenfold cross validation**"
      ]
    },
    {
      "cell_type": "code",
      "metadata": {
        "id": "7cuXnSvF43--",
        "outputId": "0a31a412-3c3a-4ef0-a065-0200b6379351"
      },
      "source": [
        "from sklearn.tree import DecisionTreeClassifier\n",
        "#creating a new decision tree model\n",
        "DecisionTree_classifier = DecisionTreeClassifier(random_state=999)\n",
        "#training our model with cross value of 10\n",
        "decisiontree_cross_val_scores = cross_val_score(DecisionTree_classifier, X_balanced_sample, y_balanced_sample, cv=10)\n",
        "#printing cross validation scores\n",
        "print(decisiontree_cross_val_scores)\n",
        "#printing the average of them\n",
        "decisiontree_avg_score = np.mean(decisiontree_cross_val_scores)\n",
        "print(decisiontree_avg_score)"
      ],
      "execution_count": null,
      "outputs": [
        {
          "output_type": "stream",
          "text": [
            "[0.63344804 0.91961459 0.95127323 0.970819   0.96187199 0.95306263\n",
            " 0.74907089 0.56214728 0.88217481 0.58912595]\n",
            "0.8172608396421198\n"
          ],
          "name": "stdout"
        }
      ]
    },
    {
      "cell_type": "code",
      "metadata": {
        "id": "iX4btGGU43_E",
        "outputId": "19c275cf-779e-4973-c2ee-9b20c5c24e9e"
      },
      "source": [
        "#printing standard deviation using statistics module\n",
        "decisiontree_stdev = statistics.stdev(decisiontree_cross_val_scores)\n",
        "print(decisiontree_stdev)"
      ],
      "execution_count": null,
      "outputs": [
        {
          "output_type": "stream",
          "text": [
            "0.16704940196684387\n"
          ],
          "name": "stdout"
        }
      ]
    },
    {
      "cell_type": "markdown",
      "metadata": {
        "id": "ArG5vvgo43_J"
      },
      "source": [
        "**Implementing Naive Bayes algorithm for Balanced dataset using tenfold cross validation**"
      ]
    },
    {
      "cell_type": "code",
      "metadata": {
        "id": "ArWCwKv743_K",
        "outputId": "31be2f0b-626b-477e-84bb-51c690409153"
      },
      "source": [
        "#creating a new naive bayes model\n",
        "from sklearn.naive_bayes import GaussianNB\n",
        "NaiveBayes_classifier = GaussianNB(np.random.seed(999))\n",
        "#training our model with cv of 10 \n",
        "naivebayes_cross_val_scores = cross_val_score(NaiveBayes_classifier, X_balanced_sample, y_balanced_sample, cv=10)\n",
        "#printing cross validation scores\n",
        "print(naivebayes_cross_val_scores)\n",
        "#printing the average of them\n",
        "naivebayes_avg_score = np.mean(naivebayes_cross_val_scores)\n",
        "print(naivebayes_avg_score)\n",
        "#printing standard deviation using statistics module\n",
        "naivebayes_stdev = statistics.stdev(naivebayes_cross_val_scores)\n",
        "print(naivebayes_stdev)"
      ],
      "execution_count": null,
      "outputs": [
        {
          "output_type": "stream",
          "text": [
            "[0.77742602 0.88327598 0.85891259 0.85560908 0.84528562 0.84597385\n",
            " 0.81362698 0.64294563 0.60825877 0.45423262]\n",
            "0.7585547143840332\n",
            "0.1422698333113747\n"
          ],
          "name": "stdout"
        }
      ]
    },
    {
      "cell_type": "markdown",
      "metadata": {
        "id": "azuhiRJe43_O"
      },
      "source": [
        "**Implementing Support Vector Machine algorithm for Balanced dataset using tenfold cross validation**"
      ]
    },
    {
      "cell_type": "code",
      "metadata": {
        "id": "psedjZY943_P",
        "outputId": "529dc8eb-8c3c-489b-8bcc-c2332c12a510"
      },
      "source": [
        "#creating a new svm model\n",
        "support_vector_classifier = SVC(gamma='auto')\n",
        "support_vector_classifier = SVC(gamma='scale')\n",
        "#training our model with cv of 10 \n",
        "svm_cross_val_scores = cross_val_score(support_vector_classifier, X_balanced_sample, y_balanced_sample, cv=10)\n",
        "#printing cross validation scores\n",
        "print(svm_cross_val_scores)\n",
        "#printing the average of them\n",
        "svm_avg_score = np.mean(svm_cross_val_scores)\n",
        "print(svm_avg_score)"
      ],
      "execution_count": null,
      "outputs": [
        {
          "output_type": "stream",
          "text": [
            "[0.85633609 0.89366391 0.89641873 0.89146006 0.89256198 0.90275482\n",
            " 0.88732782 0.79201102 0.76195068 0.6088993 ]\n",
            "0.8383384414597705\n"
          ],
          "name": "stdout"
        }
      ]
    },
    {
      "cell_type": "code",
      "metadata": {
        "id": "VghdxGea43_U",
        "outputId": "bf304608-a4fd-4c7a-821f-d8415b382e28"
      },
      "source": [
        "#printing standard deviation using statistics module\n",
        "import statistics\n",
        "svm_stdev = statistics.stdev(svm_cross_val_scores)\n",
        "print(svm_stdev)"
      ],
      "execution_count": null,
      "outputs": [
        {
          "output_type": "stream",
          "text": [
            "0.09263181914493475\n"
          ],
          "name": "stdout"
        }
      ]
    },
    {
      "cell_type": "markdown",
      "metadata": {
        "id": "9DW2cLqu43_X"
      },
      "source": [
        "**Implementing Random Forest algorithm for Balanced dataset using tenfold cross validation**"
      ]
    },
    {
      "cell_type": "code",
      "metadata": {
        "id": "xgcpmSvl43_X",
        "outputId": "7fff1e68-083d-4ca4-99eb-bf54bb58ec14"
      },
      "source": [
        "from sklearn.ensemble import RandomForestClassifier\n",
        "from sklearn.model_selection import cross_val_score\n",
        "#creating a new model\n",
        "random_forest_classifier = RandomForestClassifier(n_jobs = -1, n_estimators=10,bootstrap= True, criterion='gini')\n",
        "#training our model with cv of 10 \n",
        "randomforest_cross_val_scores = cross_val_score(random_forest_classifier, X_balanced_sample, y_balanced_sample, cv=10)\n",
        "#printing cross validation scores\n",
        "print(randomforest_cross_val_scores)\n",
        "#printing the average of them\n",
        "randomforest_avg_score = np.mean(randomforest_cross_val_scores)\n",
        "print(randomforest_avg_score)"
      ],
      "execution_count": null,
      "outputs": [
        {
          "output_type": "stream",
          "text": [
            "[0.5630854  0.92837466 0.94407713 0.98347107 0.97961433 0.96735537\n",
            " 0.92603306 0.66639118 0.92436975 0.6164761 ]\n",
            "0.8499248050392085\n"
          ],
          "name": "stdout"
        }
      ]
    },
    {
      "cell_type": "code",
      "metadata": {
        "id": "gE0Ljxme43_e",
        "outputId": "ffa14871-8a00-4774-8aa2-e9ecb49efc53"
      },
      "source": [
        "#printing standard deviation using statistics module\n",
        "randomforest_stdev = statistics.stdev(randomforest_cross_val_scores)\n",
        "print(randomforest_stdev )"
      ],
      "execution_count": null,
      "outputs": [
        {
          "output_type": "stream",
          "text": [
            "0.16938879380252098\n"
          ],
          "name": "stdout"
        }
      ]
    },
    {
      "cell_type": "markdown",
      "metadata": {
        "id": "BB2I4lir43_l"
      },
      "source": [
        "**Implementing Extreme learning trees algorithm for Balanced dataset using tenfold cross validation**"
      ]
    },
    {
      "cell_type": "code",
      "metadata": {
        "id": "pHiS5aQG43_l",
        "outputId": "6cbd0210-cd5e-4fb1-9df1-a11720d251bb"
      },
      "source": [
        "from sklearn.ensemble import ExtraTreesClassifier\n",
        "#creating a new model\n",
        "ExtraTrees_classifier = ExtraTreesClassifier(n_estimators=100, random_state=0)\n",
        "extreme_trees_cross_val_scores = cross_val_score(ExtraTrees_classifier, X_balanced_sample, y_balanced_sample, cv=10)\n",
        "#printing cross validation scores\n",
        "print(extreme_trees_cross_val_scores)\n",
        "#printing the average of them\n",
        "extreme_trees_avg_score = np.mean(extreme_trees_cross_val_scores)\n",
        "print(extreme_trees_avg_score )"
      ],
      "execution_count": null,
      "outputs": [
        {
          "output_type": "stream",
          "text": [
            "[0.63964212 0.96641432 0.90777701 0.98623538 0.98251893 0.9687543\n",
            " 0.86083964 0.68947006 0.94631796 0.62105988]\n",
            "0.8569029593943565\n"
          ],
          "name": "stdout"
        }
      ]
    },
    {
      "cell_type": "code",
      "metadata": {
        "id": "7J_rFqq943_p",
        "outputId": "464690af-a549-4fcd-adc5-107364ab9c17"
      },
      "source": [
        "#printing standard deviation using statistics module\n",
        "extremeforest_stdev = statistics.stdev(extreme_trees_cross_val_scores)\n",
        "print(extremeforest_stdev )"
      ],
      "execution_count": null,
      "outputs": [
        {
          "output_type": "stream",
          "text": [
            "0.14849856783687987\n"
          ],
          "name": "stdout"
        }
      ]
    },
    {
      "cell_type": "markdown",
      "metadata": {
        "id": "KG2z_YRq43_u"
      },
      "source": [
        "**Displaying the table showing the accuracies and standard deviation of the six algorithms against Balanced sample dataset**"
      ]
    },
    {
      "cell_type": "code",
      "metadata": {
        "id": "4X0tJnfZ43_u",
        "outputId": "7d2e1f0b-04bd-4a3f-ae91-2a52582778ec"
      },
      "source": [
        "import pandas as pd\n",
        "Algorithms_cross_val_scores = {\n",
        "    'KNN': knn_cross_val_scores,\n",
        "    'Decision Tree': decisiontree_cross_val_scores,\n",
        "    'Naive Bayes' : naivebayes_cross_val_scores,\n",
        "    'Random Forest':randomforest_cross_val_scores,\n",
        "    'Extreme Trees':extreme_trees_cross_val_scores, \n",
        "    #Taking the cross val scores of SVM got from the above execution\n",
        "    'SVM':svm_avg_score\n",
        "}\n",
        "\n",
        "df1 = pd.DataFrame(Algorithms_cross_val_scores ).rename_axis('Folds', axis=1)\n",
        "mean_row = {'KNN':knn_avg_score,'Decision Tree' :decisiontree_avg_score,\n",
        "            'Naive Bayes':naivebayes_avg_score, 'Random Forest':randomforest_avg_score,\n",
        "           'Extreme Trees':extreme_trees_avg_score,'SVM':svm_avg_score }\n",
        "stdev_row = {'KNN':knn_stdev,'Decision Tree':decisiontree_stdev,'Naive Bayes':naivebayes_stdev,\n",
        "             'Random Forest':randomforest_stdev,'Extreme Trees':extremeforest_stdev,'SVM':svm_stdev}\n",
        "df1 = df1.append(mean_row,ignore_index = True) \n",
        "df1 = df1.append(stdev_row,ignore_index=True)\n",
        "df1.index += 1\n",
        "df1.rename(index={11: 'mean',12:'stdev'})"
      ],
      "execution_count": null,
      "outputs": [
        {
          "output_type": "execute_result",
          "data": {
            "text/html": [
              "<div>\n",
              "<style scoped>\n",
              "    .dataframe tbody tr th:only-of-type {\n",
              "        vertical-align: middle;\n",
              "    }\n",
              "\n",
              "    .dataframe tbody tr th {\n",
              "        vertical-align: top;\n",
              "    }\n",
              "\n",
              "    .dataframe thead th {\n",
              "        text-align: right;\n",
              "    }\n",
              "</style>\n",
              "<table border=\"1\" class=\"dataframe\">\n",
              "  <thead>\n",
              "    <tr style=\"text-align: right;\">\n",
              "      <th>Folds</th>\n",
              "      <th>KNN</th>\n",
              "      <th>Decision Tree</th>\n",
              "      <th>Naive Bayes</th>\n",
              "      <th>Random Forest</th>\n",
              "      <th>Extreme Trees</th>\n",
              "      <th>SVM</th>\n",
              "    </tr>\n",
              "  </thead>\n",
              "  <tbody>\n",
              "    <tr>\n",
              "      <td>1</td>\n",
              "      <td>0.966139</td>\n",
              "      <td>0.633448</td>\n",
              "      <td>0.777426</td>\n",
              "      <td>0.564487</td>\n",
              "      <td>0.639642</td>\n",
              "      <td>0.837412</td>\n",
              "    </tr>\n",
              "    <tr>\n",
              "      <td>2</td>\n",
              "      <td>0.963937</td>\n",
              "      <td>0.919615</td>\n",
              "      <td>0.883276</td>\n",
              "      <td>0.923056</td>\n",
              "      <td>0.966414</td>\n",
              "      <td>0.837412</td>\n",
              "    </tr>\n",
              "    <tr>\n",
              "      <td>3</td>\n",
              "      <td>0.959257</td>\n",
              "      <td>0.951273</td>\n",
              "      <td>0.858913</td>\n",
              "      <td>0.964763</td>\n",
              "      <td>0.907777</td>\n",
              "      <td>0.837412</td>\n",
              "    </tr>\n",
              "    <tr>\n",
              "      <td>4</td>\n",
              "      <td>0.956091</td>\n",
              "      <td>0.970819</td>\n",
              "      <td>0.855609</td>\n",
              "      <td>0.984171</td>\n",
              "      <td>0.986235</td>\n",
              "      <td>0.837412</td>\n",
              "    </tr>\n",
              "    <tr>\n",
              "      <td>5</td>\n",
              "      <td>0.951686</td>\n",
              "      <td>0.961872</td>\n",
              "      <td>0.845286</td>\n",
              "      <td>0.977701</td>\n",
              "      <td>0.982519</td>\n",
              "      <td>0.837412</td>\n",
              "    </tr>\n",
              "    <tr>\n",
              "      <td>6</td>\n",
              "      <td>0.939711</td>\n",
              "      <td>0.953063</td>\n",
              "      <td>0.845974</td>\n",
              "      <td>0.965038</td>\n",
              "      <td>0.968754</td>\n",
              "      <td>0.837412</td>\n",
              "    </tr>\n",
              "    <tr>\n",
              "      <td>7</td>\n",
              "      <td>0.865657</td>\n",
              "      <td>0.749071</td>\n",
              "      <td>0.813627</td>\n",
              "      <td>0.944804</td>\n",
              "      <td>0.860840</td>\n",
              "      <td>0.837412</td>\n",
              "    </tr>\n",
              "    <tr>\n",
              "      <td>8</td>\n",
              "      <td>0.754301</td>\n",
              "      <td>0.562147</td>\n",
              "      <td>0.642946</td>\n",
              "      <td>0.665795</td>\n",
              "      <td>0.689470</td>\n",
              "      <td>0.837412</td>\n",
              "    </tr>\n",
              "    <tr>\n",
              "      <td>9</td>\n",
              "      <td>0.867309</td>\n",
              "      <td>0.882175</td>\n",
              "      <td>0.608259</td>\n",
              "      <td>0.929938</td>\n",
              "      <td>0.946318</td>\n",
              "      <td>0.837412</td>\n",
              "    </tr>\n",
              "    <tr>\n",
              "      <td>10</td>\n",
              "      <td>0.611149</td>\n",
              "      <td>0.589126</td>\n",
              "      <td>0.454233</td>\n",
              "      <td>0.602202</td>\n",
              "      <td>0.621060</td>\n",
              "      <td>0.837412</td>\n",
              "    </tr>\n",
              "    <tr>\n",
              "      <td>mean</td>\n",
              "      <td>0.883524</td>\n",
              "      <td>0.817261</td>\n",
              "      <td>0.758555</td>\n",
              "      <td>0.852195</td>\n",
              "      <td>0.856903</td>\n",
              "      <td>0.837412</td>\n",
              "    </tr>\n",
              "    <tr>\n",
              "      <td>stdev</td>\n",
              "      <td>0.117172</td>\n",
              "      <td>0.167049</td>\n",
              "      <td>0.142270</td>\n",
              "      <td>0.169389</td>\n",
              "      <td>0.148499</td>\n",
              "      <td>0.092632</td>\n",
              "    </tr>\n",
              "  </tbody>\n",
              "</table>\n",
              "</div>"
            ],
            "text/plain": [
              "Folds       KNN  Decision Tree  Naive Bayes  Random Forest  Extreme Trees  \\\n",
              "1      0.966139       0.633448     0.777426       0.564487       0.639642   \n",
              "2      0.963937       0.919615     0.883276       0.923056       0.966414   \n",
              "3      0.959257       0.951273     0.858913       0.964763       0.907777   \n",
              "4      0.956091       0.970819     0.855609       0.984171       0.986235   \n",
              "5      0.951686       0.961872     0.845286       0.977701       0.982519   \n",
              "6      0.939711       0.953063     0.845974       0.965038       0.968754   \n",
              "7      0.865657       0.749071     0.813627       0.944804       0.860840   \n",
              "8      0.754301       0.562147     0.642946       0.665795       0.689470   \n",
              "9      0.867309       0.882175     0.608259       0.929938       0.946318   \n",
              "10     0.611149       0.589126     0.454233       0.602202       0.621060   \n",
              "mean   0.883524       0.817261     0.758555       0.852195       0.856903   \n",
              "stdev  0.117172       0.167049     0.142270       0.169389       0.148499   \n",
              "\n",
              "Folds       SVM  \n",
              "1      0.837412  \n",
              "2      0.837412  \n",
              "3      0.837412  \n",
              "4      0.837412  \n",
              "5      0.837412  \n",
              "6      0.837412  \n",
              "7      0.837412  \n",
              "8      0.837412  \n",
              "9      0.837412  \n",
              "10     0.837412  \n",
              "mean   0.837412  \n",
              "stdev  0.092632  "
            ]
          },
          "metadata": {
            "tags": []
          },
          "execution_count": 44
        }
      ]
    },
    {
      "cell_type": "markdown",
      "metadata": {
        "id": "xSl8YFbY43_0"
      },
      "source": [
        "**6. Checking whether there is statistically significant difference in the accuracies obtained by KNN, Decision Tree, Naive Bayes, Support Vector Machine ,Random Forest and Extreme Trees against Balanced sample dataset**"
      ]
    },
    {
      "cell_type": "markdown",
      "metadata": {
        "id": "bDRycOQa43_0"
      },
      "source": [
        "**Checking whether there is statistically significant difference in the accuracies between KNN & algorithms(Decision Tree, Naive Bayes, Support Vector Machine ,Random Forest and Extreme Trees) against Balanced sample dataset**"
      ]
    },
    {
      "cell_type": "code",
      "metadata": {
        "id": "Kk_ojDUL43_2"
      },
      "source": [
        "#Obtaining the 10 fold cross validation scores of KNN & Decision Tree algorithms combination.\n",
        "KNN_DecisionTree_cross_val_scores = (knn_cross_val_scores - decisiontree_cross_val_scores)\n",
        "#Obtaining the 10 fold cross validation scores of KNN & Naive Bayes algorithms combination.\n",
        "KNN_NaiveBayes_cross_val_scores = (knn_cross_val_scores-naivebayes_cross_val_scores)\n",
        "#Obtaining the 10 fold cross validation scores of KNN & Support Vector Machine algorithms combination.\n",
        "KNN_SVM_cross_val_scores = (knn_cross_val_scores-svm_cross_val_scores)\n",
        "#Obtaining the 10 fold cross validation scores of KNN & Random Forest algorithms combination.\n",
        "KNN_RandomForest_cross_val_scores = (knn_cross_val_scores-randomforest_cross_val_scores)\n",
        "#Obtaining the 10 fold cross validation scores of KNN & Extreme Trees algorithms combination.\n",
        "KNN_ExtremeTrees_cross_val_scores = (knn_cross_val_scores-extreme_trees_cross_val_scores)"
      ],
      "execution_count": null,
      "outputs": []
    },
    {
      "cell_type": "code",
      "metadata": {
        "id": "4Yg0SpFT43_6"
      },
      "source": [
        "#Obtaining the mean of cross validation scores of KNN & Decision Tree algorithms combination.\n",
        "KNN_DecisionTree_mean = np.mean(KNN_DecisionTree_cross_val_scores)\n",
        "#Obtaining the mean of cross validation scores of KNN & Naive Bayes algorithms combination.\n",
        "KNN_NaiveBayes_mean = np.mean(KNN_NaiveBayes_cross_val_scores )\n",
        "#Obtaining the mean of cross validation scores of KNN & Support Vector Machine algorithms combination.\n",
        "KNN_SVM_mean = np.mean(KNN_SVM_cross_val_scores)\n",
        "#Obtaining the mean of cross validation scores of KNN & Random Forest algorithms combination.\n",
        "KNN_RandomForest_mean = np.mean(KNN_RandomForest_cross_val_scores )\n",
        "#Obtaining the mean of cross validation scores of KNN & Extreme Trees algorithms combination.\n",
        "KNN_ExtremeTrees_mean = np.mean(KNN_ExtremeTrees_cross_val_scores)"
      ],
      "execution_count": null,
      "outputs": []
    },
    {
      "cell_type": "code",
      "metadata": {
        "id": "zkRDfnGe43_-"
      },
      "source": [
        "#Obtaining Standard Deviation using statistics module\n",
        "import statistics\n",
        "#Obtaining the Standard Deviation of KNN & Decision Tree algorithms combination.\n",
        "KNN_Decision_Tree_stdev = statistics.stdev(KNN_DecisionTree_cross_val_scores)\n",
        "#Obtaining the Standard Deviation of KNN & Naive Bayes algorithms combination.\n",
        "KNN_NaiveBayes_stdev = statistics.stdev(KNN_NaiveBayes_cross_val_scores )\n",
        "#Obtaining the Standard Deviation of KNN & Support Vector Machine algorithms combination.\n",
        "KNN_SVM_stdev = statistics.stdev(KNN_SVM_cross_val_scores)\n",
        "#Obtaining the Standard Deviation of KNN & Random Forest algorithms combination.\n",
        "KNN_RandomForest_stdev = statistics.stdev(KNN_RandomForest_cross_val_scores )\n",
        "#Obtaining the Standard Deviation of KNN & Extreme Trees algorithms combination.\n",
        "KNN_ExtremeTrees_stdev = statistics.stdev(KNN_ExtremeTrees_cross_val_scores)"
      ],
      "execution_count": null,
      "outputs": []
    },
    {
      "cell_type": "markdown",
      "metadata": {
        "id": "14N1iTiP44AC"
      },
      "source": [
        "**Applying Paired-T test to obtain the p_value to check whether there is a statistically significant difference between the algorithms.**"
      ]
    },
    {
      "cell_type": "code",
      "metadata": {
        "id": "c-XeseYC44AD"
      },
      "source": [
        "import scipy.stats as stats\n",
        "import math\n",
        "\n",
        "#Obtaining p_value for KNN & Decision Tree algorithms combination.\n",
        "_,knn_decisiontree_p_value=stats.ttest_rel(a=knn_cross_val_scores,b=decisiontree_cross_val_scores)\n",
        "#Obtaining p_value for KNN & Naive Bayes algorithms combination.\n",
        "_,knn_naivebayes_p_value=stats.ttest_rel(a=knn_cross_val_scores,b=naivebayes_cross_val_scores)\n",
        "\n",
        "#Obtaining p_value for KNN & Support Vector Machine algorithms combination.\n",
        "_,knn_svm_p_value=stats.ttest_rel(a=knn_cross_val_scores,b=svm_cross_val_scores)\n",
        "\n",
        "#Obtaining p_value for KNN & Random Forest algorithms combination.\n",
        "_,knn_randomforest_p_value=stats.ttest_rel(a=knn_cross_val_scores,b=randomforest_cross_val_scores)\n",
        "\n",
        "#Obtaining p_value for KNN & Extreme Trees algorithms combination.\n",
        "_,knn_extremetrees_p_value=stats.ttest_rel(a=knn_cross_val_scores,b=extreme_trees_cross_val_scores)\n"
      ],
      "execution_count": null,
      "outputs": []
    },
    {
      "cell_type": "code",
      "metadata": {
        "id": "MeQCeBkA44AI",
        "outputId": "5130006b-128d-4575-b161-2721d0e1981a"
      },
      "source": [
        "import pandas as pd\n",
        "Algorithms_cross_val_scores = {\n",
        "    'Knn-DecisionTree': KNN_DecisionTree_cross_val_scores,\n",
        "    'Knn-NaiveBayes': KNN_NaiveBayes_cross_val_scores,\n",
        "    'Knn-SVM' : KNN_SVM_cross_val_scores,\n",
        "    'Knn-RandomForest':KNN_RandomForest_cross_val_scores ,\n",
        "    'Knn-ExtremeTrees':KNN_ExtremeTrees_cross_val_scores\n",
        "}\n",
        "\n",
        "df2 = pd.DataFrame(Algorithms_cross_val_scores ).rename_axis('Folds', axis=1)\n",
        "mean_row = {'Knn-DecisionTree':KNN_DecisionTree_mean,'Knn-NaiveBayes' :KNN_NaiveBayes_mean,\n",
        "            'Knn-SVM':KNN_SVM_mean, 'Knn-RandomForest':KNN_RandomForest_mean,\n",
        "           'Knn-ExtremeTrees':KNN_ExtremeTrees_mean }\n",
        "\n",
        "stdev_row ={'Knn-DecisionTree':KNN_Decision_Tree_stdev,'Knn-NaiveBayes' :KNN_NaiveBayes_stdev,\n",
        "            'Knn-SVM':KNN_SVM_stdev, 'Knn-RandomForest':KNN_RandomForest_stdev,\n",
        "           'Knn-ExtremeTrees':KNN_ExtremeTrees_stdev }\n",
        "\n",
        "p_value_row = {'Knn-DecisionTree':knn_decisiontree_p_value , 'Knn-NaiveBayes':knn_naivebayes_p_value,\n",
        "               'Knn-SVM':knn_svm_p_value, 'Knn-RandomForest':knn_randomforest_p_value ,\n",
        "               'Knn-ExtremeTrees':knn_extremetrees_p_value}\n",
        "df2 = df2.append(mean_row,ignore_index = True) \n",
        "df2 = df2.append(stdev_row,ignore_index=True)\n",
        "df2 = df2.append(p_value_row,ignore_index=True)\n",
        "df2.index += 1\n",
        "df2.rename(index={11: 'mean',12:'stdev',13:'p_value'})"
      ],
      "execution_count": null,
      "outputs": [
        {
          "output_type": "execute_result",
          "data": {
            "text/html": [
              "<div>\n",
              "<style scoped>\n",
              "    .dataframe tbody tr th:only-of-type {\n",
              "        vertical-align: middle;\n",
              "    }\n",
              "\n",
              "    .dataframe tbody tr th {\n",
              "        vertical-align: top;\n",
              "    }\n",
              "\n",
              "    .dataframe thead th {\n",
              "        text-align: right;\n",
              "    }\n",
              "</style>\n",
              "<table border=\"1\" class=\"dataframe\">\n",
              "  <thead>\n",
              "    <tr style=\"text-align: right;\">\n",
              "      <th>Folds</th>\n",
              "      <th>Knn-DecisionTree</th>\n",
              "      <th>Knn-NaiveBayes</th>\n",
              "      <th>Knn-SVM</th>\n",
              "      <th>Knn-RandomForest</th>\n",
              "      <th>Knn-ExtremeTrees</th>\n",
              "    </tr>\n",
              "  </thead>\n",
              "  <tbody>\n",
              "    <tr>\n",
              "      <td>1</td>\n",
              "      <td>0.332691</td>\n",
              "      <td>0.188713</td>\n",
              "      <td>0.110255</td>\n",
              "      <td>0.401652</td>\n",
              "      <td>0.326497</td>\n",
              "    </tr>\n",
              "    <tr>\n",
              "      <td>2</td>\n",
              "      <td>0.044322</td>\n",
              "      <td>0.080661</td>\n",
              "      <td>0.071714</td>\n",
              "      <td>0.040881</td>\n",
              "      <td>-0.002478</td>\n",
              "    </tr>\n",
              "    <tr>\n",
              "      <td>3</td>\n",
              "      <td>0.007983</td>\n",
              "      <td>0.100344</td>\n",
              "      <td>0.062491</td>\n",
              "      <td>-0.005506</td>\n",
              "      <td>0.051480</td>\n",
              "    </tr>\n",
              "    <tr>\n",
              "      <td>4</td>\n",
              "      <td>-0.014728</td>\n",
              "      <td>0.100482</td>\n",
              "      <td>0.065933</td>\n",
              "      <td>-0.028080</td>\n",
              "      <td>-0.030145</td>\n",
              "    </tr>\n",
              "    <tr>\n",
              "      <td>5</td>\n",
              "      <td>-0.010186</td>\n",
              "      <td>0.106401</td>\n",
              "      <td>0.065795</td>\n",
              "      <td>-0.026015</td>\n",
              "      <td>-0.030833</td>\n",
              "    </tr>\n",
              "    <tr>\n",
              "      <td>6</td>\n",
              "      <td>-0.013352</td>\n",
              "      <td>0.093737</td>\n",
              "      <td>0.041019</td>\n",
              "      <td>-0.025327</td>\n",
              "      <td>-0.029043</td>\n",
              "    </tr>\n",
              "    <tr>\n",
              "      <td>7</td>\n",
              "      <td>0.116586</td>\n",
              "      <td>0.052030</td>\n",
              "      <td>-0.026015</td>\n",
              "      <td>-0.079147</td>\n",
              "      <td>0.004818</td>\n",
              "    </tr>\n",
              "    <tr>\n",
              "      <td>8</td>\n",
              "      <td>0.192154</td>\n",
              "      <td>0.111356</td>\n",
              "      <td>-0.029732</td>\n",
              "      <td>0.088507</td>\n",
              "      <td>0.064831</td>\n",
              "    </tr>\n",
              "    <tr>\n",
              "      <td>9</td>\n",
              "      <td>-0.014866</td>\n",
              "      <td>0.259050</td>\n",
              "      <td>0.100895</td>\n",
              "      <td>-0.062629</td>\n",
              "      <td>-0.079009</td>\n",
              "    </tr>\n",
              "    <tr>\n",
              "      <td>10</td>\n",
              "      <td>0.022023</td>\n",
              "      <td>0.156917</td>\n",
              "      <td>-0.001239</td>\n",
              "      <td>0.008947</td>\n",
              "      <td>-0.009911</td>\n",
              "    </tr>\n",
              "    <tr>\n",
              "      <td>mean</td>\n",
              "      <td>0.066263</td>\n",
              "      <td>0.124969</td>\n",
              "      <td>0.046111</td>\n",
              "      <td>0.031328</td>\n",
              "      <td>0.026621</td>\n",
              "    </tr>\n",
              "    <tr>\n",
              "      <td>stdev</td>\n",
              "      <td>0.115722</td>\n",
              "      <td>0.060605</td>\n",
              "      <td>0.049489</td>\n",
              "      <td>0.138812</td>\n",
              "      <td>0.113255</td>\n",
              "    </tr>\n",
              "    <tr>\n",
              "      <td>p_value</td>\n",
              "      <td>0.103614</td>\n",
              "      <td>0.000109</td>\n",
              "      <td>0.016314</td>\n",
              "      <td>0.493508</td>\n",
              "      <td>0.476254</td>\n",
              "    </tr>\n",
              "  </tbody>\n",
              "</table>\n",
              "</div>"
            ],
            "text/plain": [
              "Folds    Knn-DecisionTree  Knn-NaiveBayes   Knn-SVM  Knn-RandomForest  \\\n",
              "1                0.332691        0.188713  0.110255          0.401652   \n",
              "2                0.044322        0.080661  0.071714          0.040881   \n",
              "3                0.007983        0.100344  0.062491         -0.005506   \n",
              "4               -0.014728        0.100482  0.065933         -0.028080   \n",
              "5               -0.010186        0.106401  0.065795         -0.026015   \n",
              "6               -0.013352        0.093737  0.041019         -0.025327   \n",
              "7                0.116586        0.052030 -0.026015         -0.079147   \n",
              "8                0.192154        0.111356 -0.029732          0.088507   \n",
              "9               -0.014866        0.259050  0.100895         -0.062629   \n",
              "10               0.022023        0.156917 -0.001239          0.008947   \n",
              "mean             0.066263        0.124969  0.046111          0.031328   \n",
              "stdev            0.115722        0.060605  0.049489          0.138812   \n",
              "p_value          0.103614        0.000109  0.016314          0.493508   \n",
              "\n",
              "Folds    Knn-ExtremeTrees  \n",
              "1                0.326497  \n",
              "2               -0.002478  \n",
              "3                0.051480  \n",
              "4               -0.030145  \n",
              "5               -0.030833  \n",
              "6               -0.029043  \n",
              "7                0.004818  \n",
              "8                0.064831  \n",
              "9               -0.079009  \n",
              "10              -0.009911  \n",
              "mean             0.026621  \n",
              "stdev            0.113255  \n",
              "p_value          0.476254  "
            ]
          },
          "metadata": {
            "tags": []
          },
          "execution_count": 49
        }
      ]
    },
    {
      "cell_type": "code",
      "metadata": {
        "id": "5MGTqiix44AN",
        "outputId": "2ed5b474-2ca9-4d1d-fb25-3fa3622ab577"
      },
      "source": [
        "#Checking whether Knn & Decision Tree algorithms have statistically significant difference\n",
        "if(knn_decisiontree_p_value<0.05):\n",
        "    print(\"Knn and Decision Tree have significant difference with p_value of : \",end=\"\")\n",
        "    print(round(knn_decisiontree_p_value,4))\n",
        "else:\n",
        "    print(\"Knn and Decision Tree does have significant difference with p_value of : \",end=\"\")\n",
        "    print(round(knn_decisiontree_p_value,4))\n",
        "    \n",
        "#Checking whether Knn & Naive Bayes algorithms have statistically significant difference\n",
        "if(knn_naivebayes_p_value<0.05):\n",
        "    print(\"Knn and Naive Bayes have significant difference with p_value of : \",end=\"\")\n",
        "    print(round(knn_naivebayes_p_value,10))\n",
        "else:\n",
        "    print(\"Knn and Naive Bayes does not have significant difference with p_value of : \",end=\"\")\n",
        "    print(round(knn_naivebayes_p_value,10))\n",
        "        \n",
        "#Checking whether Knn & Support Vector Machine algorithms have statistically significant difference\n",
        "if(knn_svm_p_value<0.05):\n",
        "    print(\"Knn and Support Vector Machine have significant difference with p_value of : \",end=\"\")\n",
        "    print(round(knn_svm_p_value,4))\n",
        "else:\n",
        "    print(\"Knn and Support Vector Machine does not have significant difference with p_value of : \",end=\"\")\n",
        "    print(round(knn_svm_p_value,4))\n",
        "    \n",
        "#Checking whether Knn & Random Forest algorithms have statistically significant difference\n",
        "if(knn_randomforest_p_value<0.05):\n",
        "    print(\"Knn and Random Forest have significant difference with p_value of : \",end=\"\")\n",
        "    print(round(knn_randomforest_p_value,4))\n",
        "else:\n",
        "    print(\"Knn and Random Forest does not have significant difference with p_value of : \",end=\"\")\n",
        "    print(round(knn_randomforest_p_value,4))\n",
        "    \n",
        "#Checking whether Knn & Extreme Trees algorithms have statistically significant difference\n",
        "if(knn_extremetrees_p_value<0.05):\n",
        "    print(\"Knn and Extreme Trees have significant difference with p_value of : \",end=\"\")\n",
        "    print(round(knn_extremetrees_p_value,4))\n",
        "else:\n",
        "    print(\"Knn and Extreme Trees does not have significant difference with p_value of : \",end=\"\")\n",
        "    print(round(knn_extremetrees_p_value,4))"
      ],
      "execution_count": null,
      "outputs": [
        {
          "output_type": "stream",
          "text": [
            "Knn and Decision Tree does have significant difference with p_value of : 0.1036\n",
            "Knn and Naive Bayes have significant difference with p_value of : 0.0001088016\n",
            "Knn and Support Vector Machine have significant difference with p_value of : 0.0163\n",
            "Knn and Random Forest does not have significant difference with p_value of : 0.4935\n",
            "Knn and Extreme Trees does not have significant difference with p_value of : 0.4763\n"
          ],
          "name": "stdout"
        }
      ]
    },
    {
      "cell_type": "markdown",
      "metadata": {
        "id": "JAM7a_Cf44AS"
      },
      "source": [
        "**Checking whether there is statistically significant difference in the accuracies between Decision Tree & algorithms(Naive Bayes, Support Vector Machine ,Random Forest and Extreme Trees) against Balanced sample dataset**"
      ]
    },
    {
      "cell_type": "code",
      "metadata": {
        "id": "kL-w-9fu44AT"
      },
      "source": [
        "#Obtaining the 10 fold cross validation scores of Decision Tree & Naive Bayes algorithms combination.\n",
        "DecisionTree_NaiveBayes_cross_val_scores = (decisiontree_cross_val_scores-naivebayes_cross_val_scores)\n",
        "#Obtaining the 10 fold cross validation scores of Decision Tree & Support Vector Machine algorithms combination.\n",
        "DecisionTree_SVM_cross_val_scores = (decisiontree_cross_val_scores-svm_cross_val_scores)\n",
        "#Obtaining the 10 fold cross validation scores of Decision Tree & Random Forest algorithms combination.\n",
        "DecisionTree_RandomForest_cross_val_scores = (decisiontree_cross_val_scores-randomforest_cross_val_scores)\n",
        "#Obtaining the 10 fold cross validation scores of Decision Tree & Extreme Trees algorithms combination.\n",
        "DecsionTree_ExtremeTrees_cross_val_scores = (decisiontree_cross_val_scores-extreme_trees_cross_val_scores)"
      ],
      "execution_count": null,
      "outputs": []
    },
    {
      "cell_type": "code",
      "metadata": {
        "id": "qWC1qMwU44AX"
      },
      "source": [
        "#Obtaining the mean of cross validation scores of Decision Tree & Naive Bayes algorithms combination.\n",
        "DecisionTree_NaiveBayes_mean = np.mean(DecisionTree_NaiveBayes_cross_val_scores)\n",
        "#Obtaining the mean of cross validation scores of Decision Tree & Support Vector Machine algorithms combination.\n",
        "DecisionTree_SVM_mean = np.mean(DecisionTree_SVM_cross_val_scores)\n",
        "#Obtaining the mean of cross validation scores of Decision Tree & Random Forest algorithms combination.\n",
        "DecisionTree_RandomForest_mean = np.mean(DecisionTree_RandomForest_cross_val_scores)\n",
        "#Obtaining the mean of cross validation scores of Decision Tree & Extreme Trees algorithms combination.\n",
        "DecsionTree_ExtremeTrees_mean = np.mean(DecsionTree_ExtremeTrees_cross_val_scores)"
      ],
      "execution_count": null,
      "outputs": []
    },
    {
      "cell_type": "code",
      "metadata": {
        "id": "ptdIHmSC44Ae"
      },
      "source": [
        "#Obtaining Standard Deviation using statistics module\n",
        "import statistics\n",
        "#Obtaining the Standard Deviation of Decision Tree & Naive Bayes algorithms combination.\n",
        "DecisionTree_NaiveBayes_stdev = statistics.stdev(DecisionTree_NaiveBayes_cross_val_scores)\n",
        "#Obtaining the Standard Deviation of Decision Tree & Support Vector Machine algorithms combination.\n",
        "DecisionTree_SVM_stdev = statistics.stdev(DecisionTree_SVM_cross_val_scores)\n",
        "#Obtaining the Standard Deviation of Decision Tree & Random Forest algorithms combination.\n",
        "DecisionTree_RandomForest_stdev = statistics.stdev(DecisionTree_RandomForest_cross_val_scores)\n",
        "#Obtaining the Standard Deviation of Decision Tree & Extreme Trees algorithms combination.\n",
        "DecisionTree_ExtremeTrees_stdev = statistics.stdev(DecsionTree_ExtremeTrees_cross_val_scores)"
      ],
      "execution_count": null,
      "outputs": []
    },
    {
      "cell_type": "code",
      "metadata": {
        "id": "9AUROVJJ44Ah"
      },
      "source": [
        "import scipy.stats as stats\n",
        "import math\n",
        "\n",
        "#Obtaining p_value for Decision Tree & Naive Bayes algorithms combination.\n",
        "_,DecisionTree_NaiveBayes_p_value=stats.ttest_rel(a=decisiontree_cross_val_scores,b=naivebayes_cross_val_scores)\n",
        "\n",
        "#Obtaining p_value for Decision Tree & Support Vector Machine algorithms combination.\n",
        "_,DecisionTree_SVM_p_value=stats.ttest_rel(a=decisiontree_cross_val_scores,b=svm_cross_val_scores)\n",
        "\n",
        "#Obtaining p_value for Decision Tree & Random Forest algorithms combination.\n",
        "_,DecisionTree_RandomForest_p_value=stats.ttest_rel(a=decisiontree_cross_val_scores,b=randomforest_cross_val_scores)\n",
        "\n",
        "#Obtaining p_value for Decision Tree & Extreme Trees algorithms combination.\n",
        "_,DecisionTree_ExtremeTrees_p_value=stats.ttest_rel(a=decisiontree_cross_val_scores,b=extreme_trees_cross_val_scores)\n"
      ],
      "execution_count": null,
      "outputs": []
    },
    {
      "cell_type": "code",
      "metadata": {
        "id": "UpjGxLoD44Am",
        "outputId": "f4698b9e-f126-4af2-d8f7-3a072155a5a4"
      },
      "source": [
        "import pandas as pd\n",
        "Algorithms_cross_val_scores = {\n",
        "    'DecisionTree-NaiveBayes': DecisionTree_NaiveBayes_cross_val_scores,\n",
        "    'DecisionTree-SVM' : DecisionTree_SVM_cross_val_scores,\n",
        "    'DecisionTree-RandomForest':DecisionTree_RandomForest_cross_val_scores ,\n",
        "    'DecisionTree-ExtremeTrees':DecsionTree_ExtremeTrees_cross_val_scores\n",
        "}\n",
        "\n",
        "df3 = pd.DataFrame(Algorithms_cross_val_scores ).rename_axis('Folds', axis=1)\n",
        "mean_row = {'DecisionTree-NaiveBayes' :DecisionTree_NaiveBayes_mean ,\n",
        "            'DecisionTree-SVM':DecisionTree_SVM_stdev, 'DecisionTree-RandomForest':DecisionTree_RandomForest_mean,\n",
        "           'DecisionTree-ExtremeTrees':DecsionTree_ExtremeTrees_mean }\n",
        "\n",
        "stdev_row = {'DecisionTree-NaiveBayes' :DecisionTree_NaiveBayes_stdev ,\n",
        "             'DecisionTree-SVM':DecisionTree_SVM_stdev, 'DecisionTree-RandomForest':DecisionTree_RandomForest_stdev,\n",
        "             'DecisionTree-ExtremeTrees':DecisionTree_ExtremeTrees_stdev }\n",
        "\n",
        "p_value_row = {'DecisionTree-NaiveBayes' :DecisionTree_NaiveBayes_p_value ,\n",
        "             'DecisionTree-SVM':DecisionTree_SVM_p_value, 'DecisionTree-RandomForest':DecisionTree_RandomForest_p_value,\n",
        "             'DecisionTree-ExtremeTrees':DecisionTree_ExtremeTrees_p_value }\n",
        "\n",
        "df3 = df3.append(mean_row,ignore_index = True) \n",
        "df3 = df3.append(stdev_row,ignore_index=True)\n",
        "df3 = df3.append(p_value_row,ignore_index=True)\n",
        "df3.index += 1\n",
        "df3.rename(index={11: 'mean',12:'stdev',13:'p_value'})"
      ],
      "execution_count": null,
      "outputs": [
        {
          "output_type": "execute_result",
          "data": {
            "text/html": [
              "<div>\n",
              "<style scoped>\n",
              "    .dataframe tbody tr th:only-of-type {\n",
              "        vertical-align: middle;\n",
              "    }\n",
              "\n",
              "    .dataframe tbody tr th {\n",
              "        vertical-align: top;\n",
              "    }\n",
              "\n",
              "    .dataframe thead th {\n",
              "        text-align: right;\n",
              "    }\n",
              "</style>\n",
              "<table border=\"1\" class=\"dataframe\">\n",
              "  <thead>\n",
              "    <tr style=\"text-align: right;\">\n",
              "      <th>Folds</th>\n",
              "      <th>DecisionTree-NaiveBayes</th>\n",
              "      <th>DecisionTree-SVM</th>\n",
              "      <th>DecisionTree-RandomForest</th>\n",
              "      <th>DecisionTree-ExtremeTrees</th>\n",
              "    </tr>\n",
              "  </thead>\n",
              "  <tbody>\n",
              "    <tr>\n",
              "      <td>1</td>\n",
              "      <td>-0.143978</td>\n",
              "      <td>-0.222436</td>\n",
              "      <td>0.068961</td>\n",
              "      <td>-0.006194</td>\n",
              "    </tr>\n",
              "    <tr>\n",
              "      <td>2</td>\n",
              "      <td>0.036339</td>\n",
              "      <td>0.027392</td>\n",
              "      <td>-0.003441</td>\n",
              "      <td>-0.046800</td>\n",
              "    </tr>\n",
              "    <tr>\n",
              "      <td>3</td>\n",
              "      <td>0.092361</td>\n",
              "      <td>0.054508</td>\n",
              "      <td>-0.013489</td>\n",
              "      <td>0.043496</td>\n",
              "    </tr>\n",
              "    <tr>\n",
              "      <td>4</td>\n",
              "      <td>0.115210</td>\n",
              "      <td>0.080661</td>\n",
              "      <td>-0.013352</td>\n",
              "      <td>-0.015416</td>\n",
              "    </tr>\n",
              "    <tr>\n",
              "      <td>5</td>\n",
              "      <td>0.116586</td>\n",
              "      <td>0.075981</td>\n",
              "      <td>-0.015829</td>\n",
              "      <td>-0.020647</td>\n",
              "    </tr>\n",
              "    <tr>\n",
              "      <td>6</td>\n",
              "      <td>0.107089</td>\n",
              "      <td>0.054370</td>\n",
              "      <td>-0.011975</td>\n",
              "      <td>-0.015692</td>\n",
              "    </tr>\n",
              "    <tr>\n",
              "      <td>7</td>\n",
              "      <td>-0.064556</td>\n",
              "      <td>-0.142602</td>\n",
              "      <td>-0.195733</td>\n",
              "      <td>-0.111769</td>\n",
              "    </tr>\n",
              "    <tr>\n",
              "      <td>8</td>\n",
              "      <td>-0.080798</td>\n",
              "      <td>-0.221886</td>\n",
              "      <td>-0.103648</td>\n",
              "      <td>-0.127323</td>\n",
              "    </tr>\n",
              "    <tr>\n",
              "      <td>9</td>\n",
              "      <td>0.273916</td>\n",
              "      <td>0.115760</td>\n",
              "      <td>-0.047763</td>\n",
              "      <td>-0.064143</td>\n",
              "    </tr>\n",
              "    <tr>\n",
              "      <td>10</td>\n",
              "      <td>0.134893</td>\n",
              "      <td>-0.023262</td>\n",
              "      <td>-0.013076</td>\n",
              "      <td>-0.031934</td>\n",
              "    </tr>\n",
              "    <tr>\n",
              "      <td>mean</td>\n",
              "      <td>0.058706</td>\n",
              "      <td>0.128186</td>\n",
              "      <td>-0.034935</td>\n",
              "      <td>-0.039642</td>\n",
              "    </tr>\n",
              "    <tr>\n",
              "      <td>stdev</td>\n",
              "      <td>0.123995</td>\n",
              "      <td>0.128186</td>\n",
              "      <td>0.070572</td>\n",
              "      <td>0.050721</td>\n",
              "    </tr>\n",
              "    <tr>\n",
              "      <td>p_value</td>\n",
              "      <td>0.168564</td>\n",
              "      <td>0.631018</td>\n",
              "      <td>0.151932</td>\n",
              "      <td>0.035479</td>\n",
              "    </tr>\n",
              "  </tbody>\n",
              "</table>\n",
              "</div>"
            ],
            "text/plain": [
              "Folds    DecisionTree-NaiveBayes  DecisionTree-SVM  DecisionTree-RandomForest  \\\n",
              "1                      -0.143978         -0.222436                   0.068961   \n",
              "2                       0.036339          0.027392                  -0.003441   \n",
              "3                       0.092361          0.054508                  -0.013489   \n",
              "4                       0.115210          0.080661                  -0.013352   \n",
              "5                       0.116586          0.075981                  -0.015829   \n",
              "6                       0.107089          0.054370                  -0.011975   \n",
              "7                      -0.064556         -0.142602                  -0.195733   \n",
              "8                      -0.080798         -0.221886                  -0.103648   \n",
              "9                       0.273916          0.115760                  -0.047763   \n",
              "10                      0.134893         -0.023262                  -0.013076   \n",
              "mean                    0.058706          0.128186                  -0.034935   \n",
              "stdev                   0.123995          0.128186                   0.070572   \n",
              "p_value                 0.168564          0.631018                   0.151932   \n",
              "\n",
              "Folds    DecisionTree-ExtremeTrees  \n",
              "1                        -0.006194  \n",
              "2                        -0.046800  \n",
              "3                         0.043496  \n",
              "4                        -0.015416  \n",
              "5                        -0.020647  \n",
              "6                        -0.015692  \n",
              "7                        -0.111769  \n",
              "8                        -0.127323  \n",
              "9                        -0.064143  \n",
              "10                       -0.031934  \n",
              "mean                     -0.039642  \n",
              "stdev                     0.050721  \n",
              "p_value                   0.035479  "
            ]
          },
          "metadata": {
            "tags": []
          },
          "execution_count": 55
        }
      ]
    },
    {
      "cell_type": "code",
      "metadata": {
        "id": "AGnOq25a44Ap",
        "outputId": "fd9f696b-c674-49ec-bf34-3b13f4877ce0"
      },
      "source": [
        "#Checking whether Decision Tree & Naive Bayes algorithms have statistically significant difference\n",
        "if(DecisionTree_NaiveBayes_p_value<0.05):\n",
        "    print (\"Decision Tree and Naive Bayes have statistical significant difference with p_value of : \",end=\"\") \n",
        "    print (round(DecisionTree_NaiveBayes_p_value,4)) \n",
        "else:\n",
        "    print (\"Decision Tree and Naive Bayes does not have statistical significant difference with p_value of : \",end=\"\") \n",
        "    print (round(DecisionTree_NaiveBayes_p_value,4)) \n",
        "        \n",
        "#Checking whether Decision Tree & Support Vector Machine algorithms have statistically significant difference\n",
        "if(DecisionTree_SVM_p_value<0.05):\n",
        "    print (\"Decision Tree and SVM have statistical significant difference with p_value of : \",end=\"\") \n",
        "    print (round(DecisionTree_SVM_p_value,4)) \n",
        "else:\n",
        "    print (\"Decision Tree and SVM does not have statistical significant difference with p_value of : \",end=\"\") \n",
        "    print (round(DecisionTree_SVM_p_value,4)) \n",
        "\n",
        "#Checking whether Decision Tree & Random Forest algorithms have statistically significant difference\n",
        "if(DecisionTree_RandomForest_p_value<0.05):\n",
        "    print(\"Decision Tree and Random Forest  have statistical significant difference with p_value of : \",end=\"\")\n",
        "    print (round(DecisionTree_RandomForest_p_value,4)) \n",
        "else:\n",
        "    print(\"Decision Tree and Random Forest does not have significant difference with p_value of : \",end=\"\")\n",
        "    print (round(DecisionTree_RandomForest_p_value,4)) \n",
        "    \n",
        "#Checking whether Decision Tree & Extreme Trees algorithms have statistically significant difference\n",
        "if(DecisionTree_ExtremeTrees_p_value<0.05):\n",
        "    print(\"Decision Tree and Extreme Trees have significant difference with p_value of : \",end=\"\")\n",
        "    print(round(DecisionTree_ExtremeTrees_p_value,4))\n",
        "else:\n",
        "    print(\"Decision Tree and Extreme Trees does not have significant difference with p_value of: \",end=\"\")\n",
        "    print(round(DecisionTree_ExtremeTrees_p_value,4))"
      ],
      "execution_count": null,
      "outputs": [
        {
          "output_type": "stream",
          "text": [
            "Decision Tree and Naive Bayes does not have statistical significant difference with p_value of : 0.1686\n",
            "Decision Tree and SVM does not have statistical significant difference with p_value of : 0.631\n",
            "Decision Tree and Random Forest does not have significant difference with p_value of : 0.1519\n",
            "Decision Tree and Extreme Trees have significant difference with p_value of : 0.0355\n"
          ],
          "name": "stdout"
        }
      ]
    },
    {
      "cell_type": "markdown",
      "metadata": {
        "id": "4zFIs__n44Av"
      },
      "source": [
        "**Checking whether there is statistically significant difference in the accuracies between Naive Bayes & algorithms(Support Vector Machine ,Random Forest and Extreme Trees) against Balanced sample dataset**"
      ]
    },
    {
      "cell_type": "code",
      "metadata": {
        "id": "ynJA5d1k44Av"
      },
      "source": [
        "#Obtaining the 10 fold cross validation scores of Naive Bayes & Support Vector Machine algorithms combination.\n",
        "NaiveBayes_SVM_cross_val_scores = (naivebayes_cross_val_scores-svm_cross_val_scores)\n",
        "#Obtaining the 10 fold cross validation scores of Naive Bayes & Random Forest algorithms combination.\n",
        "NaiveBayes_RandomForest_cross_val_scores = (naivebayes_cross_val_scores-randomforest_cross_val_scores)\n",
        "#Obtaining the 10 fold cross validation scores of Naive Bayes & Extreme Trees algorithms combination.\n",
        "NaiveBayes_ExtremeTrees_cross_val_scores = (naivebayes_cross_val_scores-extreme_trees_cross_val_scores)"
      ],
      "execution_count": null,
      "outputs": []
    },
    {
      "cell_type": "code",
      "metadata": {
        "id": "aO5Ea1rj44Ax"
      },
      "source": [
        "#Obtaining the mean of cross validation scores of Naive Bayes & Support Vector Machine algorithms combination.\n",
        "NaiveBayes_SVM_mean = np.mean(NaiveBayes_SVM_cross_val_scores)\n",
        "#Obtaining the mean of cross validation scores of Naive Bayes & Random Forest algorithms combination.\n",
        "NaiveBayes_RandomForest_mean = np.mean(NaiveBayes_RandomForest_cross_val_scores)\n",
        "#Obtaining the mean of cross validation scores of Naive Bayes & Extreme Trees algorithms combination.\n",
        "NaiveBayes_ExtremeTrees_mean = np.mean(NaiveBayes_ExtremeTrees_cross_val_scores)"
      ],
      "execution_count": null,
      "outputs": []
    },
    {
      "cell_type": "code",
      "metadata": {
        "id": "kkamkFch44A0"
      },
      "source": [
        "#Obtaining Standard Deviation using statistics module\n",
        "import statistics\n",
        "#Obtaining the Standard Deviation of Naive Bayes & Support Vector Machine algorithms combination.\n",
        "NaiveBayes_SVM_stdev = statistics.stdev(DecisionTree_SVM_cross_val_scores)\n",
        "#Obtaining the Standard Deviation of Naive Bayes & Random Forest algorithms combination.\n",
        "NaiveBayes_RandomForest_stdev = statistics.stdev(NaiveBayes_RandomForest_cross_val_scores)\n",
        "#Obtaining the Standard Deviation of Naive Bayes & Extreme Trees algorithms combination.\n",
        "NaiveBayes_ExtremeTrees_stdev = statistics.stdev(NaiveBayes_ExtremeTrees_cross_val_scores)"
      ],
      "execution_count": null,
      "outputs": []
    },
    {
      "cell_type": "code",
      "metadata": {
        "id": "8GABye3c44A4"
      },
      "source": [
        "import scipy.stats as stats\n",
        "import math\n",
        "\n",
        "#Obtaining p_value for Naive Bayes & Support Vector Machine algorithms combination.\n",
        "_,NaiveBayes_SVM_p_value=stats.ttest_rel(a=NaiveBayes_SVM_cross_val_scores,b=svm_cross_val_scores)\n",
        "\n",
        "#Obtaining p_value for Naive Bayes & Random Forest algorithms combination.\n",
        "_,NaiveBayes_RandomForest_p_value=stats.ttest_rel(a=NaiveBayes_SVM_cross_val_scores,b=randomforest_cross_val_scores)\n",
        "\n",
        "#Obtaining p_value for Naive Bayes & Extreme Trees algorithms combination.\n",
        "_,NaiveBayes_ExtremeTrees_p_value=stats.ttest_rel(a=NaiveBayes_SVM_cross_val_scores,b=extreme_trees_cross_val_scores)\n"
      ],
      "execution_count": null,
      "outputs": []
    },
    {
      "cell_type": "code",
      "metadata": {
        "id": "58GoH9dD44BC",
        "outputId": "52a3d00e-3ed9-4e1d-bd44-55fcca20963a"
      },
      "source": [
        "import pandas as pd\n",
        "Algorithms_cross_val_scores = {\n",
        "    'NaiveBayes-SVM' : NaiveBayes_SVM_cross_val_scores,\n",
        "    'NaiveBayes-RandomForest':NaiveBayes_RandomForest_cross_val_scores ,\n",
        "    'NaiveBayes-ExtremeTrees':NaiveBayes_ExtremeTrees_cross_val_scores\n",
        "}\n",
        "\n",
        "df4 = pd.DataFrame(Algorithms_cross_val_scores ).rename_axis('Folds', axis=1)\n",
        "mean_row = {'NaiveBayes-SVM' :NaiveBayes_SVM_mean ,\n",
        "            'NaiveBayes-RandomForest':NaiveBayes_RandomForest_mean,\n",
        "            'NaiveBayes-ExtremeTrees':NaiveBayes_ExtremeTrees_mean}\n",
        "\n",
        "stdev_row = {'NaiveBayes-SVM' :NaiveBayes_SVM_stdev ,\n",
        "             'NaiveBayes-RandomForest':NaiveBayes_RandomForest_stdev, \n",
        "             'NaiveBayes-ExtremeTrees':NaiveBayes_ExtremeTrees_stdev}\n",
        "\n",
        "p_value_row = {'NaiveBayes-SVM' :NaiveBayes_SVM_p_value ,\n",
        "              'NaiveBayes-RandomForest':NaiveBayes_RandomForest_p_value, \n",
        "              'NaiveBayes-ExtremeTrees':NaiveBayes_ExtremeTrees_p_value}\n",
        "\n",
        "df4 = df4.append(mean_row,ignore_index = True) \n",
        "df4 = df4.append(stdev_row,ignore_index=True)\n",
        "df4 = df4.append(p_value_row,ignore_index=True)\n",
        "df4.index += 1\n",
        "df4.rename(index={11: 'mean',12:'stdev',13:'p_value'})"
      ],
      "execution_count": null,
      "outputs": [
        {
          "output_type": "execute_result",
          "data": {
            "text/html": [
              "<div>\n",
              "<style scoped>\n",
              "    .dataframe tbody tr th:only-of-type {\n",
              "        vertical-align: middle;\n",
              "    }\n",
              "\n",
              "    .dataframe tbody tr th {\n",
              "        vertical-align: top;\n",
              "    }\n",
              "\n",
              "    .dataframe thead th {\n",
              "        text-align: right;\n",
              "    }\n",
              "</style>\n",
              "<table border=\"1\" class=\"dataframe\">\n",
              "  <thead>\n",
              "    <tr style=\"text-align: right;\">\n",
              "      <th>Folds</th>\n",
              "      <th>NaiveBayes-SVM</th>\n",
              "      <th>NaiveBayes-RandomForest</th>\n",
              "      <th>NaiveBayes-ExtremeTrees</th>\n",
              "    </tr>\n",
              "  </thead>\n",
              "  <tbody>\n",
              "    <tr>\n",
              "      <td>1</td>\n",
              "      <td>-7.845836e-02</td>\n",
              "      <td>2.129387e-01</td>\n",
              "      <td>1.377839e-01</td>\n",
              "    </tr>\n",
              "    <tr>\n",
              "      <td>2</td>\n",
              "      <td>-8.947006e-03</td>\n",
              "      <td>-3.977977e-02</td>\n",
              "      <td>-8.313833e-02</td>\n",
              "    </tr>\n",
              "    <tr>\n",
              "      <td>3</td>\n",
              "      <td>-3.785272e-02</td>\n",
              "      <td>-1.058500e-01</td>\n",
              "      <td>-4.886442e-02</td>\n",
              "    </tr>\n",
              "    <tr>\n",
              "      <td>4</td>\n",
              "      <td>-3.454921e-02</td>\n",
              "      <td>-1.285616e-01</td>\n",
              "      <td>-1.306263e-01</td>\n",
              "    </tr>\n",
              "    <tr>\n",
              "      <td>5</td>\n",
              "      <td>-4.060564e-02</td>\n",
              "      <td>-1.324157e-01</td>\n",
              "      <td>-1.372333e-01</td>\n",
              "    </tr>\n",
              "    <tr>\n",
              "      <td>6</td>\n",
              "      <td>-5.271851e-02</td>\n",
              "      <td>-1.190640e-01</td>\n",
              "      <td>-1.227805e-01</td>\n",
              "    </tr>\n",
              "    <tr>\n",
              "      <td>7</td>\n",
              "      <td>-7.804542e-02</td>\n",
              "      <td>-1.311769e-01</td>\n",
              "      <td>-4.721266e-02</td>\n",
              "    </tr>\n",
              "    <tr>\n",
              "      <td>8</td>\n",
              "      <td>-1.410874e-01</td>\n",
              "      <td>-2.284928e-02</td>\n",
              "      <td>-4.652443e-02</td>\n",
              "    </tr>\n",
              "    <tr>\n",
              "      <td>9</td>\n",
              "      <td>-1.581555e-01</td>\n",
              "      <td>-3.216793e-01</td>\n",
              "      <td>-3.380592e-01</td>\n",
              "    </tr>\n",
              "    <tr>\n",
              "      <td>10</td>\n",
              "      <td>-1.581555e-01</td>\n",
              "      <td>-1.479697e-01</td>\n",
              "      <td>-1.668273e-01</td>\n",
              "    </tr>\n",
              "    <tr>\n",
              "      <td>mean</td>\n",
              "      <td>-7.885754e-02</td>\n",
              "      <td>-9.364074e-02</td>\n",
              "      <td>-9.834825e-02</td>\n",
              "    </tr>\n",
              "    <tr>\n",
              "      <td>stdev</td>\n",
              "      <td>1.281856e-01</td>\n",
              "      <td>1.340746e-01</td>\n",
              "      <td>1.197407e-01</td>\n",
              "    </tr>\n",
              "    <tr>\n",
              "      <td>p_value</td>\n",
              "      <td>1.434372e-12</td>\n",
              "      <td>7.826655e-09</td>\n",
              "      <td>1.721305e-09</td>\n",
              "    </tr>\n",
              "  </tbody>\n",
              "</table>\n",
              "</div>"
            ],
            "text/plain": [
              "Folds    NaiveBayes-SVM  NaiveBayes-RandomForest  NaiveBayes-ExtremeTrees\n",
              "1         -7.845836e-02             2.129387e-01             1.377839e-01\n",
              "2         -8.947006e-03            -3.977977e-02            -8.313833e-02\n",
              "3         -3.785272e-02            -1.058500e-01            -4.886442e-02\n",
              "4         -3.454921e-02            -1.285616e-01            -1.306263e-01\n",
              "5         -4.060564e-02            -1.324157e-01            -1.372333e-01\n",
              "6         -5.271851e-02            -1.190640e-01            -1.227805e-01\n",
              "7         -7.804542e-02            -1.311769e-01            -4.721266e-02\n",
              "8         -1.410874e-01            -2.284928e-02            -4.652443e-02\n",
              "9         -1.581555e-01            -3.216793e-01            -3.380592e-01\n",
              "10        -1.581555e-01            -1.479697e-01            -1.668273e-01\n",
              "mean      -7.885754e-02            -9.364074e-02            -9.834825e-02\n",
              "stdev      1.281856e-01             1.340746e-01             1.197407e-01\n",
              "p_value    1.434372e-12             7.826655e-09             1.721305e-09"
            ]
          },
          "metadata": {
            "tags": []
          },
          "execution_count": 61
        }
      ]
    },
    {
      "cell_type": "code",
      "metadata": {
        "id": "4L8VUt4r44BM",
        "outputId": "f964e735-fd45-4b8e-ddc5-720145d8a3f1"
      },
      "source": [
        "#Checking whether Naive Bayes & Support Vector Machine algorithms have statistically significant difference\n",
        "if(NaiveBayes_SVM_p_value<0.05):\n",
        "    print (\"Naive Bayes and SVM have significant difference with p_value of : \",end=\"\") \n",
        "    print (round(NaiveBayes_SVM_p_value,20)) \n",
        "else:\n",
        "    print (\"Naive Bayes and SVM does not have significant difference with p_value of : \",end=\"\") \n",
        "    print (round(NaiveBayes_SVM_p_value,20)) \n",
        "        \n",
        "#Checking whether Naive Bayes & Random Forests algorithms have statistically significant difference\n",
        "if(NaiveBayes_RandomForest_p_value<0.05):\n",
        "    print (\"Naive Bayes and Random Forest have significant difference with p_value of : \",end=\"\") \n",
        "    print (round(NaiveBayes_RandomForest_p_value,20)) \n",
        "else:\n",
        "    print (\"Naive Bayes and Random Forest does not have significant difference with p_value of : \",end=\"\") \n",
        "    print (round(NaiveBayes_RandomForest_p_value,20)) \n",
        "\n",
        "#Checking whether Naive Bayes & Extreme trees algorithms have statistically significant difference\n",
        "if(NaiveBayes_ExtremeTrees_p_value<0.05):\n",
        "    print(\"Naive Bayes and Extreme Trees have significant difference with p_value of : \",end=\"\")\n",
        "    print (round(NaiveBayes_ExtremeTrees_p_value,20)) \n",
        "else:\n",
        "    print(\"Naive Bayes and RExtreme Trees does not have significant difference with p_value of : \",end=\"\")\n",
        "    print (round(NaiveBayes_ExtremeTrees_p_value,20)) "
      ],
      "execution_count": null,
      "outputs": [
        {
          "output_type": "stream",
          "text": [
            "Naive Bayes and SVM have significant difference with p_value of : 1.43437159e-12\n",
            "Naive Bayes and Random Forest have significant difference with p_value of : 7.82665503599e-09\n",
            "Naive Bayes and Extreme Trees have significant difference with p_value of : 1.72130454527e-09\n"
          ],
          "name": "stdout"
        }
      ]
    },
    {
      "cell_type": "markdown",
      "metadata": {
        "id": "gL_54_mo44BQ"
      },
      "source": [
        "**Checking whether there is statistically significant difference in the accuracies between Support Vector Machine & algorithms(Random Forest and Extreme Trees) against Balanced sample dataset**"
      ]
    },
    {
      "cell_type": "code",
      "metadata": {
        "id": "w28AoAjX44BR"
      },
      "source": [
        "#Obtaining the 10 fold cross validation scores of SVM & Random Forest algorithms combination.\n",
        "SVM_RandomForest_cross_val_scores = (svm_cross_val_scores-randomforest_cross_val_scores)\n",
        "#Obtaining the 10 fold cross validation scores of SVM & Extreme Trees algorithms combination.\n",
        "SVM_ExtremeTrees_cross_val_scores = (svm_cross_val_scores-extreme_trees_cross_val_scores)"
      ],
      "execution_count": null,
      "outputs": []
    },
    {
      "cell_type": "code",
      "metadata": {
        "id": "BPmjYO9m44BX"
      },
      "source": [
        "#Obtaining the mean of cross validation scores of SVM & Random Forest algorithms combination.\n",
        "SVM_RandomForest_mean = np.mean(SVM_RandomForest_cross_val_scores)\n",
        "#Obtaining the mean of cross validation scores of SVM & Extreme Trees algorithms combination.\n",
        "SVM_ExtremeTrees_mean = np.mean(SVM_ExtremeTrees_cross_val_scores)"
      ],
      "execution_count": null,
      "outputs": []
    },
    {
      "cell_type": "code",
      "metadata": {
        "id": "Es4YptYF44Ba"
      },
      "source": [
        "#Obtaining Standard Deviation using statistics module\n",
        "import statistics\n",
        "#Obtaining the Standard Deviation of SVM & Random Forest algorithms combination.\n",
        "SVM_RandomForest_stdev = statistics.stdev(SVM_RandomForest_cross_val_scores)\n",
        "#Obtaining the Standard Deviation of SVM & Extreme Trees algorithms combination.\n",
        "SVM_ExtremeTrees_stdev = statistics.stdev(SVM_ExtremeTrees_cross_val_scores)"
      ],
      "execution_count": null,
      "outputs": []
    },
    {
      "cell_type": "code",
      "metadata": {
        "id": "Nn-4P3sk44Bf"
      },
      "source": [
        "import scipy.stats as stats\n",
        "import math\n",
        "\n",
        "#Obtaining p_value for SVM & Random Forest algorithms combination.\n",
        "_,SVM_RandomForest_p_value=stats.ttest_rel(a=svm_cross_val_scores,b=randomforest_cross_val_scores)\n",
        "\n",
        "#Obtaining p_value for SVM & Extreme Trees algorithms combination.\n",
        "_,SVM_ExtremeTrees_p_value=stats.ttest_rel(a=svm_cross_val_scores,b=extreme_trees_cross_val_scores)\n"
      ],
      "execution_count": null,
      "outputs": []
    },
    {
      "cell_type": "code",
      "metadata": {
        "id": "GYqR4K1q44Bi",
        "outputId": "c2e37758-7f56-464e-b163-b47e8be1c66b"
      },
      "source": [
        "import pandas as pd\n",
        "Algorithms_cross_val_scores = {\n",
        "    'SVM-RandomForest':SVM_RandomForest_cross_val_scores ,\n",
        "    'SVM-ExtremeTrees':SVM_ExtremeTrees_cross_val_scores\n",
        "}\n",
        "\n",
        "df4 = pd.DataFrame(Algorithms_cross_val_scores ).rename_axis('Folds', axis=1)\n",
        "mean_row = {'SVM-RandomForest':SVM_RandomForest_mean,\n",
        "            'SVM-ExtremeTrees':SVM_ExtremeTrees_mean}\n",
        "\n",
        "stdev_row = {\n",
        "             'SVM-RandomForest':SVM_RandomForest_stdev, \n",
        "             'SVM-ExtremeTrees':SVM_ExtremeTrees_stdev}\n",
        "\n",
        "p_value_row = {\n",
        "              'SVM-RandomForest':SVM_RandomForest_p_value, \n",
        "              'SVM-ExtremeTrees':SVM_ExtremeTrees_p_value}\n",
        "\n",
        "df4 = df4.append(mean_row,ignore_index = True) \n",
        "df4 = df4.append(stdev_row,ignore_index=True)\n",
        "df4 = df4.append(p_value_row,ignore_index=True)\n",
        "df4.index += 1\n",
        "df4.rename(index={11: 'mean',12:'stdev',13:'p_value'})"
      ],
      "execution_count": null,
      "outputs": [
        {
          "output_type": "execute_result",
          "data": {
            "text/html": [
              "<div>\n",
              "<style scoped>\n",
              "    .dataframe tbody tr th:only-of-type {\n",
              "        vertical-align: middle;\n",
              "    }\n",
              "\n",
              "    .dataframe tbody tr th {\n",
              "        vertical-align: top;\n",
              "    }\n",
              "\n",
              "    .dataframe thead th {\n",
              "        text-align: right;\n",
              "    }\n",
              "</style>\n",
              "<table border=\"1\" class=\"dataframe\">\n",
              "  <thead>\n",
              "    <tr style=\"text-align: right;\">\n",
              "      <th>Folds</th>\n",
              "      <th>SVM-RandomForest</th>\n",
              "      <th>SVM-ExtremeTrees</th>\n",
              "    </tr>\n",
              "  </thead>\n",
              "  <tbody>\n",
              "    <tr>\n",
              "      <td>1</td>\n",
              "      <td>0.291397</td>\n",
              "      <td>0.216242</td>\n",
              "    </tr>\n",
              "    <tr>\n",
              "      <td>2</td>\n",
              "      <td>-0.030833</td>\n",
              "      <td>-0.074191</td>\n",
              "    </tr>\n",
              "    <tr>\n",
              "      <td>3</td>\n",
              "      <td>-0.067997</td>\n",
              "      <td>-0.011012</td>\n",
              "    </tr>\n",
              "    <tr>\n",
              "      <td>4</td>\n",
              "      <td>-0.094012</td>\n",
              "      <td>-0.096077</td>\n",
              "    </tr>\n",
              "    <tr>\n",
              "      <td>5</td>\n",
              "      <td>-0.091810</td>\n",
              "      <td>-0.096628</td>\n",
              "    </tr>\n",
              "    <tr>\n",
              "      <td>6</td>\n",
              "      <td>-0.066345</td>\n",
              "      <td>-0.070062</td>\n",
              "    </tr>\n",
              "    <tr>\n",
              "      <td>7</td>\n",
              "      <td>-0.053131</td>\n",
              "      <td>0.030833</td>\n",
              "    </tr>\n",
              "    <tr>\n",
              "      <td>8</td>\n",
              "      <td>0.118238</td>\n",
              "      <td>0.094563</td>\n",
              "    </tr>\n",
              "    <tr>\n",
              "      <td>9</td>\n",
              "      <td>-0.163524</td>\n",
              "      <td>-0.179904</td>\n",
              "    </tr>\n",
              "    <tr>\n",
              "      <td>10</td>\n",
              "      <td>0.010186</td>\n",
              "      <td>-0.008672</td>\n",
              "    </tr>\n",
              "    <tr>\n",
              "      <td>mean</td>\n",
              "      <td>-0.014783</td>\n",
              "      <td>-0.019491</td>\n",
              "    </tr>\n",
              "    <tr>\n",
              "      <td>stdev</td>\n",
              "      <td>0.130647</td>\n",
              "      <td>0.112742</td>\n",
              "    </tr>\n",
              "    <tr>\n",
              "      <td>p_value</td>\n",
              "      <td>0.728723</td>\n",
              "      <td>0.597882</td>\n",
              "    </tr>\n",
              "  </tbody>\n",
              "</table>\n",
              "</div>"
            ],
            "text/plain": [
              "Folds    SVM-RandomForest  SVM-ExtremeTrees\n",
              "1                0.291397          0.216242\n",
              "2               -0.030833         -0.074191\n",
              "3               -0.067997         -0.011012\n",
              "4               -0.094012         -0.096077\n",
              "5               -0.091810         -0.096628\n",
              "6               -0.066345         -0.070062\n",
              "7               -0.053131          0.030833\n",
              "8                0.118238          0.094563\n",
              "9               -0.163524         -0.179904\n",
              "10               0.010186         -0.008672\n",
              "mean            -0.014783         -0.019491\n",
              "stdev            0.130647          0.112742\n",
              "p_value          0.728723          0.597882"
            ]
          },
          "metadata": {
            "tags": []
          },
          "execution_count": 67
        }
      ]
    },
    {
      "cell_type": "code",
      "metadata": {
        "id": "2y1ZzH4X44Bk",
        "outputId": "08f7b5c3-7d0f-491c-a083-f3173ddf1014"
      },
      "source": [
        "#Checking whether SVM & Random Forests algorithms have statistically significant difference\n",
        "if(SVM_RandomForest_p_value<0.05):\n",
        "    print (\"SVM and Random Forest have significant difference with p_value of : \",end=\"\") \n",
        "    print (round(SVM_RandomForest_p_value,4)) \n",
        "else:\n",
        "    print (\"SVM and Random Forest does not have significant difference with p_value of : \",end=\"\") \n",
        "    print (round(SVM_RandomForest_p_value,4)) \n",
        "\n",
        "#Checking whether SVM & Extreme trees algorithms have statistically significant difference\n",
        "if(SVM_ExtremeTrees_p_value<0.05):\n",
        "    print(\"SVM and Extreme Trees have significant difference with p_value of : \",end=\"\")\n",
        "    print (round(SVM_ExtremeTrees_p_value,4)) \n",
        "else:\n",
        "    print(\"SVM and Extreme Trees does not have significant difference with p_value of : \",end=\"\")\n",
        "    print (round(SVM_ExtremeTrees_p_value,4)) "
      ],
      "execution_count": null,
      "outputs": [
        {
          "output_type": "stream",
          "text": [
            "SVM and Random Forest does not have significant difference with p_value of : 0.7287\n",
            "SVM and Extreme Trees does not have significant difference with p_value of : 0.5979\n"
          ],
          "name": "stdout"
        }
      ]
    },
    {
      "cell_type": "markdown",
      "metadata": {
        "id": "2mzN5NpL44Bp"
      },
      "source": [
        "**Checking whether there is statistically significant difference in the accuracies between Random Forest and Extreme Trees algorithms against Balanced sample dataset**"
      ]
    },
    {
      "cell_type": "code",
      "metadata": {
        "id": "oYkFZy9k44Bq"
      },
      "source": [
        "#Obtaining the 10 fold cross validation scores of Random Forest & Extreme Trees algorithms combination.\n",
        "RandomForest_ExtremeTrees_cross_val_scores = (randomforest_cross_val_scores-extreme_trees_cross_val_scores)"
      ],
      "execution_count": null,
      "outputs": []
    },
    {
      "cell_type": "code",
      "metadata": {
        "id": "9Lp_OJ1344Bt"
      },
      "source": [
        "#Obtaining the mean of cross validation scores of Random Forest & Extreme Trees algorithms combination.\n",
        "RandomForest_ExtremeTrees_mean = np.mean(RandomForest_ExtremeTrees_cross_val_scores)"
      ],
      "execution_count": null,
      "outputs": []
    },
    {
      "cell_type": "code",
      "metadata": {
        "id": "mptJUqwq44Bv"
      },
      "source": [
        "#Obtaining Standard Deviation using statistics module\n",
        "import statistics\n",
        "#Obtaining the Standard Deviation of Random Forest & Extreme Trees algorithms combination.\n",
        "RandomForest_ExtremeTrees_stdev = statistics.stdev(RandomForest_ExtremeTrees_cross_val_scores)"
      ],
      "execution_count": null,
      "outputs": []
    },
    {
      "cell_type": "code",
      "metadata": {
        "id": "fWsS1FeP44B0"
      },
      "source": [
        "import scipy.stats as stats\n",
        "import math\n",
        "\n",
        "#Obtaining p_value for Random Forest & Extreme Trees algorithms combination.\n",
        "_,RandomForest_ExtremeTrees_p_value=stats.ttest_rel(a=randomforest_cross_val_scores,b=extreme_trees_cross_val_scores)\n"
      ],
      "execution_count": null,
      "outputs": []
    },
    {
      "cell_type": "code",
      "metadata": {
        "id": "gPt-j8xg44B5",
        "outputId": "43eb4e77-47df-43e0-9494-bec141b97de9"
      },
      "source": [
        "import pandas as pd\n",
        "Algorithms_cross_val_scores = {\n",
        "    'RandomForest-ExtremeTrees':RandomForest_ExtremeTrees_cross_val_scores \n",
        "}\n",
        "\n",
        "df4 = pd.DataFrame(Algorithms_cross_val_scores ).rename_axis('Folds', axis=1)\n",
        "mean_row = {\n",
        "            'RandomForest-ExtremeTrees':RandomForest_ExtremeTrees_mean}\n",
        "\n",
        "stdev_row = {\n",
        "              \n",
        "             'RandomForest-ExtremeTrees':RandomForest_ExtremeTrees_stdev}\n",
        "\n",
        "p_value_row = {\n",
        "              'RandomForest-ExtremeTrees':RandomForest_ExtremeTrees_p_value}\n",
        "\n",
        "df4 = df4.append(mean_row,ignore_index = True) \n",
        "df4 = df4.append(stdev_row,ignore_index=True)\n",
        "df4 = df4.append(p_value_row,ignore_index=True)\n",
        "df4.index += 1\n",
        "df4.rename(index={11: 'mean',12:'stdev',13:'p_value'})"
      ],
      "execution_count": null,
      "outputs": [
        {
          "output_type": "execute_result",
          "data": {
            "text/html": [
              "<div>\n",
              "<style scoped>\n",
              "    .dataframe tbody tr th:only-of-type {\n",
              "        vertical-align: middle;\n",
              "    }\n",
              "\n",
              "    .dataframe tbody tr th {\n",
              "        vertical-align: top;\n",
              "    }\n",
              "\n",
              "    .dataframe thead th {\n",
              "        text-align: right;\n",
              "    }\n",
              "</style>\n",
              "<table border=\"1\" class=\"dataframe\">\n",
              "  <thead>\n",
              "    <tr style=\"text-align: right;\">\n",
              "      <th>Folds</th>\n",
              "      <th>RandomForest-ExtremeTrees</th>\n",
              "    </tr>\n",
              "  </thead>\n",
              "  <tbody>\n",
              "    <tr>\n",
              "      <td>1</td>\n",
              "      <td>-0.075155</td>\n",
              "    </tr>\n",
              "    <tr>\n",
              "      <td>2</td>\n",
              "      <td>-0.043359</td>\n",
              "    </tr>\n",
              "    <tr>\n",
              "      <td>3</td>\n",
              "      <td>0.056986</td>\n",
              "    </tr>\n",
              "    <tr>\n",
              "      <td>4</td>\n",
              "      <td>-0.002065</td>\n",
              "    </tr>\n",
              "    <tr>\n",
              "      <td>5</td>\n",
              "      <td>-0.004818</td>\n",
              "    </tr>\n",
              "    <tr>\n",
              "      <td>6</td>\n",
              "      <td>-0.003716</td>\n",
              "    </tr>\n",
              "    <tr>\n",
              "      <td>7</td>\n",
              "      <td>0.083964</td>\n",
              "    </tr>\n",
              "    <tr>\n",
              "      <td>8</td>\n",
              "      <td>-0.023675</td>\n",
              "    </tr>\n",
              "    <tr>\n",
              "      <td>9</td>\n",
              "      <td>-0.016380</td>\n",
              "    </tr>\n",
              "    <tr>\n",
              "      <td>10</td>\n",
              "      <td>-0.018858</td>\n",
              "    </tr>\n",
              "    <tr>\n",
              "      <td>mean</td>\n",
              "      <td>-0.004708</td>\n",
              "    </tr>\n",
              "    <tr>\n",
              "      <td>stdev</td>\n",
              "      <td>0.045740</td>\n",
              "    </tr>\n",
              "    <tr>\n",
              "      <td>p_value</td>\n",
              "      <td>0.752276</td>\n",
              "    </tr>\n",
              "  </tbody>\n",
              "</table>\n",
              "</div>"
            ],
            "text/plain": [
              "Folds    RandomForest-ExtremeTrees\n",
              "1                        -0.075155\n",
              "2                        -0.043359\n",
              "3                         0.056986\n",
              "4                        -0.002065\n",
              "5                        -0.004818\n",
              "6                        -0.003716\n",
              "7                         0.083964\n",
              "8                        -0.023675\n",
              "9                        -0.016380\n",
              "10                       -0.018858\n",
              "mean                     -0.004708\n",
              "stdev                     0.045740\n",
              "p_value                   0.752276"
            ]
          },
          "metadata": {
            "tags": []
          },
          "execution_count": 73
        }
      ]
    },
    {
      "cell_type": "code",
      "metadata": {
        "id": "Ez3p0CwV44B8",
        "outputId": "307d853e-73bb-401e-a2c3-defb38f9d7f8"
      },
      "source": [
        "#Checking whether Random Forest & Extreme trees algorithms have statistically significant difference\n",
        "if(RandomForest_ExtremeTrees_p_value<0.05):\n",
        "    print(\"Random Forest and Extreme Trees have significant difference with p_value of : \",end=\"\")\n",
        "    print (round(RandomForest_ExtremeTrees_p_value,4)) \n",
        "else:\n",
        "    print(\"Random Forest and Extreme Trees does not have significant difference with p_value of : \",end=\"\")\n",
        "    print (round(RandomForest_ExtremeTrees_p_value,4)) "
      ],
      "execution_count": null,
      "outputs": [
        {
          "output_type": "stream",
          "text": [
            "Random Forest and Extreme Trees does not have significant difference with p_value of : 0.7523\n"
          ],
          "name": "stdout"
        }
      ]
    },
    {
      "cell_type": "markdown",
      "metadata": {
        "id": "kJAeDzAX44CA"
      },
      "source": [
        "**7. Applying SelectFromModel and Recursive Feature Elimination(RFE) feature selection techniques to Balanced sample dataset.** "
      ]
    },
    {
      "cell_type": "code",
      "metadata": {
        "id": "NvB9uaeQ44CB"
      },
      "source": [
        "from sklearn.ensemble import RandomForestClassifier\n",
        "from sklearn.feature_selection import SelectFromModel"
      ],
      "execution_count": null,
      "outputs": []
    },
    {
      "cell_type": "code",
      "metadata": {
        "id": "AxepQfPK44CD"
      },
      "source": [
        "#SMOTETomek is a hybrid method which uses an under sampling method(Tomek) with an over sampling method(SMOTE)\n",
        "from imblearn.combine import SMOTETomek\n",
        "from imblearn.under_sampling import NearMiss\n",
        "# Implementing Balanced Sampling for Handling Imbalanced Dataset\n",
        "smk = SMOTETomek(ratio=1)\n",
        "X_balanced_sample,y_balanced_sample=smk.fit_sample(X,Y)"
      ],
      "execution_count": null,
      "outputs": []
    },
    {
      "cell_type": "markdown",
      "metadata": {
        "id": "NApPFNT-44CF"
      },
      "source": [
        "#### Feature Selection by feature importance of SelectFromModel method and the estimator as  Random Forest Classifier "
      ]
    },
    {
      "cell_type": "code",
      "metadata": {
        "id": "Pf4dybXV44CF",
        "outputId": "086f66d9-b237-40f0-ec65-58d0c1298a3f"
      },
      "source": [
        "estimator = RandomForestClassifier(n_estimators=100,random_state=0,n_jobs=-1)\n",
        "Feature_Selector = SelectFromModel(estimator,max_features=20,threshold= -np.inf)\n",
        "#Fitting data into our model\n",
        "Feature_Selector=Feature_Selector.fit(X_balanced_sample,y_balanced_sample)\n",
        "Feature_Selector.get_support()"
      ],
      "execution_count": null,
      "outputs": [
        {
          "output_type": "execute_result",
          "data": {
            "text/plain": [
              "array([ True,  True,  True,  True,  True, False,  True,  True,  True,\n",
              "        True,  True,  True, False,  True, False, False, False, False,\n",
              "       False, False, False, False, False, False, False, False, False,\n",
              "       False, False, False, False, False, False, False,  True, False,\n",
              "        True,  True, False,  True, False,  True, False, False, False,\n",
              "        True,  True,  True, False, False])"
            ]
          },
          "metadata": {
            "tags": []
          },
          "execution_count": 72
        }
      ]
    },
    {
      "cell_type": "code",
      "metadata": {
        "id": "r4a2uosO44CH",
        "outputId": "f52904ea-e30d-4637-ebc4-425abd84a18c"
      },
      "source": [
        "#Selected Features which has the importance more than the mean of all the features importance\n",
        "SelectFromModel_selected_features = X.columns[Feature_Selector.get_support()]\n",
        "SelectFromModel_selected_features"
      ],
      "execution_count": null,
      "outputs": [
        {
          "output_type": "execute_result",
          "data": {
            "text/plain": [
              "Index(['age', 'month', 'day_of_week', 'duration', 'campaign', 'previous',\n",
              "       'emp.var.rate', 'cons.price.idx', 'cons.conf.idx', 'euribor3m',\n",
              "       'nr.employed', 'job_blue-collar', 'education_university.degree',\n",
              "       'default_no', 'default_unknown', 'housing_no', 'housing_yes',\n",
              "       'contact_cellular', 'contact_telephone', 'poutcome_failure'],\n",
              "      dtype='object')"
            ]
          },
          "metadata": {
            "tags": []
          },
          "execution_count": 73
        }
      ]
    },
    {
      "cell_type": "code",
      "metadata": {
        "id": "aCLYsIyg44CL",
        "outputId": "29b52ecb-dfc4-485a-b665-2e8668519fda"
      },
      "source": [
        "#Getting the number of selected features\n",
        "Selected_Features_Length = len(SelectFromModel_selected_features)\n",
        "Selected_Features_Length"
      ],
      "execution_count": null,
      "outputs": [
        {
          "output_type": "execute_result",
          "data": {
            "text/plain": [
              "20"
            ]
          },
          "metadata": {
            "tags": []
          },
          "execution_count": 74
        }
      ]
    },
    {
      "cell_type": "markdown",
      "metadata": {
        "id": "2aJhnknU44CN"
      },
      "source": [
        "**Implementation of Recursive Feature Elimination(RFE) on Balanced Dataset**"
      ]
    },
    {
      "cell_type": "code",
      "metadata": {
        "id": "aDlord2P44CO"
      },
      "source": [
        "from sklearn.feature_selection import RFE"
      ],
      "execution_count": null,
      "outputs": []
    },
    {
      "cell_type": "code",
      "metadata": {
        "id": "h3Wb1vq444CQ",
        "outputId": "0c873fae-68b6-4c87-cf0f-feec699b2785"
      },
      "source": [
        "estimator = RandomForestClassifier(n_estimators=100,random_state=0,n_jobs=-1)\n",
        "RFE_selector = RFE(estimator,n_features_to_select = 20)\n",
        "#Fitting data into our model\n",
        "RFE_selector = RFE_selector.fit(X_balanced_sample,y_balanced_sample)\n",
        "#Getting the set of the selected features(True) along with non-selected features(False).\n",
        "RFE_selector.get_support()\n",
        "#From the below output we can identify that the features with the value of True are only selected."
      ],
      "execution_count": null,
      "outputs": [
        {
          "output_type": "execute_result",
          "data": {
            "text/plain": [
              "array([ True,  True,  True,  True,  True, False, False,  True,  True,\n",
              "        True,  True,  True,  True,  True, False, False, False, False,\n",
              "       False, False, False, False, False, False, False, False, False,\n",
              "       False, False, False, False,  True, False, False,  True, False,\n",
              "        True,  True, False,  True, False,  True, False, False, False,\n",
              "        True,  True, False, False, False])"
            ]
          },
          "metadata": {
            "tags": []
          },
          "execution_count": 75
        }
      ]
    },
    {
      "cell_type": "code",
      "metadata": {
        "id": "I0YN5LKH44CT",
        "outputId": "cf8b4d4d-ebd7-4d7b-97d7-a93d95567de0"
      },
      "source": [
        "#Getting the names of selected features using RFE after it has elminated least performing features\n",
        "RFE_Selected_Features = X.columns[RFE_selector.get_support()]\n",
        "RFE_Selected_Features"
      ],
      "execution_count": null,
      "outputs": [
        {
          "output_type": "execute_result",
          "data": {
            "text/plain": [
              "Index(['age', 'month', 'day_of_week', 'duration', 'campaign', 'emp.var.rate',\n",
              "       'cons.price.idx', 'cons.conf.idx', 'euribor3m', 'nr.employed',\n",
              "       'job_admin.', 'job_blue-collar', 'education_high.school',\n",
              "       'education_university.degree', 'default_no', 'default_unknown',\n",
              "       'housing_no', 'housing_yes', 'contact_cellular', 'contact_telephone'],\n",
              "      dtype='object')"
            ]
          },
          "metadata": {
            "tags": []
          },
          "execution_count": 76
        }
      ]
    },
    {
      "cell_type": "code",
      "metadata": {
        "id": "m8DKIGPq44CX",
        "outputId": "6e5cf2f1-0132-423d-d6be-8f5040702e34"
      },
      "source": [
        "#Getting the count of selected features for training\n",
        "len(RFE_Selected_Features)"
      ],
      "execution_count": null,
      "outputs": [
        {
          "output_type": "execute_result",
          "data": {
            "text/plain": [
              "20"
            ]
          },
          "metadata": {
            "tags": []
          },
          "execution_count": 77
        }
      ]
    },
    {
      "cell_type": "markdown",
      "metadata": {
        "id": "-Qeh4ogL44CZ"
      },
      "source": [
        "### 8. The Two best performing algorithms are KNN and Extreme Learning Trees."
      ]
    },
    {
      "cell_type": "markdown",
      "metadata": {
        "id": "5DaL7W-844Ca"
      },
      "source": [
        "**Training K-Nearest-Neighbors model before applying feature selection technique for Balanced dataset using tenfold cross validation.**"
      ]
    },
    {
      "cell_type": "code",
      "metadata": {
        "id": "6_OoSUV644Ca",
        "outputId": "ee646e09-c8ef-4ed5-8c3a-57cb41f99b27"
      },
      "source": [
        "from sklearn.neighbors import KNeighborsClassifier\n",
        "from sklearn.model_selection import cross_val_score\n",
        "import numpy as np\n",
        "#creating a new KNN model\n",
        "knn_cv = KNeighborsClassifier(n_neighbors= 5)\n",
        "#training our model with cv of 10 \n",
        "cross_val_scores = cross_val_score(knn_cv, X_balanced_sample, y_balanced_sample, cv=10)\n",
        "#printing each cross validation score (accuracy) and finding the average of them\n",
        "knn_cross_val_scores = print('knn cross_val_scores:{}'.format(cross_val_scores))\n",
        "knn_model_avg_accuracy = print('knn model average accuracy before feature selection:{}'.format(np.mean(cross_val_scores)))"
      ],
      "execution_count": null,
      "outputs": [
        {
          "output_type": "stream",
          "text": [
            "knn cross_val_scores:[0.96020928 0.95979623 0.9548396  0.9530497  0.94657119 0.9378959\n",
            " 0.85816579 0.75998348 0.84838887 0.60947397]\n",
            "knn model average accuracy before feature selection:0.8788374016137522\n"
          ],
          "name": "stdout"
        }
      ]
    },
    {
      "cell_type": "markdown",
      "metadata": {
        "id": "bVBERPf944Cc"
      },
      "source": [
        "**Features Selection by Recursive Feature Elimination(RFE) feature selection technique.**"
      ]
    },
    {
      "cell_type": "code",
      "metadata": {
        "scrolled": false,
        "id": "JcazgMAz44Cc"
      },
      "source": [
        "from sklearn.feature_selection import RFE"
      ],
      "execution_count": null,
      "outputs": []
    },
    {
      "cell_type": "code",
      "metadata": {
        "id": "ZDwnTZuB44Ci",
        "outputId": "a2273c34-459c-4926-ba49-0d39e603f6ab"
      },
      "source": [
        "#Creating a new model using RFE method\n",
        "from sklearn.ensemble import RandomForestClassifier\n",
        "estimator = RandomForestClassifier(n_estimators=100,random_state=0,n_jobs=-1)\n",
        "RFE_selector = RFE(estimator,n_features_to_select = 17)\n",
        "#Fitting data into our model\n",
        "RFE_selector = RFE_selector.fit(X_balanced_sample,y_balanced_sample)\n",
        "#Getting the set of the selected features(True) along with non-selected features(False).\n",
        "RFE_selector.get_support()\n",
        "#From the below output we can identify that the features with the value of True are only selected."
      ],
      "execution_count": null,
      "outputs": [
        {
          "output_type": "execute_result",
          "data": {
            "text/plain": [
              "array([ True,  True,  True,  True,  True, False, False,  True,  True,\n",
              "        True,  True,  True, False,  True, False, False, False, False,\n",
              "       False, False, False, False, False, False, False, False, False,\n",
              "       False, False, False, False, False, False, False,  True, False,\n",
              "        True, False, False,  True, False,  True, False, False, False,\n",
              "        True,  True, False, False, False])"
            ]
          },
          "metadata": {
            "tags": []
          },
          "execution_count": 79
        }
      ]
    },
    {
      "cell_type": "code",
      "metadata": {
        "id": "DcrOIXKr44Ck",
        "outputId": "3931f8f2-3ce5-4f16-9bda-9beb74a7bb57"
      },
      "source": [
        "#Getting the indices of the selected features whose value is True. \n",
        "RFE_selector.get_support(indices=True)"
      ],
      "execution_count": null,
      "outputs": [
        {
          "output_type": "execute_result",
          "data": {
            "text/plain": [
              "array([ 0,  1,  2,  3,  4,  7,  8,  9, 10, 11, 13, 34, 36, 39, 41, 45, 46],\n",
              "      dtype=int64)"
            ]
          },
          "metadata": {
            "tags": []
          },
          "execution_count": 80
        }
      ]
    },
    {
      "cell_type": "code",
      "metadata": {
        "id": "wgQwOLQ344Cp",
        "outputId": "a2c77b9f-e98e-4f31-eb8d-d67dcd45cce5"
      },
      "source": [
        "#Getting the names of selected features using RFE after it has elminated least performing features\n",
        "RFE_Selected_Features = X.columns[RFE_selector.get_support()]\n",
        "RFE_Selected_Features"
      ],
      "execution_count": null,
      "outputs": [
        {
          "output_type": "execute_result",
          "data": {
            "text/plain": [
              "Index(['age', 'month', 'day_of_week', 'duration', 'campaign', 'emp.var.rate',\n",
              "       'cons.price.idx', 'cons.conf.idx', 'euribor3m', 'nr.employed',\n",
              "       'job_blue-collar', 'education_university.degree', 'default_no',\n",
              "       'housing_no', 'housing_yes', 'contact_cellular', 'contact_telephone'],\n",
              "      dtype='object')"
            ]
          },
          "metadata": {
            "tags": []
          },
          "execution_count": 81
        }
      ]
    },
    {
      "cell_type": "code",
      "metadata": {
        "id": "n9sS1fNJ44Cv",
        "outputId": "783b9fc1-de21-4378-bda4-acefd50f996e"
      },
      "source": [
        "columns = df.columns.tolist()\n",
        "# Filtering the columns to remove data we do not want \n",
        "columns = [c for c in columns if c in ['age', 'month', 'day_of_week', 'duration', 'campaign', 'emp.var.rate',\n",
        "       'cons.price.idx', 'cons.conf.idx', 'euribor3m', 'nr.employed',\n",
        "       'job_blue-collar', 'education_university.degree', 'default_no',\n",
        "       'housing_no', 'housing_yes', 'contact_cellular', 'contact_telephone']]\n",
        "X_new = df[columns]\n",
        "# Printing the shapes of X\n",
        "print(X_new.shape)\n",
        "print(Y.shape)"
      ],
      "execution_count": null,
      "outputs": [
        {
          "output_type": "stream",
          "text": [
            "(41188, 17)\n",
            "(41188,)\n"
          ],
          "name": "stdout"
        }
      ]
    },
    {
      "cell_type": "code",
      "metadata": {
        "id": "yDKlRiH544Cx",
        "outputId": "1333179f-ea5d-476d-fafa-ff8b89111610"
      },
      "source": [
        "#SMOTETomek is a hybrid method which uses an under sampling method(Tomek) with an over sampling method(SMOTE)\n",
        "from imblearn.combine import SMOTETomek\n",
        "from imblearn.under_sampling import NearMiss\n",
        "# Implementing Balanced Sampling for Handling Imbalanced Dataset\n",
        "smk = SMOTETomek(ratio=1)\n",
        "X_new_balanced_sample,y_new_balanced_sample=smk.fit_sample(X_new,Y)\n",
        "X_new_balanced_sample.shape,y_new_balanced_sample.shape"
      ],
      "execution_count": null,
      "outputs": [
        {
          "output_type": "execute_result",
          "data": {
            "text/plain": [
              "((72428, 17), (72428,))"
            ]
          },
          "metadata": {
            "tags": []
          },
          "execution_count": 83
        }
      ]
    },
    {
      "cell_type": "markdown",
      "metadata": {
        "id": "--O4yTgB44Cy"
      },
      "source": [
        "**Training K-Nearest-Neighbors model after RFE feature selection technique on Balanced dataset using tenfold cross validation.**"
      ]
    },
    {
      "cell_type": "code",
      "metadata": {
        "id": "auT8a2JB44Cz",
        "outputId": "1438dccf-dccd-4691-ce70-69428fa03619"
      },
      "source": [
        "from sklearn.neighbors import KNeighborsClassifier\n",
        "from sklearn.model_selection import cross_val_score\n",
        "import numpy as np\n",
        "#creating a new KNN model\n",
        "knn_cv = KNeighborsClassifier(n_neighbors= 5)\n",
        "#training our model with cv of 10 \n",
        "new_cross_val_scores = cross_val_score(knn_cv, X_new_balanced_sample, y_new_balanced_sample, cv=10)\n",
        "#printing each cross validation score (accuracy) and finding the average of them\n",
        "knn_cross_val_scores = print('knn cross_val_scores:{}'.format(new_cross_val_scores))\n",
        "knn_model1_avg_accuracy = print('knn model average accuracy before feature selection:{}'.format(np.mean(new_cross_val_scores)))"
      ],
      "execution_count": null,
      "outputs": [
        {
          "output_type": "stream",
          "text": [
            "knn cross_val_scores:[0.95913296 0.9605136  0.95581941 0.95195361 0.94505039 0.93814718\n",
            " 0.86828662 0.75659257 0.84879867 0.60922397]\n",
            "knn model average accuracy before feature selection:0.8793518986973032\n"
          ],
          "name": "stdout"
        }
      ]
    },
    {
      "cell_type": "markdown",
      "metadata": {
        "id": "gOXIShcp44C1"
      },
      "source": [
        "**Features Selection by SelectFromModel feature selection technique.**"
      ]
    },
    {
      "cell_type": "code",
      "metadata": {
        "id": "beWWD8tB44C1",
        "outputId": "34c5a214-8d8c-470c-d2ce-e07102e5ef6a"
      },
      "source": [
        "from imblearn.combine import SMOTETomek\n",
        "from imblearn.under_sampling import NearMiss\n",
        "# Implementing Balanced Sampling for Handling Imbalanced Dataset\n",
        "smk = SMOTETomek(ratio=1)\n",
        "X_balanced_sample,y_balanced_sample=smk.fit_sample(X,Y)\n",
        "from sklearn.feature_selection import SelectFromModel\n",
        "Feature_Selector = SelectFromModel(estimator = RandomForestClassifier(n_estimators=100,random_state=0,n_jobs=-1),threshold= -np.inf,max_features = 17)\n",
        "#Fitting data into our model\n",
        "Feature_Selector = Feature_Selector.fit(X_balanced_sample,y_balanced_sample)\n",
        "#Getting the set of the selected features(True) along with non-selected features(False).\n",
        "Feature_Selector.get_support()\n",
        "#From the below output we can identify that the features with the value of True are only selected."
      ],
      "execution_count": null,
      "outputs": [
        {
          "output_type": "execute_result",
          "data": {
            "text/plain": [
              "array([ True,  True,  True,  True, False, False, False,  True,  True,\n",
              "        True,  True,  True, False,  True, False, False, False, False,\n",
              "       False, False, False, False, False, False, False, False, False,\n",
              "       False, False, False, False, False, False, False,  True, False,\n",
              "        True,  True, False,  True, False,  True, False, False, False,\n",
              "        True,  True, False, False, False])"
            ]
          },
          "metadata": {
            "tags": []
          },
          "execution_count": 85
        }
      ]
    },
    {
      "cell_type": "code",
      "metadata": {
        "id": "E98LuzhH44C3",
        "outputId": "deaa79cb-8fed-43ac-f2e5-8842111a7bad"
      },
      "source": [
        "#Getting the indices of the selected features whose value is True. \n",
        "Feature_Selector.get_support(indices=True)"
      ],
      "execution_count": null,
      "outputs": [
        {
          "output_type": "execute_result",
          "data": {
            "text/plain": [
              "array([ 0,  1,  2,  3,  7,  8,  9, 10, 11, 13, 34, 36, 37, 39, 41, 45, 46],\n",
              "      dtype=int64)"
            ]
          },
          "metadata": {
            "tags": []
          },
          "execution_count": 86
        }
      ]
    },
    {
      "cell_type": "code",
      "metadata": {
        "id": "1vkVhr0z44C7",
        "outputId": "99e517f4-632f-4023-d986-73ba3dab1386"
      },
      "source": [
        "#Getting the names of selected features using RFE after it has elminated least performing features\n",
        "SelectFromModel_Selected_Features = X.columns[Feature_Selector.get_support()]\n",
        "SelectFromModel_Selected_Features"
      ],
      "execution_count": null,
      "outputs": [
        {
          "output_type": "execute_result",
          "data": {
            "text/plain": [
              "Index(['age', 'month', 'day_of_week', 'duration', 'emp.var.rate',\n",
              "       'cons.price.idx', 'cons.conf.idx', 'euribor3m', 'nr.employed',\n",
              "       'job_blue-collar', 'education_university.degree', 'default_no',\n",
              "       'default_unknown', 'housing_no', 'housing_yes', 'contact_cellular',\n",
              "       'contact_telephone'],\n",
              "      dtype='object')"
            ]
          },
          "metadata": {
            "tags": []
          },
          "execution_count": 87
        }
      ]
    },
    {
      "cell_type": "code",
      "metadata": {
        "id": "rKQ63eAZ44C9",
        "outputId": "45366051-57ac-43e7-839e-4be06423b739"
      },
      "source": [
        "columns = df.columns.tolist()\n",
        "# Filtering the columns to remove data we do not want \n",
        "columns1 = [c for c in columns if c in ['age', 'month', 'day_of_week', 'duration', 'emp.var.rate',\n",
        "       'cons.price.idx', 'cons.conf.idx', 'euribor3m', 'nr.employed',\n",
        "       'job_blue-collar', 'education_university.degree', 'default_no',\n",
        "       'default_unknown', 'housing_no', 'housing_yes', 'contact_cellular',\n",
        "       'contact_telephone']]\n",
        "X_new1 = df[columns1]\n",
        "# Printing the shapes of X\n",
        "print(X_new1.shape)"
      ],
      "execution_count": null,
      "outputs": [
        {
          "output_type": "stream",
          "text": [
            "(41188, 17)\n"
          ],
          "name": "stdout"
        }
      ]
    },
    {
      "cell_type": "code",
      "metadata": {
        "id": "t_MPmyc144DA",
        "outputId": "16246b4d-fb74-439a-e717-db9f850b0a37"
      },
      "source": [
        "#SMOTETomek is a hybrid method which uses an under sampling method(Tomek) with an over sampling method(SMOTE)\n",
        "from imblearn.combine import SMOTETomek\n",
        "from imblearn.under_sampling import NearMiss\n",
        "# Implementing Balanced Sampling for Handling Imbalanced Dataset\n",
        "smk = SMOTETomek(ratio=1)\n",
        "X_new1_balanced_sample,y_new1_balanced_sample=smk.fit_sample(X_new1,Y)\n",
        "X_new1_balanced_sample.shape,y_new1_balanced_sample.shape"
      ],
      "execution_count": null,
      "outputs": [
        {
          "output_type": "execute_result",
          "data": {
            "text/plain": [
              "((72280, 17), (72280,))"
            ]
          },
          "metadata": {
            "tags": []
          },
          "execution_count": 89
        }
      ]
    },
    {
      "cell_type": "markdown",
      "metadata": {
        "id": "KzwPFxHP44DC"
      },
      "source": [
        "**Training K-Nearest-Neighbors model after SelectFromModel feature selection technique on Balanced dataset using tenfold cross validation.**"
      ]
    },
    {
      "cell_type": "code",
      "metadata": {
        "id": "9pUWKBml44DC",
        "outputId": "d4fd0875-e0f3-43bd-e0da-015aacbe263a"
      },
      "source": [
        "from sklearn.neighbors import KNeighborsClassifier\n",
        "from sklearn.model_selection import cross_val_score\n",
        "import numpy as np\n",
        "#creating a new KNN model\n",
        "knn_cv = KNeighborsClassifier(n_neighbors= 5)\n",
        "#training our model with cv of 10 \n",
        "new_cross1_val_scores = cross_val_score(knn_cv, X_new1_balanced_sample, y_new1_balanced_sample, cv=10)\n",
        "#printing each cross validation score (accuracy) and finding the average of them\n",
        "knn_cross_val_scores = print('knn cross_val_scores:{}'.format(new_cross1_val_scores))\n",
        "knn_model2_avg_accuracy = print('knn model average accuracy before feature selection:{}'.format(np.mean(new_cross1_val_scores)))"
      ],
      "execution_count": null,
      "outputs": [
        {
          "output_type": "stream",
          "text": [
            "knn cross_val_scores:[0.95669618 0.96181516 0.95462092 0.95296071 0.94576646 0.93788046\n",
            " 0.87769784 0.75249032 0.84905921 0.61081904]\n",
            "knn model average accuracy before feature selection:0.8799806308799114\n"
          ],
          "name": "stdout"
        }
      ]
    },
    {
      "cell_type": "code",
      "metadata": {
        "id": "reD7MehM44DF"
      },
      "source": [
        "knn_model_avg_accuracy = np.mean(cross_val_scores)\n",
        "knn_model1_avg_accuracy = np.mean(new_cross_val_scores)\n",
        "knn_model2_avg_accuracy = np.mean(new_cross1_val_scores)"
      ],
      "execution_count": null,
      "outputs": []
    },
    {
      "cell_type": "code",
      "metadata": {
        "id": "Ux870Dj_44DL",
        "outputId": "435c93db-0e2b-4dc0-d4cb-b475a1bd4604"
      },
      "source": [
        "import pandas as pd\n",
        "Algorithms_cross_val_scores = {\n",
        "    'KNN-Before-Feature-Selection' :cross_val_scores,\n",
        "    'KNN-SelectFromModel':new_cross1_val_scores ,\n",
        "    'KNN-RFE':new_cross_val_scores\n",
        "}\n",
        "\n",
        "df5 = pd.DataFrame(Algorithms_cross_val_scores ).rename_axis('Folds', axis=1)\n",
        "mean_row = {'KNN-Before-Feature-Selection' : knn_model_avg_accuracy ,\n",
        "            'KNN-SelectFromModel': knn_model2_avg_accuracy,\n",
        "            'KNN-RFE':knn_model1_avg_accuracy }\n",
        "\n",
        "df5 = df5.append(mean_row,ignore_index = True) \n",
        "df5.index += 1\n",
        "df5.rename(index={11: 'avg_accuracy'})"
      ],
      "execution_count": null,
      "outputs": [
        {
          "output_type": "execute_result",
          "data": {
            "text/html": [
              "<div>\n",
              "<style scoped>\n",
              "    .dataframe tbody tr th:only-of-type {\n",
              "        vertical-align: middle;\n",
              "    }\n",
              "\n",
              "    .dataframe tbody tr th {\n",
              "        vertical-align: top;\n",
              "    }\n",
              "\n",
              "    .dataframe thead th {\n",
              "        text-align: right;\n",
              "    }\n",
              "</style>\n",
              "<table border=\"1\" class=\"dataframe\">\n",
              "  <thead>\n",
              "    <tr style=\"text-align: right;\">\n",
              "      <th>Folds</th>\n",
              "      <th>KNN-Before-Feature-Selection</th>\n",
              "      <th>KNN-SelectFromModel</th>\n",
              "      <th>KNN-RFE</th>\n",
              "    </tr>\n",
              "  </thead>\n",
              "  <tbody>\n",
              "    <tr>\n",
              "      <td>1</td>\n",
              "      <td>0.960209</td>\n",
              "      <td>0.956696</td>\n",
              "      <td>0.959133</td>\n",
              "    </tr>\n",
              "    <tr>\n",
              "      <td>2</td>\n",
              "      <td>0.959796</td>\n",
              "      <td>0.961815</td>\n",
              "      <td>0.960514</td>\n",
              "    </tr>\n",
              "    <tr>\n",
              "      <td>3</td>\n",
              "      <td>0.954840</td>\n",
              "      <td>0.954621</td>\n",
              "      <td>0.955819</td>\n",
              "    </tr>\n",
              "    <tr>\n",
              "      <td>4</td>\n",
              "      <td>0.953050</td>\n",
              "      <td>0.952961</td>\n",
              "      <td>0.951954</td>\n",
              "    </tr>\n",
              "    <tr>\n",
              "      <td>5</td>\n",
              "      <td>0.946571</td>\n",
              "      <td>0.945766</td>\n",
              "      <td>0.945050</td>\n",
              "    </tr>\n",
              "    <tr>\n",
              "      <td>6</td>\n",
              "      <td>0.937896</td>\n",
              "      <td>0.937880</td>\n",
              "      <td>0.938147</td>\n",
              "    </tr>\n",
              "    <tr>\n",
              "      <td>7</td>\n",
              "      <td>0.858166</td>\n",
              "      <td>0.877698</td>\n",
              "      <td>0.868287</td>\n",
              "    </tr>\n",
              "    <tr>\n",
              "      <td>8</td>\n",
              "      <td>0.759983</td>\n",
              "      <td>0.752490</td>\n",
              "      <td>0.756593</td>\n",
              "    </tr>\n",
              "    <tr>\n",
              "      <td>9</td>\n",
              "      <td>0.848389</td>\n",
              "      <td>0.849059</td>\n",
              "      <td>0.848799</td>\n",
              "    </tr>\n",
              "    <tr>\n",
              "      <td>10</td>\n",
              "      <td>0.609474</td>\n",
              "      <td>0.610819</td>\n",
              "      <td>0.609224</td>\n",
              "    </tr>\n",
              "    <tr>\n",
              "      <td>avg_accuracy</td>\n",
              "      <td>0.878837</td>\n",
              "      <td>0.879981</td>\n",
              "      <td>0.879352</td>\n",
              "    </tr>\n",
              "  </tbody>\n",
              "</table>\n",
              "</div>"
            ],
            "text/plain": [
              "Folds         KNN-Before-Feature-Selection  KNN-SelectFromModel   KNN-RFE\n",
              "1                                 0.960209             0.956696  0.959133\n",
              "2                                 0.959796             0.961815  0.960514\n",
              "3                                 0.954840             0.954621  0.955819\n",
              "4                                 0.953050             0.952961  0.951954\n",
              "5                                 0.946571             0.945766  0.945050\n",
              "6                                 0.937896             0.937880  0.938147\n",
              "7                                 0.858166             0.877698  0.868287\n",
              "8                                 0.759983             0.752490  0.756593\n",
              "9                                 0.848389             0.849059  0.848799\n",
              "10                                0.609474             0.610819  0.609224\n",
              "avg_accuracy                      0.878837             0.879981  0.879352"
            ]
          },
          "metadata": {
            "tags": []
          },
          "execution_count": 92
        }
      ]
    },
    {
      "cell_type": "markdown",
      "metadata": {
        "id": "V95PKMCn44DN"
      },
      "source": [
        "**Training Extreme Learning Trees model before feature selection for Balanced dataset using tenfold cross validation.**"
      ]
    },
    {
      "cell_type": "code",
      "metadata": {
        "id": "c-9RY6Et44DN"
      },
      "source": [
        "#SMOTETomek is a hybrid method which uses an under sampling method(Tomek) with an over sampling method(SMOTE)\n",
        "from imblearn.combine import SMOTETomek\n",
        "from imblearn.under_sampling import NearMiss\n",
        "# Implementing Balanced Sampling for Handling Imbalanced Dataset\n",
        "smk = SMOTETomek(ratio=1)\n",
        "X_balanced_sample,y_balanced_sample=smk.fit_sample(X,Y)"
      ],
      "execution_count": null,
      "outputs": []
    },
    {
      "cell_type": "code",
      "metadata": {
        "id": "WIy9dSFn44DV",
        "outputId": "7bb97902-a7d6-4c27-d5a1-eda754dd7d25"
      },
      "source": [
        "from sklearn.ensemble import ExtraTreesClassifier\n",
        "#creating a new model\n",
        "ExtraTrees_classifier = ExtraTreesClassifier()\n",
        "extreme_trees_cross_val_scores = cross_val_score(ExtraTrees_classifier, X_balanced_sample, y_balanced_sample, cv=10)\n",
        "#printing cross validation scores\n",
        "print(extreme_trees_cross_val_scores)\n",
        "#printing the average of them\n",
        "extreme_trees_avg_score = np.mean(extreme_trees_cross_val_scores)\n",
        "print(extreme_trees_avg_score)"
      ],
      "execution_count": null,
      "outputs": [
        {
          "output_type": "stream",
          "text": [
            "[0.63625103 0.96683182 0.91301954 0.98596201 0.98059455 0.96834572\n",
            " 0.8744839  0.68676025 0.94907089 0.62188575]\n",
            "0.8583205471599425\n"
          ],
          "name": "stdout"
        }
      ]
    },
    {
      "cell_type": "markdown",
      "metadata": {
        "id": "WxMZa2f844DX"
      },
      "source": [
        "**Features Selection by Recursive Feature Elimination(RFE) feature selection technique.**"
      ]
    },
    {
      "cell_type": "code",
      "metadata": {
        "id": "8R8M9aaI44DX",
        "outputId": "04ad310a-2dbd-4e8f-d6ad-3cb13cbca9db"
      },
      "source": [
        "from sklearn.feature_selection import RFE\n",
        "#Creating a new model using RFE method\n",
        "estimator = RandomForestClassifier(n_estimators=100,random_state=0,n_jobs=-1)\n",
        "RFE_selector = RFE(estimator,n_features_to_select = 38)\n",
        "#Fitting data into our model\n",
        "RFE_selector= RFE_selector.fit(X_balanced_sample,y_balanced_sample)\n",
        "#Getting the set of the selected features(True) along with non-selected features(False).\n",
        "RFE_selector.get_support()\n",
        "#From the below output we can identify that the features with the value of True are only selected."
      ],
      "execution_count": null,
      "outputs": [
        {
          "output_type": "execute_result",
          "data": {
            "text/plain": [
              "array([ True,  True,  True,  True,  True,  True,  True,  True,  True,\n",
              "        True,  True,  True,  True,  True, False, False,  True,  True,\n",
              "       False,  True, False,  True, False, False,  True,  True,  True,\n",
              "       False,  True, False,  True,  True, False,  True,  True,  True,\n",
              "        True,  True, False,  True, False,  True,  True, False,  True,\n",
              "        True,  True,  True,  True,  True])"
            ]
          },
          "metadata": {
            "tags": []
          },
          "execution_count": 109
        }
      ]
    },
    {
      "cell_type": "code",
      "metadata": {
        "id": "s7WD9tV444DZ",
        "outputId": "a6c4984f-716c-4326-faac-a518eb23ce09"
      },
      "source": [
        "#Getting the indices of the selected features whose value is True. \n",
        "RFE_selector.get_support(indices=True)"
      ],
      "execution_count": null,
      "outputs": [
        {
          "output_type": "execute_result",
          "data": {
            "text/plain": [
              "array([ 0,  1,  2,  3,  4,  5,  6,  7,  8,  9, 10, 11, 12, 13, 16, 17, 19,\n",
              "       21, 24, 25, 26, 28, 30, 31, 33, 34, 35, 36, 37, 39, 41, 42, 44, 45,\n",
              "       46, 47, 48, 49], dtype=int64)"
            ]
          },
          "metadata": {
            "tags": []
          },
          "execution_count": 110
        }
      ]
    },
    {
      "cell_type": "code",
      "metadata": {
        "id": "-HYeSkup44Da",
        "outputId": "45c3d742-f4f7-4990-a8e5-022d9a3bac23"
      },
      "source": [
        "#Getting the names of selected features using RFE after it has elminated least performing features\n",
        "RFE_Selected_Features = X.columns[RFE_selector.get_support()]\n",
        "RFE_Selected_Features"
      ],
      "execution_count": null,
      "outputs": [
        {
          "output_type": "execute_result",
          "data": {
            "text/plain": [
              "Index(['age', 'month', 'day_of_week', 'duration', 'campaign', 'pdays',\n",
              "       'previous', 'emp.var.rate', 'cons.price.idx', 'cons.conf.idx',\n",
              "       'euribor3m', 'nr.employed', 'job_admin.', 'job_blue-collar',\n",
              "       'job_management', 'job_retired', 'job_services', 'job_technician',\n",
              "       'marital_divorced', 'marital_married', 'marital_single',\n",
              "       'education_basic.4y', 'education_basic.9y', 'education_high.school',\n",
              "       'education_professional.course', 'education_university.degree',\n",
              "       'education_unknown', 'default_no', 'default_unknown', 'housing_no',\n",
              "       'housing_yes', 'loan_no', 'loan_yes', 'contact_cellular',\n",
              "       'contact_telephone', 'poutcome_failure', 'poutcome_nonexistent',\n",
              "       'poutcome_success'],\n",
              "      dtype='object')"
            ]
          },
          "metadata": {
            "tags": []
          },
          "execution_count": 111
        }
      ]
    },
    {
      "cell_type": "code",
      "metadata": {
        "id": "7FGZ63Vd44Dd",
        "outputId": "163175ff-1b99-4917-e03e-9c739136df8a"
      },
      "source": [
        "columns = df.columns.tolist()\n",
        "# Filtering the columns to remove data we do not want \n",
        "columns = [c for c in columns if c in ['age', 'month', 'day_of_week', 'duration', 'campaign', 'pdays',\n",
        "       'previous', 'emp.var.rate', 'cons.price.idx', 'cons.conf.idx',\n",
        "       'euribor3m', 'nr.employed', 'job_admin.', 'job_blue-collar',\n",
        "       'job_management', 'job_retired', 'job_services', 'job_technician',\n",
        "       'marital_divorced', 'marital_married', 'marital_single',\n",
        "       'education_basic.4y', 'education_basic.9y', 'education_high.school',\n",
        "       'education_professional.course', 'education_university.degree',\n",
        "       'education_unknown', 'default_no', 'default_unknown', 'housing_no',\n",
        "       'housing_yes', 'loan_no', 'loan_yes', 'contact_cellular',\n",
        "       'contact_telephone', 'poutcome_failure', 'poutcome_nonexistent',\n",
        "       'poutcome_success']]\n",
        "X_new2 = df[columns]\n",
        "# Printing the shapes of X\n",
        "print(X_new2.shape)"
      ],
      "execution_count": null,
      "outputs": [
        {
          "output_type": "stream",
          "text": [
            "(41188, 38)\n"
          ],
          "name": "stdout"
        }
      ]
    },
    {
      "cell_type": "code",
      "metadata": {
        "id": "dqKHSv0F44De",
        "outputId": "a1addc82-0bac-422f-8df6-bd971c6e2303"
      },
      "source": [
        "#SMOTETomek is a hybrid method which uses an under sampling method(Tomek) with an over sampling method(SMOTE)\n",
        "from imblearn.combine import SMOTETomek\n",
        "from imblearn.under_sampling import NearMiss\n",
        "# Implementing Balanced Sampling for Handling Imbalanced Dataset\n",
        "smk = SMOTETomek(ratio=1)\n",
        "X_new_balanced_sample2,y_new_balanced_sample2=smk.fit_sample(X_new2,Y)\n",
        "X_new_balanced_sample2.shape,y_new_balanced_sample2.shape"
      ],
      "execution_count": null,
      "outputs": [
        {
          "output_type": "execute_result",
          "data": {
            "text/plain": [
              "((72624, 38), (72624,))"
            ]
          },
          "metadata": {
            "tags": []
          },
          "execution_count": 113
        }
      ]
    },
    {
      "cell_type": "markdown",
      "metadata": {
        "id": "VlG9SoUs44Dg"
      },
      "source": [
        "**Training Extreme Learning Trees model after RFE feature selection technique on Balanced dataset using tenfold cross validation.**"
      ]
    },
    {
      "cell_type": "code",
      "metadata": {
        "id": "a3TLSmAC44Dg",
        "outputId": "510d7e24-4da5-4aba-c0c9-c6ad0c2da8e9"
      },
      "source": [
        "from sklearn.ensemble import ExtraTreesClassifier\n",
        "#creating a new model\n",
        "estimator = ExtraTreesClassifier()\n",
        "extreme_trees_cross_val_scores1 = cross_val_score(estimator, X_new_balanced_sample2, y_new_balanced_sample2, cv=10)\n",
        "#printing cross validation scores\n",
        "print(extreme_trees_cross_val_scores1)\n",
        "#printing the average of them\n",
        "extreme_trees_avg_score1 = np.mean(extreme_trees_cross_val_scores1)\n",
        "print(extreme_trees_avg_score1)"
      ],
      "execution_count": null,
      "outputs": [
        {
          "output_type": "stream",
          "text": [
            "[0.64339804 0.96420212 0.9217954  0.98554316 0.97961994 0.96529882\n",
            " 0.88143762 0.68645001 0.94450565 0.62159185]\n",
            "0.8593842613779875\n"
          ],
          "name": "stdout"
        }
      ]
    },
    {
      "cell_type": "markdown",
      "metadata": {
        "id": "n1lRnXZG44Di"
      },
      "source": [
        "**Features Selection by SelectFromModel feature selection technique.**"
      ]
    },
    {
      "cell_type": "code",
      "metadata": {
        "id": "KrVxgGkp44Di",
        "outputId": "1a164942-af3c-4406-9f46-13f61cffefe6"
      },
      "source": [
        "from sklearn.feature_selection import SelectFromModel\n",
        "estimator = RandomForestClassifier(n_estimators=100,random_state=0,n_jobs=-1)\n",
        "Feature_Selector = SelectFromModel(estimator,threshold = -np.inf,max_features = 38 )\n",
        "#Fitting data into our model\n",
        "Feature_Selector = Feature_Selector.fit(X_balanced_sample,y_balanced_sample)\n",
        "#Getting the set of the selected features(True) along with non-selected features(False).\n",
        "Feature_Selector.get_support()\n",
        "#From the below output we can identify that the features with the value of True are only selected."
      ],
      "execution_count": null,
      "outputs": [
        {
          "output_type": "execute_result",
          "data": {
            "text/plain": [
              "array([ True,  True,  True,  True,  True,  True,  True,  True,  True,\n",
              "        True,  True,  True,  True,  True, False, False,  True,  True,\n",
              "       False,  True, False,  True, False, False,  True,  True,  True,\n",
              "       False,  True, False,  True,  True, False,  True,  True,  True,\n",
              "        True,  True, False,  True, False,  True,  True, False,  True,\n",
              "        True,  True,  True,  True,  True])"
            ]
          },
          "metadata": {
            "tags": []
          },
          "execution_count": 115
        }
      ]
    },
    {
      "cell_type": "code",
      "metadata": {
        "id": "_Xs67tIk44Dk",
        "outputId": "171076a7-d26d-43e3-a754-38441e208ad5"
      },
      "source": [
        "#Getting the indices of the selected features whose value is True. \n",
        "Feature_Selector.get_support(indices=True)"
      ],
      "execution_count": null,
      "outputs": [
        {
          "output_type": "execute_result",
          "data": {
            "text/plain": [
              "array([ 0,  1,  2,  3,  4,  5,  6,  7,  8,  9, 10, 11, 12, 13, 16, 17, 19,\n",
              "       21, 24, 25, 26, 28, 30, 31, 33, 34, 35, 36, 37, 39, 41, 42, 44, 45,\n",
              "       46, 47, 48, 49], dtype=int64)"
            ]
          },
          "metadata": {
            "tags": []
          },
          "execution_count": 116
        }
      ]
    },
    {
      "cell_type": "code",
      "metadata": {
        "id": "EImqmNW244Dm",
        "outputId": "78e17fad-83c8-4e09-9eac-8c3b4f659858"
      },
      "source": [
        "#Getting the names of selected features using RFE after it has elminated least performing features\n",
        "SelectFromModel_Selected_Features = X.columns[Feature_Selector.get_support()]\n",
        "SelectFromModel_Selected_Features"
      ],
      "execution_count": null,
      "outputs": [
        {
          "output_type": "execute_result",
          "data": {
            "text/plain": [
              "Index(['age', 'month', 'day_of_week', 'duration', 'campaign', 'pdays',\n",
              "       'previous', 'emp.var.rate', 'cons.price.idx', 'cons.conf.idx',\n",
              "       'euribor3m', 'nr.employed', 'job_admin.', 'job_blue-collar',\n",
              "       'job_management', 'job_retired', 'job_services', 'job_technician',\n",
              "       'marital_divorced', 'marital_married', 'marital_single',\n",
              "       'education_basic.4y', 'education_basic.9y', 'education_high.school',\n",
              "       'education_professional.course', 'education_university.degree',\n",
              "       'education_unknown', 'default_no', 'default_unknown', 'housing_no',\n",
              "       'housing_yes', 'loan_no', 'loan_yes', 'contact_cellular',\n",
              "       'contact_telephone', 'poutcome_failure', 'poutcome_nonexistent',\n",
              "       'poutcome_success'],\n",
              "      dtype='object')"
            ]
          },
          "metadata": {
            "tags": []
          },
          "execution_count": 117
        }
      ]
    },
    {
      "cell_type": "code",
      "metadata": {
        "id": "NWoCVSuc44Do",
        "outputId": "a3551843-dd3e-43e4-d24b-ed59999c7a0d"
      },
      "source": [
        "columns = df.columns.tolist()\n",
        "# Filtering the columns to remove data we do not want \n",
        "columns = [c for c in columns if c in ['age', 'month', 'day_of_week', 'duration', 'campaign', 'pdays',\n",
        "       'previous', 'emp.var.rate', 'cons.price.idx', 'cons.conf.idx',\n",
        "       'euribor3m', 'nr.employed', 'job_admin.', 'job_blue-collar',\n",
        "       'job_management', 'job_retired', 'job_services', 'job_technician',\n",
        "       'marital_divorced', 'marital_married', 'marital_single',\n",
        "       'education_basic.4y', 'education_basic.9y', 'education_high.school',\n",
        "       'education_professional.course', 'education_university.degree',\n",
        "       'education_unknown', 'default_no', 'default_unknown', 'housing_no',\n",
        "       'housing_yes', 'loan_no', 'loan_yes', 'contact_cellular',\n",
        "       'contact_telephone', 'poutcome_failure', 'poutcome_nonexistent',\n",
        "       'poutcome_success']]\n",
        "X_new = df[columns]\n",
        "# Printing the shapes of X\n",
        "print(X_new.shape)"
      ],
      "execution_count": null,
      "outputs": [
        {
          "output_type": "stream",
          "text": [
            "(41188, 38)\n"
          ],
          "name": "stdout"
        }
      ]
    },
    {
      "cell_type": "code",
      "metadata": {
        "id": "ePP9Pms444Dq",
        "outputId": "79bfbdd5-4746-4d50-e3bf-6dd564ff5f21"
      },
      "source": [
        "#SMOTETomek is a hybrid method which uses an under sampling method(Tomek) with an over sampling method(SMOTE)\n",
        "from imblearn.combine import SMOTETomek\n",
        "from imblearn.under_sampling import NearMiss\n",
        "# Implementing Balanced Sampling for Handling Imbalanced Dataset\n",
        "smk = SMOTETomek(ratio=1)\n",
        "X_new_balanced_sample,y_balanced_sample=smk.fit_sample(X_new,Y)\n",
        "X_new_balanced_sample.shape,y_balanced_sample.shape"
      ],
      "execution_count": null,
      "outputs": [
        {
          "output_type": "execute_result",
          "data": {
            "text/plain": [
              "((72618, 38), (72618,))"
            ]
          },
          "metadata": {
            "tags": []
          },
          "execution_count": 119
        }
      ]
    },
    {
      "cell_type": "markdown",
      "metadata": {
        "id": "6W0TNozr44Ds"
      },
      "source": [
        "**Training Extreme Learning Trees model after SelectFromModel feature selection technique on Balanced dataset using tenfold cross validation.**"
      ]
    },
    {
      "cell_type": "code",
      "metadata": {
        "id": "qzDjjB-d44Ds",
        "outputId": "1e6c0956-ec2b-4e2d-aa61-3aba97112a32"
      },
      "source": [
        "from sklearn.ensemble import ExtraTreesClassifier\n",
        "#creating a new model\n",
        "ExtraTrees_classifier = ExtraTreesClassifier()\n",
        "extreme_trees_cross_val_scores2 = cross_val_score(ExtraTrees_classifier, X_new_balanced_sample, y_balanced_sample, cv=10)\n",
        "#printing cross validation scores\n",
        "print(extreme_trees_cross_val_scores2)\n",
        "#printing the average of them\n",
        "extreme_trees_avg_score2 = np.mean(extreme_trees_cross_val_scores2)\n",
        "print(extreme_trees_avg_score2)"
      ],
      "execution_count": null,
      "outputs": [
        {
          "output_type": "stream",
          "text": [
            "[0.63797852 0.96405949 0.90553567 0.9865051  0.98072156 0.96805288\n",
            " 0.89328009 0.68645001 0.94380939 0.62222834]\n",
            "0.8588621046231871\n"
          ],
          "name": "stdout"
        }
      ]
    },
    {
      "cell_type": "code",
      "metadata": {
        "id": "0YI7l9Wg44Du",
        "outputId": "925363de-90f3-4015-ce6c-de50a188ebfb"
      },
      "source": [
        "import pandas as pd\n",
        "Algorithms_cross_val_scores = {\n",
        "    'ExtremeTrees-Before-Feature-Selection' :extreme_trees_cross_val_scores,\n",
        "    'ExtremeTrees-SelectFromModel':extreme_trees_cross_val_scores1 ,\n",
        "    'ExtremeTrees-RFE':extreme_trees_cross_val_scores2 \n",
        "}\n",
        "\n",
        "df5 = pd.DataFrame(Algorithms_cross_val_scores ).rename_axis('Folds', axis=1)\n",
        "mean_row = {'ExtremeTrees-Before-Feature-Selection' : extreme_trees_avg_score ,\n",
        "            'ExtremeTrees-SelectFromModel': extreme_trees_avg_score2,\n",
        "            'ExtremeTrees-RFE':extreme_trees_avg_score1 }\n",
        "\n",
        "df5 = df5.append(mean_row,ignore_index = True) \n",
        "df5.index += 1\n",
        "df5.rename(index={11: 'avg_accuracy'})"
      ],
      "execution_count": null,
      "outputs": [
        {
          "output_type": "execute_result",
          "data": {
            "text/html": [
              "<div>\n",
              "<style scoped>\n",
              "    .dataframe tbody tr th:only-of-type {\n",
              "        vertical-align: middle;\n",
              "    }\n",
              "\n",
              "    .dataframe tbody tr th {\n",
              "        vertical-align: top;\n",
              "    }\n",
              "\n",
              "    .dataframe thead th {\n",
              "        text-align: right;\n",
              "    }\n",
              "</style>\n",
              "<table border=\"1\" class=\"dataframe\">\n",
              "  <thead>\n",
              "    <tr style=\"text-align: right;\">\n",
              "      <th>Folds</th>\n",
              "      <th>ExtremeTrees-Before-Feature-Selection</th>\n",
              "      <th>ExtremeTrees-SelectFromModel</th>\n",
              "      <th>ExtremeTrees-RFE</th>\n",
              "    </tr>\n",
              "  </thead>\n",
              "  <tbody>\n",
              "    <tr>\n",
              "      <td>1</td>\n",
              "      <td>0.636251</td>\n",
              "      <td>0.643398</td>\n",
              "      <td>0.637979</td>\n",
              "    </tr>\n",
              "    <tr>\n",
              "      <td>2</td>\n",
              "      <td>0.966832</td>\n",
              "      <td>0.964202</td>\n",
              "      <td>0.964059</td>\n",
              "    </tr>\n",
              "    <tr>\n",
              "      <td>3</td>\n",
              "      <td>0.913020</td>\n",
              "      <td>0.921795</td>\n",
              "      <td>0.905536</td>\n",
              "    </tr>\n",
              "    <tr>\n",
              "      <td>4</td>\n",
              "      <td>0.985962</td>\n",
              "      <td>0.985543</td>\n",
              "      <td>0.986505</td>\n",
              "    </tr>\n",
              "    <tr>\n",
              "      <td>5</td>\n",
              "      <td>0.980595</td>\n",
              "      <td>0.979620</td>\n",
              "      <td>0.980722</td>\n",
              "    </tr>\n",
              "    <tr>\n",
              "      <td>6</td>\n",
              "      <td>0.968346</td>\n",
              "      <td>0.965299</td>\n",
              "      <td>0.968053</td>\n",
              "    </tr>\n",
              "    <tr>\n",
              "      <td>7</td>\n",
              "      <td>0.874484</td>\n",
              "      <td>0.881438</td>\n",
              "      <td>0.893280</td>\n",
              "    </tr>\n",
              "    <tr>\n",
              "      <td>8</td>\n",
              "      <td>0.686760</td>\n",
              "      <td>0.686450</td>\n",
              "      <td>0.686450</td>\n",
              "    </tr>\n",
              "    <tr>\n",
              "      <td>9</td>\n",
              "      <td>0.949071</td>\n",
              "      <td>0.944506</td>\n",
              "      <td>0.943809</td>\n",
              "    </tr>\n",
              "    <tr>\n",
              "      <td>10</td>\n",
              "      <td>0.621886</td>\n",
              "      <td>0.621592</td>\n",
              "      <td>0.622228</td>\n",
              "    </tr>\n",
              "    <tr>\n",
              "      <td>avg_accuracy</td>\n",
              "      <td>0.858321</td>\n",
              "      <td>0.858862</td>\n",
              "      <td>0.859384</td>\n",
              "    </tr>\n",
              "  </tbody>\n",
              "</table>\n",
              "</div>"
            ],
            "text/plain": [
              "Folds         ExtremeTrees-Before-Feature-Selection  \\\n",
              "1                                          0.636251   \n",
              "2                                          0.966832   \n",
              "3                                          0.913020   \n",
              "4                                          0.985962   \n",
              "5                                          0.980595   \n",
              "6                                          0.968346   \n",
              "7                                          0.874484   \n",
              "8                                          0.686760   \n",
              "9                                          0.949071   \n",
              "10                                         0.621886   \n",
              "avg_accuracy                               0.858321   \n",
              "\n",
              "Folds         ExtremeTrees-SelectFromModel  ExtremeTrees-RFE  \n",
              "1                                 0.643398          0.637979  \n",
              "2                                 0.964202          0.964059  \n",
              "3                                 0.921795          0.905536  \n",
              "4                                 0.985543          0.986505  \n",
              "5                                 0.979620          0.980722  \n",
              "6                                 0.965299          0.968053  \n",
              "7                                 0.881438          0.893280  \n",
              "8                                 0.686450          0.686450  \n",
              "9                                 0.944506          0.943809  \n",
              "10                                0.621592          0.622228  \n",
              "avg_accuracy                      0.858862          0.859384  "
            ]
          },
          "metadata": {
            "tags": []
          },
          "execution_count": 122
        }
      ]
    },
    {
      "cell_type": "markdown",
      "metadata": {
        "id": "63V0XMK744Dy"
      },
      "source": [
        "The best two algorithms are **K-Nearest Neighbors** and **Extreme Learning Trees**.I have applied two feature selection techniques namely **Recursive Feature Elimination(RFE)** and **SelectFromModel** against Balanced sample dataset. From the tables  obtained after applying these techniques, it is clearly observed that the accuracy of the algorithms were increased. This is because RFE technique removes least significant features over iteration.Initially it removes few features which are not important and then fits the model vice versa.It repeats this iteration until it reaches a suitable number of features. So by using RFE technique, the accuracy of the model increases whereas training time,model complexity,overfitting of data and total space consumed by the model gets reduced.In case of SelectFromModel technique, it will select the features whose importance is greater than the mean of importance of all the available independent features.This technique will remove less important features based on a threshold. Also, the improvements in the model accuracies depends on the number of features selected for training the model.Thus, feature elimination are beneficial in improving the model’s accuracy score."
      ]
    },
    {
      "cell_type": "markdown",
      "metadata": {
        "id": "wMyjYVcI44Dy"
      },
      "source": [
        "## Part B: Comparision of Algorithms-multiple datasets##"
      ]
    },
    {
      "cell_type": "markdown",
      "metadata": {
        "id": "yIQogjUI44Dy"
      },
      "source": [
        "**1. Implementation of SVM,KNN and Random Forest Algorithms to the datasets namely Iris,Congressional Voting Records and Labor Relations using tenfold cross validation to obtain average accuracies.** "
      ]
    },
    {
      "cell_type": "code",
      "metadata": {
        "id": "xqZ8-AhC44Dz",
        "outputId": "2dfb0e46-f0c7-4c1b-ea93-ea97f62f07c4"
      },
      "source": [
        "#Importing Iris dataset with the help of pandas data analysis python library.\n",
        "import pandas as pd\n",
        "import numpy as np\n",
        "df = pd.read_csv('iris.csv')\n",
        "print(df)"
      ],
      "execution_count": null,
      "outputs": [
        {
          "output_type": "stream",
          "text": [
            "     sepal.length  sepal.width  petal.length  petal.width    species\n",
            "0             5.1          3.5           1.4          0.2     Setosa\n",
            "1             4.9          3.0           1.4          0.2     Setosa\n",
            "2             4.7          3.2           1.3          0.2     Setosa\n",
            "3             4.6          3.1           1.5          0.2     Setosa\n",
            "4             5.0          3.6           1.4          0.2     Setosa\n",
            "..            ...          ...           ...          ...        ...\n",
            "145           6.7          3.0           5.2          2.3  Virginica\n",
            "146           6.3          2.5           5.0          1.9  Virginica\n",
            "147           6.5          3.0           5.2          2.0  Virginica\n",
            "148           6.2          3.4           5.4          2.3  Virginica\n",
            "149           5.9          3.0           5.1          1.8  Virginica\n",
            "\n",
            "[150 rows x 5 columns]\n"
          ],
          "name": "stdout"
        }
      ]
    },
    {
      "cell_type": "code",
      "metadata": {
        "id": "48I0C5H844D1",
        "outputId": "d2030746-b200-4b51-a5ce-19241af519f4"
      },
      "source": [
        "df.columns"
      ],
      "execution_count": null,
      "outputs": [
        {
          "output_type": "execute_result",
          "data": {
            "text/plain": [
              "Index(['sepal.length', 'sepal.width', 'petal.length', 'petal.width',\n",
              "       'species'],\n",
              "      dtype='object')"
            ]
          },
          "metadata": {
            "tags": []
          },
          "execution_count": 56
        }
      ]
    },
    {
      "cell_type": "markdown",
      "metadata": {
        "id": "UFxpnU1I44D2"
      },
      "source": [
        "**Since our class label is 'species', we are label-encoding it with the help of \"map\" function.**"
      ]
    },
    {
      "cell_type": "code",
      "metadata": {
        "id": "ohUzGNPp44D3",
        "outputId": "9c14f9d2-aacd-48a9-ba35-0c0063c910be"
      },
      "source": [
        "label_encoder1 = preprocessing.LabelEncoder()\n",
        "df['species'] = label_encoder1.fit_transform(df['species'].astype(str)) \n",
        "df"
      ],
      "execution_count": null,
      "outputs": [
        {
          "output_type": "execute_result",
          "data": {
            "text/html": [
              "<div>\n",
              "<style scoped>\n",
              "    .dataframe tbody tr th:only-of-type {\n",
              "        vertical-align: middle;\n",
              "    }\n",
              "\n",
              "    .dataframe tbody tr th {\n",
              "        vertical-align: top;\n",
              "    }\n",
              "\n",
              "    .dataframe thead th {\n",
              "        text-align: right;\n",
              "    }\n",
              "</style>\n",
              "<table border=\"1\" class=\"dataframe\">\n",
              "  <thead>\n",
              "    <tr style=\"text-align: right;\">\n",
              "      <th></th>\n",
              "      <th>sepal.length</th>\n",
              "      <th>sepal.width</th>\n",
              "      <th>petal.length</th>\n",
              "      <th>petal.width</th>\n",
              "      <th>species</th>\n",
              "    </tr>\n",
              "  </thead>\n",
              "  <tbody>\n",
              "    <tr>\n",
              "      <td>0</td>\n",
              "      <td>5.1</td>\n",
              "      <td>3.5</td>\n",
              "      <td>1.4</td>\n",
              "      <td>0.2</td>\n",
              "      <td>0</td>\n",
              "    </tr>\n",
              "    <tr>\n",
              "      <td>1</td>\n",
              "      <td>4.9</td>\n",
              "      <td>3.0</td>\n",
              "      <td>1.4</td>\n",
              "      <td>0.2</td>\n",
              "      <td>0</td>\n",
              "    </tr>\n",
              "    <tr>\n",
              "      <td>2</td>\n",
              "      <td>4.7</td>\n",
              "      <td>3.2</td>\n",
              "      <td>1.3</td>\n",
              "      <td>0.2</td>\n",
              "      <td>0</td>\n",
              "    </tr>\n",
              "    <tr>\n",
              "      <td>3</td>\n",
              "      <td>4.6</td>\n",
              "      <td>3.1</td>\n",
              "      <td>1.5</td>\n",
              "      <td>0.2</td>\n",
              "      <td>0</td>\n",
              "    </tr>\n",
              "    <tr>\n",
              "      <td>4</td>\n",
              "      <td>5.0</td>\n",
              "      <td>3.6</td>\n",
              "      <td>1.4</td>\n",
              "      <td>0.2</td>\n",
              "      <td>0</td>\n",
              "    </tr>\n",
              "    <tr>\n",
              "      <td>...</td>\n",
              "      <td>...</td>\n",
              "      <td>...</td>\n",
              "      <td>...</td>\n",
              "      <td>...</td>\n",
              "      <td>...</td>\n",
              "    </tr>\n",
              "    <tr>\n",
              "      <td>145</td>\n",
              "      <td>6.7</td>\n",
              "      <td>3.0</td>\n",
              "      <td>5.2</td>\n",
              "      <td>2.3</td>\n",
              "      <td>2</td>\n",
              "    </tr>\n",
              "    <tr>\n",
              "      <td>146</td>\n",
              "      <td>6.3</td>\n",
              "      <td>2.5</td>\n",
              "      <td>5.0</td>\n",
              "      <td>1.9</td>\n",
              "      <td>2</td>\n",
              "    </tr>\n",
              "    <tr>\n",
              "      <td>147</td>\n",
              "      <td>6.5</td>\n",
              "      <td>3.0</td>\n",
              "      <td>5.2</td>\n",
              "      <td>2.0</td>\n",
              "      <td>2</td>\n",
              "    </tr>\n",
              "    <tr>\n",
              "      <td>148</td>\n",
              "      <td>6.2</td>\n",
              "      <td>3.4</td>\n",
              "      <td>5.4</td>\n",
              "      <td>2.3</td>\n",
              "      <td>2</td>\n",
              "    </tr>\n",
              "    <tr>\n",
              "      <td>149</td>\n",
              "      <td>5.9</td>\n",
              "      <td>3.0</td>\n",
              "      <td>5.1</td>\n",
              "      <td>1.8</td>\n",
              "      <td>2</td>\n",
              "    </tr>\n",
              "  </tbody>\n",
              "</table>\n",
              "<p>150 rows × 5 columns</p>\n",
              "</div>"
            ],
            "text/plain": [
              "     sepal.length  sepal.width  petal.length  petal.width  species\n",
              "0             5.1          3.5           1.4          0.2        0\n",
              "1             4.9          3.0           1.4          0.2        0\n",
              "2             4.7          3.2           1.3          0.2        0\n",
              "3             4.6          3.1           1.5          0.2        0\n",
              "4             5.0          3.6           1.4          0.2        0\n",
              "..            ...          ...           ...          ...      ...\n",
              "145           6.7          3.0           5.2          2.3        2\n",
              "146           6.3          2.5           5.0          1.9        2\n",
              "147           6.5          3.0           5.2          2.0        2\n",
              "148           6.2          3.4           5.4          2.3        2\n",
              "149           5.9          3.0           5.1          1.8        2\n",
              "\n",
              "[150 rows x 5 columns]"
            ]
          },
          "metadata": {
            "tags": []
          },
          "execution_count": 57
        }
      ]
    },
    {
      "cell_type": "markdown",
      "metadata": {
        "id": "MrCpZ48Y44D4"
      },
      "source": [
        "### Independent and Dependent features###"
      ]
    },
    {
      "cell_type": "code",
      "metadata": {
        "id": "W-xuktWn44D5",
        "outputId": "d5c79ac6-7b55-4e72-a838-add8f91cf19d"
      },
      "source": [
        "columns = df.columns.tolist()\n",
        "# Filtering the columns to remove data we do not want \n",
        "columns = [c for c in columns if c not in [\"species\"]]\n",
        "# Storing the variable we are predicting \n",
        "target = \"species\"\n",
        "# Defining a random state \n",
        "state = np.random.RandomState(42)\n",
        "X = df[columns]\n",
        "Y = df[target]\n",
        "X_outliers = state.uniform(low=0, high=1, size=(X.shape[0], X.shape[1]))\n",
        "# Printing the shapes of X & Y\n",
        "print(X.shape)\n",
        "print(Y.shape)"
      ],
      "execution_count": null,
      "outputs": [
        {
          "output_type": "stream",
          "text": [
            "(150, 4)\n",
            "(150,)\n"
          ],
          "name": "stdout"
        }
      ]
    },
    {
      "cell_type": "markdown",
      "metadata": {
        "id": "IJhKAxMH44D9"
      },
      "source": [
        "### Implementation of KNN Algorithm against Iris dataset using tenfold cross validation."
      ]
    },
    {
      "cell_type": "code",
      "metadata": {
        "id": "3JAUn3F244D9",
        "outputId": "ea7da58c-f3ba-4ac8-8e52-ad7b33cfcca1"
      },
      "source": [
        "from sklearn.neighbors import KNeighborsClassifier\n",
        "from sklearn.model_selection import cross_val_score\n",
        "import numpy as np\n",
        "#creating a new KNN model\n",
        "knn_cv = KNeighborsClassifier(n_neighbors= 5)\n",
        "#training our model with cv of 10 \n",
        "cross_val_scores = cross_val_score(knn_cv, X,Y, cv=10)\n",
        "#printing each cross validation score (accuracy) and finding the average of them\n",
        "print('knn_iris_cross_val_scores:{}'.format(cross_val_scores))\n",
        "knn_avg_accuracy1=np.mean(cross_val_scores)\n",
        "print('knn_model_iris_average_accuracy :{}'.format(np.mean(cross_val_scores)))"
      ],
      "execution_count": null,
      "outputs": [
        {
          "output_type": "stream",
          "text": [
            "knn_iris_cross_val_scores:[1.         0.93333333 1.         1.         0.86666667 0.93333333\n",
            " 0.93333333 1.         1.         1.        ]\n",
            "knn_model_iris_average_accuracy :0.9666666666666668\n"
          ],
          "name": "stdout"
        }
      ]
    },
    {
      "cell_type": "markdown",
      "metadata": {
        "id": "p8dgJVpd44D_"
      },
      "source": [
        "### Implementation of SVM Algorithm against Iris dataset using tenfold cross validation."
      ]
    },
    {
      "cell_type": "code",
      "metadata": {
        "id": "uxBGnoI744D_",
        "outputId": "d80102e8-c629-45a0-9a00-61dde51e6ebc"
      },
      "source": [
        "#creating a new svm model\n",
        "support_vector_classifier = SVC(gamma='auto')\n",
        "support_vector_classifier = SVC(gamma='scale')\n",
        "#training our model with cv of 10 \n",
        "svm_cross_val_scores = cross_val_score(support_vector_classifier, X, Y, cv=10)\n",
        "#printing cross validation scores\n",
        "print(svm_cross_val_scores)\n",
        "#printing the average of them\n",
        "svm_avg_score1 = np.mean(svm_cross_val_scores)\n",
        "print(svm_avg_score1)"
      ],
      "execution_count": null,
      "outputs": [
        {
          "output_type": "stream",
          "text": [
            "[1.         0.93333333 1.         1.         1.         0.93333333\n",
            " 0.93333333 0.93333333 1.         1.        ]\n",
            "0.9733333333333334\n"
          ],
          "name": "stdout"
        }
      ]
    },
    {
      "cell_type": "markdown",
      "metadata": {
        "id": "HX2XV8Vo44EE"
      },
      "source": [
        "### Implementation of Random Forest Algorithm against Iris dataset using tenfold cross validation."
      ]
    },
    {
      "cell_type": "code",
      "metadata": {
        "id": "toCwd5AP44EF",
        "outputId": "d143d1a1-d17b-4a19-ee50-71e28f9dae55"
      },
      "source": [
        "from sklearn.ensemble import RandomForestClassifier\n",
        "from sklearn.model_selection import cross_val_score\n",
        "#creating a new model\n",
        "random_forest_classifier = RandomForestClassifier(n_jobs = -1, n_estimators=10,bootstrap= True, criterion='gini')\n",
        "#training our model with cv of 10 \n",
        "randomforest_cross_val_scores = cross_val_score(random_forest_classifier, X,Y, cv=10)\n",
        "#printing cross validation scores\n",
        "print(randomforest_cross_val_scores)\n",
        "#printing the average of them\n",
        "randomforest_avg_score1 = np.mean(randomforest_cross_val_scores)\n",
        "print(randomforest_avg_score1)"
      ],
      "execution_count": null,
      "outputs": [
        {
          "output_type": "stream",
          "text": [
            "[1.         0.93333333 1.         0.93333333 0.93333333 0.93333333\n",
            " 0.93333333 0.93333333 1.         1.        ]\n",
            "0.96\n"
          ],
          "name": "stdout"
        }
      ]
    },
    {
      "cell_type": "code",
      "metadata": {
        "id": "ePhRovI244EI",
        "outputId": "8e4d9b28-966b-4f56-d478-092a9c314a4c"
      },
      "source": [
        "#Importing Congressional Voting Records dataset with the help of pandas data analysis python library.\n",
        "import pandas as pd\n",
        "import numpy as np\n",
        "df = pd.read_csv('house-votes.csv')\n",
        "print(df.head(100))"
      ],
      "execution_count": null,
      "outputs": [
        {
          "output_type": "stream",
          "text": [
            "    Class Name  handicapped-infants  water-project-cost-sharing  \\\n",
            "0   republican                    n                           y   \n",
            "1   republican                    n                           y   \n",
            "2     democrat                    ?                           y   \n",
            "3     democrat                    n                           y   \n",
            "4     democrat                    y                           y   \n",
            "..         ...                  ...                         ...   \n",
            "95    democrat                    y                           n   \n",
            "96    democrat                    n                           n   \n",
            "97    democrat                    y                           n   \n",
            "98    democrat                    y                           y   \n",
            "99  republican                    n                           n   \n",
            "\n",
            "    adoption-of-the-budget-resolution  physician-fee-freeze  el-salvador-aid  \\\n",
            "0                                   n                     y                y   \n",
            "1                                   n                     y                y   \n",
            "2                                   y                     ?                y   \n",
            "3                                   y                     n                ?   \n",
            "4                                   y                     n                y   \n",
            "..                                ...                   ...              ...   \n",
            "95                                  y                     n                y   \n",
            "96                                  ?                     n                y   \n",
            "97                                  n                     n                y   \n",
            "98                                  y                     n                n   \n",
            "99                                  n                     y                y   \n",
            "\n",
            "    religious-groups-in-schools  anti-satellite-test-ban  \\\n",
            "0                             y                        n   \n",
            "1                             y                        n   \n",
            "2                             y                        n   \n",
            "3                             y                        n   \n",
            "4                             y                        n   \n",
            "..                          ...                      ...   \n",
            "95                            y                        n   \n",
            "96                            y                        n   \n",
            "97                            y                        y   \n",
            "98                            y                        y   \n",
            "99                            y                        n   \n",
            "\n",
            "    aid-to-nicaraguan-contras  mx-missile  immigration  \\\n",
            "0                           n           n            y   \n",
            "1                           n           n            n   \n",
            "2                           n           n            n   \n",
            "3                           n           n            n   \n",
            "4                           n           n            n   \n",
            "..                        ...         ...          ...   \n",
            "95                          ?           ?            n   \n",
            "96                          n           n            n   \n",
            "97                          n           n            y   \n",
            "98                          y           y            y   \n",
            "99                          n           n            y   \n",
            "\n",
            "    synfuels-corporation-cutback  education-spending  superfund-right-to-sue  \\\n",
            "0                              ?                   y                       y   \n",
            "1                              n                   y                       y   \n",
            "2                              y                   n                       y   \n",
            "3                              y                   n                       y   \n",
            "4                              y                   ?                       y   \n",
            "..                           ...                 ...                     ...   \n",
            "95                             y                   ?                       ?   \n",
            "96                             y                   y                       y   \n",
            "97                             y                   n                       n   \n",
            "98                             n                   n                       n   \n",
            "99                             ?                   y                       y   \n",
            "\n",
            "    crime  duty-free-exports  export-administration-act-south-africa  \n",
            "0       y                  n                                       y  \n",
            "1       y                  n                                       ?  \n",
            "2       y                  n                                       n  \n",
            "3       n                  n                                       y  \n",
            "4       y                  y                                       y  \n",
            "..    ...                ...                                     ...  \n",
            "95      ?                  y                                       y  \n",
            "96      y                  n                                       y  \n",
            "97      y                  n                                       y  \n",
            "98      n                  n                                       y  \n",
            "99      y                  n                                       n  \n",
            "\n",
            "[100 rows x 17 columns]\n"
          ],
          "name": "stdout"
        }
      ]
    },
    {
      "cell_type": "code",
      "metadata": {
        "id": "B1z4RO9P44EP"
      },
      "source": [
        "#Renaming the Target variable 'Class Name' to 'Class'\n",
        "df = df.rename(columns = {'Class Name': 'Class'})"
      ],
      "execution_count": null,
      "outputs": []
    },
    {
      "cell_type": "code",
      "metadata": {
        "id": "MrjDFEg144ES",
        "outputId": "b1436d48-4881-47bf-b848-d24337e68e9c"
      },
      "source": [
        "df.columns"
      ],
      "execution_count": null,
      "outputs": [
        {
          "output_type": "execute_result",
          "data": {
            "text/plain": [
              "Index(['Class', ' handicapped-infants', ' water-project-cost-sharing',\n",
              "       ' adoption-of-the-budget-resolution', ' physician-fee-freeze',\n",
              "       ' el-salvador-aid', ' religious-groups-in-schools',\n",
              "       ' anti-satellite-test-ban', ' aid-to-nicaraguan-contras', ' mx-missile',\n",
              "       ' immigration', ' synfuels-corporation-cutback', ' education-spending',\n",
              "       ' superfund-right-to-sue', ' crime', ' duty-free-exports',\n",
              "       ' export-administration-act-south-africa'],\n",
              "      dtype='object')"
            ]
          },
          "metadata": {
            "tags": []
          },
          "execution_count": 64
        }
      ]
    },
    {
      "cell_type": "code",
      "metadata": {
        "id": "QWg30dD644EU"
      },
      "source": [
        "df.columns = df.columns.str.strip()"
      ],
      "execution_count": null,
      "outputs": []
    },
    {
      "cell_type": "code",
      "metadata": {
        "id": "0U9vGigV44EW",
        "outputId": "a2b83106-f48a-4ae9-b834-de96b3a66fc7"
      },
      "source": [
        "df.columns"
      ],
      "execution_count": null,
      "outputs": [
        {
          "output_type": "execute_result",
          "data": {
            "text/plain": [
              "Index(['Class', 'handicapped-infants', 'water-project-cost-sharing',\n",
              "       'adoption-of-the-budget-resolution', 'physician-fee-freeze',\n",
              "       'el-salvador-aid', 'religious-groups-in-schools',\n",
              "       'anti-satellite-test-ban', 'aid-to-nicaraguan-contras', 'mx-missile',\n",
              "       'immigration', 'synfuels-corporation-cutback', 'education-spending',\n",
              "       'superfund-right-to-sue', 'crime', 'duty-free-exports',\n",
              "       'export-administration-act-south-africa'],\n",
              "      dtype='object')"
            ]
          },
          "metadata": {
            "tags": []
          },
          "execution_count": 66
        }
      ]
    },
    {
      "cell_type": "markdown",
      "metadata": {
        "id": "2v5b4Usb44EY"
      },
      "source": [
        "**Since our class label is 'Class Name', we are label-encoding it with the help of \"map\" function.**"
      ]
    },
    {
      "cell_type": "code",
      "metadata": {
        "id": "qqysjjN744EY",
        "outputId": "e0ebc1cb-8f06-40a8-aa23-19e79e286fcb"
      },
      "source": [
        "df1 =df.Class.map({'republican':0,'democrat':1}).astype(int)\n",
        "df1.head(10).T"
      ],
      "execution_count": null,
      "outputs": [
        {
          "output_type": "execute_result",
          "data": {
            "text/plain": [
              "0    0\n",
              "1    0\n",
              "2    1\n",
              "3    1\n",
              "4    1\n",
              "5    1\n",
              "6    1\n",
              "7    0\n",
              "8    0\n",
              "9    1\n",
              "Name: Class, dtype: int32"
            ]
          },
          "metadata": {
            "tags": []
          },
          "execution_count": 67
        }
      ]
    },
    {
      "cell_type": "markdown",
      "metadata": {
        "id": "0z9OeQ-044Ea"
      },
      "source": [
        "**Label Encoding of Selected features**"
      ]
    },
    {
      "cell_type": "code",
      "metadata": {
        "scrolled": true,
        "id": "8p28GAnM44Eb",
        "outputId": "4e3dc873-b841-4895-a7c0-d4455f2b95d2"
      },
      "source": [
        "from sklearn import preprocessing\n",
        "le = preprocessing.LabelEncoder()\n",
        "df2 = df[['handicapped-infants', 'water-project-cost-sharing',\n",
        "       'adoption-of-the-budget-resolution', 'physician-fee-freeze',\n",
        "       'el-salvador-aid', 'religious-groups-in-schools',\n",
        "       'anti-satellite-test-ban', 'aid-to-nicaraguan-contras', 'mx-missile',\n",
        "       'immigration', 'synfuels-corporation-cutback', 'education-spending',\n",
        "       'superfund-right-to-sue', 'crime', 'duty-free-exports',\n",
        "       'export-administration-act-south-africa']].apply(le.fit_transform)\n",
        "df2.head(10)"
      ],
      "execution_count": null,
      "outputs": [
        {
          "output_type": "execute_result",
          "data": {
            "text/html": [
              "<div>\n",
              "<style scoped>\n",
              "    .dataframe tbody tr th:only-of-type {\n",
              "        vertical-align: middle;\n",
              "    }\n",
              "\n",
              "    .dataframe tbody tr th {\n",
              "        vertical-align: top;\n",
              "    }\n",
              "\n",
              "    .dataframe thead th {\n",
              "        text-align: right;\n",
              "    }\n",
              "</style>\n",
              "<table border=\"1\" class=\"dataframe\">\n",
              "  <thead>\n",
              "    <tr style=\"text-align: right;\">\n",
              "      <th></th>\n",
              "      <th>handicapped-infants</th>\n",
              "      <th>water-project-cost-sharing</th>\n",
              "      <th>adoption-of-the-budget-resolution</th>\n",
              "      <th>physician-fee-freeze</th>\n",
              "      <th>el-salvador-aid</th>\n",
              "      <th>religious-groups-in-schools</th>\n",
              "      <th>anti-satellite-test-ban</th>\n",
              "      <th>aid-to-nicaraguan-contras</th>\n",
              "      <th>mx-missile</th>\n",
              "      <th>immigration</th>\n",
              "      <th>synfuels-corporation-cutback</th>\n",
              "      <th>education-spending</th>\n",
              "      <th>superfund-right-to-sue</th>\n",
              "      <th>crime</th>\n",
              "      <th>duty-free-exports</th>\n",
              "      <th>export-administration-act-south-africa</th>\n",
              "    </tr>\n",
              "  </thead>\n",
              "  <tbody>\n",
              "    <tr>\n",
              "      <td>0</td>\n",
              "      <td>1</td>\n",
              "      <td>2</td>\n",
              "      <td>1</td>\n",
              "      <td>2</td>\n",
              "      <td>2</td>\n",
              "      <td>2</td>\n",
              "      <td>1</td>\n",
              "      <td>1</td>\n",
              "      <td>1</td>\n",
              "      <td>2</td>\n",
              "      <td>0</td>\n",
              "      <td>2</td>\n",
              "      <td>2</td>\n",
              "      <td>2</td>\n",
              "      <td>1</td>\n",
              "      <td>2</td>\n",
              "    </tr>\n",
              "    <tr>\n",
              "      <td>1</td>\n",
              "      <td>1</td>\n",
              "      <td>2</td>\n",
              "      <td>1</td>\n",
              "      <td>2</td>\n",
              "      <td>2</td>\n",
              "      <td>2</td>\n",
              "      <td>1</td>\n",
              "      <td>1</td>\n",
              "      <td>1</td>\n",
              "      <td>1</td>\n",
              "      <td>1</td>\n",
              "      <td>2</td>\n",
              "      <td>2</td>\n",
              "      <td>2</td>\n",
              "      <td>1</td>\n",
              "      <td>0</td>\n",
              "    </tr>\n",
              "    <tr>\n",
              "      <td>2</td>\n",
              "      <td>0</td>\n",
              "      <td>2</td>\n",
              "      <td>2</td>\n",
              "      <td>0</td>\n",
              "      <td>2</td>\n",
              "      <td>2</td>\n",
              "      <td>1</td>\n",
              "      <td>1</td>\n",
              "      <td>1</td>\n",
              "      <td>1</td>\n",
              "      <td>2</td>\n",
              "      <td>1</td>\n",
              "      <td>2</td>\n",
              "      <td>2</td>\n",
              "      <td>1</td>\n",
              "      <td>1</td>\n",
              "    </tr>\n",
              "    <tr>\n",
              "      <td>3</td>\n",
              "      <td>1</td>\n",
              "      <td>2</td>\n",
              "      <td>2</td>\n",
              "      <td>1</td>\n",
              "      <td>0</td>\n",
              "      <td>2</td>\n",
              "      <td>1</td>\n",
              "      <td>1</td>\n",
              "      <td>1</td>\n",
              "      <td>1</td>\n",
              "      <td>2</td>\n",
              "      <td>1</td>\n",
              "      <td>2</td>\n",
              "      <td>1</td>\n",
              "      <td>1</td>\n",
              "      <td>2</td>\n",
              "    </tr>\n",
              "    <tr>\n",
              "      <td>4</td>\n",
              "      <td>2</td>\n",
              "      <td>2</td>\n",
              "      <td>2</td>\n",
              "      <td>1</td>\n",
              "      <td>2</td>\n",
              "      <td>2</td>\n",
              "      <td>1</td>\n",
              "      <td>1</td>\n",
              "      <td>1</td>\n",
              "      <td>1</td>\n",
              "      <td>2</td>\n",
              "      <td>0</td>\n",
              "      <td>2</td>\n",
              "      <td>2</td>\n",
              "      <td>2</td>\n",
              "      <td>2</td>\n",
              "    </tr>\n",
              "    <tr>\n",
              "      <td>5</td>\n",
              "      <td>1</td>\n",
              "      <td>2</td>\n",
              "      <td>2</td>\n",
              "      <td>1</td>\n",
              "      <td>2</td>\n",
              "      <td>2</td>\n",
              "      <td>1</td>\n",
              "      <td>1</td>\n",
              "      <td>1</td>\n",
              "      <td>1</td>\n",
              "      <td>1</td>\n",
              "      <td>1</td>\n",
              "      <td>2</td>\n",
              "      <td>2</td>\n",
              "      <td>2</td>\n",
              "      <td>2</td>\n",
              "    </tr>\n",
              "    <tr>\n",
              "      <td>6</td>\n",
              "      <td>1</td>\n",
              "      <td>2</td>\n",
              "      <td>1</td>\n",
              "      <td>2</td>\n",
              "      <td>2</td>\n",
              "      <td>2</td>\n",
              "      <td>1</td>\n",
              "      <td>1</td>\n",
              "      <td>1</td>\n",
              "      <td>1</td>\n",
              "      <td>1</td>\n",
              "      <td>1</td>\n",
              "      <td>0</td>\n",
              "      <td>2</td>\n",
              "      <td>2</td>\n",
              "      <td>2</td>\n",
              "    </tr>\n",
              "    <tr>\n",
              "      <td>7</td>\n",
              "      <td>1</td>\n",
              "      <td>2</td>\n",
              "      <td>1</td>\n",
              "      <td>2</td>\n",
              "      <td>2</td>\n",
              "      <td>2</td>\n",
              "      <td>1</td>\n",
              "      <td>1</td>\n",
              "      <td>1</td>\n",
              "      <td>1</td>\n",
              "      <td>1</td>\n",
              "      <td>1</td>\n",
              "      <td>2</td>\n",
              "      <td>2</td>\n",
              "      <td>0</td>\n",
              "      <td>2</td>\n",
              "    </tr>\n",
              "    <tr>\n",
              "      <td>8</td>\n",
              "      <td>1</td>\n",
              "      <td>2</td>\n",
              "      <td>1</td>\n",
              "      <td>2</td>\n",
              "      <td>2</td>\n",
              "      <td>2</td>\n",
              "      <td>1</td>\n",
              "      <td>1</td>\n",
              "      <td>1</td>\n",
              "      <td>1</td>\n",
              "      <td>1</td>\n",
              "      <td>2</td>\n",
              "      <td>2</td>\n",
              "      <td>2</td>\n",
              "      <td>1</td>\n",
              "      <td>2</td>\n",
              "    </tr>\n",
              "    <tr>\n",
              "      <td>9</td>\n",
              "      <td>2</td>\n",
              "      <td>2</td>\n",
              "      <td>2</td>\n",
              "      <td>1</td>\n",
              "      <td>1</td>\n",
              "      <td>1</td>\n",
              "      <td>2</td>\n",
              "      <td>2</td>\n",
              "      <td>2</td>\n",
              "      <td>1</td>\n",
              "      <td>1</td>\n",
              "      <td>1</td>\n",
              "      <td>1</td>\n",
              "      <td>1</td>\n",
              "      <td>0</td>\n",
              "      <td>0</td>\n",
              "    </tr>\n",
              "  </tbody>\n",
              "</table>\n",
              "</div>"
            ],
            "text/plain": [
              "   handicapped-infants  water-project-cost-sharing  \\\n",
              "0                    1                           2   \n",
              "1                    1                           2   \n",
              "2                    0                           2   \n",
              "3                    1                           2   \n",
              "4                    2                           2   \n",
              "5                    1                           2   \n",
              "6                    1                           2   \n",
              "7                    1                           2   \n",
              "8                    1                           2   \n",
              "9                    2                           2   \n",
              "\n",
              "   adoption-of-the-budget-resolution  physician-fee-freeze  el-salvador-aid  \\\n",
              "0                                  1                     2                2   \n",
              "1                                  1                     2                2   \n",
              "2                                  2                     0                2   \n",
              "3                                  2                     1                0   \n",
              "4                                  2                     1                2   \n",
              "5                                  2                     1                2   \n",
              "6                                  1                     2                2   \n",
              "7                                  1                     2                2   \n",
              "8                                  1                     2                2   \n",
              "9                                  2                     1                1   \n",
              "\n",
              "   religious-groups-in-schools  anti-satellite-test-ban  \\\n",
              "0                            2                        1   \n",
              "1                            2                        1   \n",
              "2                            2                        1   \n",
              "3                            2                        1   \n",
              "4                            2                        1   \n",
              "5                            2                        1   \n",
              "6                            2                        1   \n",
              "7                            2                        1   \n",
              "8                            2                        1   \n",
              "9                            1                        2   \n",
              "\n",
              "   aid-to-nicaraguan-contras  mx-missile  immigration  \\\n",
              "0                          1           1            2   \n",
              "1                          1           1            1   \n",
              "2                          1           1            1   \n",
              "3                          1           1            1   \n",
              "4                          1           1            1   \n",
              "5                          1           1            1   \n",
              "6                          1           1            1   \n",
              "7                          1           1            1   \n",
              "8                          1           1            1   \n",
              "9                          2           2            1   \n",
              "\n",
              "   synfuels-corporation-cutback  education-spending  superfund-right-to-sue  \\\n",
              "0                             0                   2                       2   \n",
              "1                             1                   2                       2   \n",
              "2                             2                   1                       2   \n",
              "3                             2                   1                       2   \n",
              "4                             2                   0                       2   \n",
              "5                             1                   1                       2   \n",
              "6                             1                   1                       0   \n",
              "7                             1                   1                       2   \n",
              "8                             1                   2                       2   \n",
              "9                             1                   1                       1   \n",
              "\n",
              "   crime  duty-free-exports  export-administration-act-south-africa  \n",
              "0      2                  1                                       2  \n",
              "1      2                  1                                       0  \n",
              "2      2                  1                                       1  \n",
              "3      1                  1                                       2  \n",
              "4      2                  2                                       2  \n",
              "5      2                  2                                       2  \n",
              "6      2                  2                                       2  \n",
              "7      2                  0                                       2  \n",
              "8      2                  1                                       2  \n",
              "9      1                  0                                       0  "
            ]
          },
          "metadata": {
            "tags": []
          },
          "execution_count": 68
        }
      ]
    },
    {
      "cell_type": "code",
      "metadata": {
        "id": "u3jig5Ft44Ec",
        "outputId": "413de084-5c46-40a4-8a83-8fced0c2da83"
      },
      "source": [
        "#Concating dataframe(df2) containing label encoded features to the dataframe(df1) which contains 'Class' variable\n",
        "df = pd.concat([df1,df2],axis=1)\n",
        "df"
      ],
      "execution_count": null,
      "outputs": [
        {
          "output_type": "execute_result",
          "data": {
            "text/html": [
              "<div>\n",
              "<style scoped>\n",
              "    .dataframe tbody tr th:only-of-type {\n",
              "        vertical-align: middle;\n",
              "    }\n",
              "\n",
              "    .dataframe tbody tr th {\n",
              "        vertical-align: top;\n",
              "    }\n",
              "\n",
              "    .dataframe thead th {\n",
              "        text-align: right;\n",
              "    }\n",
              "</style>\n",
              "<table border=\"1\" class=\"dataframe\">\n",
              "  <thead>\n",
              "    <tr style=\"text-align: right;\">\n",
              "      <th></th>\n",
              "      <th>Class</th>\n",
              "      <th>handicapped-infants</th>\n",
              "      <th>water-project-cost-sharing</th>\n",
              "      <th>adoption-of-the-budget-resolution</th>\n",
              "      <th>physician-fee-freeze</th>\n",
              "      <th>el-salvador-aid</th>\n",
              "      <th>religious-groups-in-schools</th>\n",
              "      <th>anti-satellite-test-ban</th>\n",
              "      <th>aid-to-nicaraguan-contras</th>\n",
              "      <th>mx-missile</th>\n",
              "      <th>immigration</th>\n",
              "      <th>synfuels-corporation-cutback</th>\n",
              "      <th>education-spending</th>\n",
              "      <th>superfund-right-to-sue</th>\n",
              "      <th>crime</th>\n",
              "      <th>duty-free-exports</th>\n",
              "      <th>export-administration-act-south-africa</th>\n",
              "    </tr>\n",
              "  </thead>\n",
              "  <tbody>\n",
              "    <tr>\n",
              "      <td>0</td>\n",
              "      <td>0</td>\n",
              "      <td>1</td>\n",
              "      <td>2</td>\n",
              "      <td>1</td>\n",
              "      <td>2</td>\n",
              "      <td>2</td>\n",
              "      <td>2</td>\n",
              "      <td>1</td>\n",
              "      <td>1</td>\n",
              "      <td>1</td>\n",
              "      <td>2</td>\n",
              "      <td>0</td>\n",
              "      <td>2</td>\n",
              "      <td>2</td>\n",
              "      <td>2</td>\n",
              "      <td>1</td>\n",
              "      <td>2</td>\n",
              "    </tr>\n",
              "    <tr>\n",
              "      <td>1</td>\n",
              "      <td>0</td>\n",
              "      <td>1</td>\n",
              "      <td>2</td>\n",
              "      <td>1</td>\n",
              "      <td>2</td>\n",
              "      <td>2</td>\n",
              "      <td>2</td>\n",
              "      <td>1</td>\n",
              "      <td>1</td>\n",
              "      <td>1</td>\n",
              "      <td>1</td>\n",
              "      <td>1</td>\n",
              "      <td>2</td>\n",
              "      <td>2</td>\n",
              "      <td>2</td>\n",
              "      <td>1</td>\n",
              "      <td>0</td>\n",
              "    </tr>\n",
              "    <tr>\n",
              "      <td>2</td>\n",
              "      <td>1</td>\n",
              "      <td>0</td>\n",
              "      <td>2</td>\n",
              "      <td>2</td>\n",
              "      <td>0</td>\n",
              "      <td>2</td>\n",
              "      <td>2</td>\n",
              "      <td>1</td>\n",
              "      <td>1</td>\n",
              "      <td>1</td>\n",
              "      <td>1</td>\n",
              "      <td>2</td>\n",
              "      <td>1</td>\n",
              "      <td>2</td>\n",
              "      <td>2</td>\n",
              "      <td>1</td>\n",
              "      <td>1</td>\n",
              "    </tr>\n",
              "    <tr>\n",
              "      <td>3</td>\n",
              "      <td>1</td>\n",
              "      <td>1</td>\n",
              "      <td>2</td>\n",
              "      <td>2</td>\n",
              "      <td>1</td>\n",
              "      <td>0</td>\n",
              "      <td>2</td>\n",
              "      <td>1</td>\n",
              "      <td>1</td>\n",
              "      <td>1</td>\n",
              "      <td>1</td>\n",
              "      <td>2</td>\n",
              "      <td>1</td>\n",
              "      <td>2</td>\n",
              "      <td>1</td>\n",
              "      <td>1</td>\n",
              "      <td>2</td>\n",
              "    </tr>\n",
              "    <tr>\n",
              "      <td>4</td>\n",
              "      <td>1</td>\n",
              "      <td>2</td>\n",
              "      <td>2</td>\n",
              "      <td>2</td>\n",
              "      <td>1</td>\n",
              "      <td>2</td>\n",
              "      <td>2</td>\n",
              "      <td>1</td>\n",
              "      <td>1</td>\n",
              "      <td>1</td>\n",
              "      <td>1</td>\n",
              "      <td>2</td>\n",
              "      <td>0</td>\n",
              "      <td>2</td>\n",
              "      <td>2</td>\n",
              "      <td>2</td>\n",
              "      <td>2</td>\n",
              "    </tr>\n",
              "    <tr>\n",
              "      <td>...</td>\n",
              "      <td>...</td>\n",
              "      <td>...</td>\n",
              "      <td>...</td>\n",
              "      <td>...</td>\n",
              "      <td>...</td>\n",
              "      <td>...</td>\n",
              "      <td>...</td>\n",
              "      <td>...</td>\n",
              "      <td>...</td>\n",
              "      <td>...</td>\n",
              "      <td>...</td>\n",
              "      <td>...</td>\n",
              "      <td>...</td>\n",
              "      <td>...</td>\n",
              "      <td>...</td>\n",
              "      <td>...</td>\n",
              "      <td>...</td>\n",
              "    </tr>\n",
              "    <tr>\n",
              "      <td>430</td>\n",
              "      <td>0</td>\n",
              "      <td>1</td>\n",
              "      <td>1</td>\n",
              "      <td>2</td>\n",
              "      <td>2</td>\n",
              "      <td>2</td>\n",
              "      <td>2</td>\n",
              "      <td>1</td>\n",
              "      <td>1</td>\n",
              "      <td>2</td>\n",
              "      <td>2</td>\n",
              "      <td>1</td>\n",
              "      <td>2</td>\n",
              "      <td>2</td>\n",
              "      <td>2</td>\n",
              "      <td>1</td>\n",
              "      <td>2</td>\n",
              "    </tr>\n",
              "    <tr>\n",
              "      <td>431</td>\n",
              "      <td>1</td>\n",
              "      <td>1</td>\n",
              "      <td>1</td>\n",
              "      <td>2</td>\n",
              "      <td>1</td>\n",
              "      <td>1</td>\n",
              "      <td>1</td>\n",
              "      <td>2</td>\n",
              "      <td>2</td>\n",
              "      <td>2</td>\n",
              "      <td>2</td>\n",
              "      <td>1</td>\n",
              "      <td>1</td>\n",
              "      <td>1</td>\n",
              "      <td>1</td>\n",
              "      <td>1</td>\n",
              "      <td>2</td>\n",
              "    </tr>\n",
              "    <tr>\n",
              "      <td>432</td>\n",
              "      <td>0</td>\n",
              "      <td>1</td>\n",
              "      <td>0</td>\n",
              "      <td>1</td>\n",
              "      <td>2</td>\n",
              "      <td>2</td>\n",
              "      <td>2</td>\n",
              "      <td>1</td>\n",
              "      <td>1</td>\n",
              "      <td>1</td>\n",
              "      <td>1</td>\n",
              "      <td>2</td>\n",
              "      <td>2</td>\n",
              "      <td>2</td>\n",
              "      <td>2</td>\n",
              "      <td>1</td>\n",
              "      <td>2</td>\n",
              "    </tr>\n",
              "    <tr>\n",
              "      <td>433</td>\n",
              "      <td>0</td>\n",
              "      <td>1</td>\n",
              "      <td>1</td>\n",
              "      <td>1</td>\n",
              "      <td>2</td>\n",
              "      <td>2</td>\n",
              "      <td>2</td>\n",
              "      <td>0</td>\n",
              "      <td>0</td>\n",
              "      <td>0</td>\n",
              "      <td>0</td>\n",
              "      <td>1</td>\n",
              "      <td>2</td>\n",
              "      <td>2</td>\n",
              "      <td>2</td>\n",
              "      <td>1</td>\n",
              "      <td>2</td>\n",
              "    </tr>\n",
              "    <tr>\n",
              "      <td>434</td>\n",
              "      <td>0</td>\n",
              "      <td>1</td>\n",
              "      <td>2</td>\n",
              "      <td>1</td>\n",
              "      <td>2</td>\n",
              "      <td>2</td>\n",
              "      <td>2</td>\n",
              "      <td>1</td>\n",
              "      <td>1</td>\n",
              "      <td>1</td>\n",
              "      <td>2</td>\n",
              "      <td>1</td>\n",
              "      <td>2</td>\n",
              "      <td>2</td>\n",
              "      <td>2</td>\n",
              "      <td>0</td>\n",
              "      <td>1</td>\n",
              "    </tr>\n",
              "  </tbody>\n",
              "</table>\n",
              "<p>435 rows × 17 columns</p>\n",
              "</div>"
            ],
            "text/plain": [
              "     Class  handicapped-infants  water-project-cost-sharing  \\\n",
              "0        0                    1                           2   \n",
              "1        0                    1                           2   \n",
              "2        1                    0                           2   \n",
              "3        1                    1                           2   \n",
              "4        1                    2                           2   \n",
              "..     ...                  ...                         ...   \n",
              "430      0                    1                           1   \n",
              "431      1                    1                           1   \n",
              "432      0                    1                           0   \n",
              "433      0                    1                           1   \n",
              "434      0                    1                           2   \n",
              "\n",
              "     adoption-of-the-budget-resolution  physician-fee-freeze  el-salvador-aid  \\\n",
              "0                                    1                     2                2   \n",
              "1                                    1                     2                2   \n",
              "2                                    2                     0                2   \n",
              "3                                    2                     1                0   \n",
              "4                                    2                     1                2   \n",
              "..                                 ...                   ...              ...   \n",
              "430                                  2                     2                2   \n",
              "431                                  2                     1                1   \n",
              "432                                  1                     2                2   \n",
              "433                                  1                     2                2   \n",
              "434                                  1                     2                2   \n",
              "\n",
              "     religious-groups-in-schools  anti-satellite-test-ban  \\\n",
              "0                              2                        1   \n",
              "1                              2                        1   \n",
              "2                              2                        1   \n",
              "3                              2                        1   \n",
              "4                              2                        1   \n",
              "..                           ...                      ...   \n",
              "430                            2                        1   \n",
              "431                            1                        2   \n",
              "432                            2                        1   \n",
              "433                            2                        0   \n",
              "434                            2                        1   \n",
              "\n",
              "     aid-to-nicaraguan-contras  mx-missile  immigration  \\\n",
              "0                            1           1            2   \n",
              "1                            1           1            1   \n",
              "2                            1           1            1   \n",
              "3                            1           1            1   \n",
              "4                            1           1            1   \n",
              "..                         ...         ...          ...   \n",
              "430                          1           2            2   \n",
              "431                          2           2            2   \n",
              "432                          1           1            1   \n",
              "433                          0           0            0   \n",
              "434                          1           1            2   \n",
              "\n",
              "     synfuels-corporation-cutback  education-spending  superfund-right-to-sue  \\\n",
              "0                               0                   2                       2   \n",
              "1                               1                   2                       2   \n",
              "2                               2                   1                       2   \n",
              "3                               2                   1                       2   \n",
              "4                               2                   0                       2   \n",
              "..                            ...                 ...                     ...   \n",
              "430                             1                   2                       2   \n",
              "431                             1                   1                       1   \n",
              "432                             2                   2                       2   \n",
              "433                             1                   2                       2   \n",
              "434                             1                   2                       2   \n",
              "\n",
              "     crime  duty-free-exports  export-administration-act-south-africa  \n",
              "0        2                  1                                       2  \n",
              "1        2                  1                                       0  \n",
              "2        2                  1                                       1  \n",
              "3        1                  1                                       2  \n",
              "4        2                  2                                       2  \n",
              "..     ...                ...                                     ...  \n",
              "430      2                  1                                       2  \n",
              "431      1                  1                                       2  \n",
              "432      2                  1                                       2  \n",
              "433      2                  1                                       2  \n",
              "434      2                  0                                       1  \n",
              "\n",
              "[435 rows x 17 columns]"
            ]
          },
          "metadata": {
            "tags": []
          },
          "execution_count": 69
        }
      ]
    },
    {
      "cell_type": "markdown",
      "metadata": {
        "id": "VXU-0ZgX44Ee"
      },
      "source": [
        "**Independent and Dependent features**"
      ]
    },
    {
      "cell_type": "code",
      "metadata": {
        "id": "zZM318Cr44Ee",
        "outputId": "3c1026d0-e117-442f-df44-5b9082150f18"
      },
      "source": [
        "columns = df.columns.tolist()\n",
        "# Filtering the columns to remove data we do not want \n",
        "columns = [c for c in columns if c not in [\"Class\"]]\n",
        "# Storing the variable we are predicting \n",
        "target = \"Class\"\n",
        "X = df[columns]\n",
        "Y = df[target]\n",
        "# Printing the shapes of X & Y\n",
        "print(X.shape)\n",
        "print(Y.shape)"
      ],
      "execution_count": null,
      "outputs": [
        {
          "output_type": "stream",
          "text": [
            "(435, 16)\n",
            "(435,)\n"
          ],
          "name": "stdout"
        }
      ]
    },
    {
      "cell_type": "markdown",
      "metadata": {
        "id": "wLDD0osn44Ef"
      },
      "source": [
        "### Implementation of KNN Algorithm against Congressional Voting Records dataset using tenfold cross validation."
      ]
    },
    {
      "cell_type": "code",
      "metadata": {
        "id": "FkmUBzHB44Eg",
        "outputId": "8b59bb4d-b982-4185-dcad-3a98cf0edb9c"
      },
      "source": [
        "from sklearn.neighbors import KNeighborsClassifier\n",
        "from sklearn.model_selection import cross_val_score\n",
        "import numpy as np\n",
        "#creating a new KNN model\n",
        "knn_cv = KNeighborsClassifier(n_neighbors= 5)\n",
        "#training our model with cv of 10 \n",
        "cross_val_scores = cross_val_score(knn_cv, X,Y, cv=10)\n",
        "#printing each cross validation score (accuracy) and finding the average of them\n",
        "print('knn_iris_cross_val_scores:{}'.format(cross_val_scores))\n",
        "knn_avg_accuracy2=np.mean(cross_val_scores)\n",
        "print('knn_model_congress_average_accuracy :{}'.format(np.mean(cross_val_scores)))"
      ],
      "execution_count": null,
      "outputs": [
        {
          "output_type": "stream",
          "text": [
            "knn_iris_cross_val_scores:[0.95454545 0.88636364 0.90909091 0.86363636 0.93181818 0.90697674\n",
            " 0.95348837 0.95348837 0.81395349 0.86046512]\n",
            "knn_model_congress_average_accuracy :0.90338266384778\n"
          ],
          "name": "stdout"
        }
      ]
    },
    {
      "cell_type": "markdown",
      "metadata": {
        "id": "gRq6lOEC44Eh"
      },
      "source": [
        "### Implementation of SVM Algorithm against Congressional Voting Records dataset using tenfold cross validation."
      ]
    },
    {
      "cell_type": "code",
      "metadata": {
        "id": "BQ_VSg7444Eh",
        "outputId": "1902779b-19c2-4f03-b3b2-490922d4f679"
      },
      "source": [
        "#creating a new svm model\n",
        "support_vector_classifier = SVC(gamma='auto')\n",
        "support_vector_classifier = SVC(gamma='scale')\n",
        "#training our model with cv of 10 \n",
        "svm_cross_val_scores = cross_val_score(support_vector_classifier, X, Y, cv=10)\n",
        "#printing cross validation scores\n",
        "print(svm_cross_val_scores)\n",
        "#printing the average of them\n",
        "svm_avg_score2 = np.mean(svm_cross_val_scores)\n",
        "print(svm_avg_score2)"
      ],
      "execution_count": null,
      "outputs": [
        {
          "output_type": "stream",
          "text": [
            "[0.97727273 0.93181818 0.95454545 0.97727273 0.97727273 0.93023256\n",
            " 1.         0.97674419 0.88372093 0.95348837]\n",
            "0.9562367864693446\n"
          ],
          "name": "stdout"
        }
      ]
    },
    {
      "cell_type": "markdown",
      "metadata": {
        "id": "ar-_3YXQ44Ek"
      },
      "source": [
        "### Implementation of Random Forest Algorithm against Congressional Voting Records dataset using tenfold cross validation."
      ]
    },
    {
      "cell_type": "code",
      "metadata": {
        "id": "dQ2K0j9b44Ek",
        "outputId": "e64f84d2-dc65-47ff-c3e5-a6951999fad4"
      },
      "source": [
        "from sklearn.ensemble import RandomForestClassifier\n",
        "from sklearn.model_selection import cross_val_score\n",
        "#creating a new model\n",
        "random_forest_classifier = RandomForestClassifier(n_jobs = -1, n_estimators=10,bootstrap= True, criterion='gini')\n",
        "#training our model with cv of 10 \n",
        "randomforest_cross_val_scores = cross_val_score(random_forest_classifier, X,Y, cv=10)\n",
        "#printing cross validation scores\n",
        "print(randomforest_cross_val_scores)\n",
        "#printing the average of them\n",
        "randomforest_avg_score2 = np.mean(randomforest_cross_val_scores)\n",
        "print(randomforest_avg_score2)"
      ],
      "execution_count": null,
      "outputs": [
        {
          "output_type": "stream",
          "text": [
            "[0.97727273 0.93181818 1.         0.97727273 0.97727273 0.90697674\n",
            " 1.         0.97674419 0.88372093 0.95348837]\n",
            "0.9584566596194504\n"
          ],
          "name": "stdout"
        }
      ]
    },
    {
      "cell_type": "code",
      "metadata": {
        "id": "h8JOd8J744Em",
        "outputId": "971418a3-20c7-428d-d8a0-413019ebec44"
      },
      "source": [
        "import pandas as pd\n",
        "import numpy as np\n",
        "#Importing the training data of labor negotiations\n",
        "df1 = pd.read_csv('labor-negotiations-train.csv')\n",
        "df1.head(10)"
      ],
      "execution_count": null,
      "outputs": [
        {
          "output_type": "execute_result",
          "data": {
            "text/html": [
              "<div>\n",
              "<style scoped>\n",
              "    .dataframe tbody tr th:only-of-type {\n",
              "        vertical-align: middle;\n",
              "    }\n",
              "\n",
              "    .dataframe tbody tr th {\n",
              "        vertical-align: top;\n",
              "    }\n",
              "\n",
              "    .dataframe thead th {\n",
              "        text-align: right;\n",
              "    }\n",
              "</style>\n",
              "<table border=\"1\" class=\"dataframe\">\n",
              "  <thead>\n",
              "    <tr style=\"text-align: right;\">\n",
              "      <th></th>\n",
              "      <th>dur</th>\n",
              "      <th>wage1</th>\n",
              "      <th>wage2</th>\n",
              "      <th>wage3</th>\n",
              "      <th>cola</th>\n",
              "      <th>hours</th>\n",
              "      <th>pension</th>\n",
              "      <th>stby_pay</th>\n",
              "      <th>shift_diff</th>\n",
              "      <th>educ_allw</th>\n",
              "      <th>holidays</th>\n",
              "      <th>vacation</th>\n",
              "      <th>Ingtrm_disabil</th>\n",
              "      <th>dntl_ins</th>\n",
              "      <th>bereavement</th>\n",
              "      <th>empl_hplan</th>\n",
              "      <th>Class</th>\n",
              "    </tr>\n",
              "  </thead>\n",
              "  <tbody>\n",
              "    <tr>\n",
              "      <td>0</td>\n",
              "      <td>1</td>\n",
              "      <td>5</td>\n",
              "      <td>?</td>\n",
              "      <td>?</td>\n",
              "      <td>?</td>\n",
              "      <td>40</td>\n",
              "      <td>?</td>\n",
              "      <td>?</td>\n",
              "      <td>2</td>\n",
              "      <td>?</td>\n",
              "      <td>11</td>\n",
              "      <td>average</td>\n",
              "      <td>?</td>\n",
              "      <td>?</td>\n",
              "      <td>yes</td>\n",
              "      <td>?</td>\n",
              "      <td>good</td>\n",
              "    </tr>\n",
              "    <tr>\n",
              "      <td>1</td>\n",
              "      <td>2</td>\n",
              "      <td>4.5</td>\n",
              "      <td>5.8</td>\n",
              "      <td>?</td>\n",
              "      <td>?</td>\n",
              "      <td>35</td>\n",
              "      <td>ret_allw</td>\n",
              "      <td>?</td>\n",
              "      <td>?</td>\n",
              "      <td>yes</td>\n",
              "      <td>11</td>\n",
              "      <td>below average</td>\n",
              "      <td>?</td>\n",
              "      <td>full</td>\n",
              "      <td>?</td>\n",
              "      <td>full</td>\n",
              "      <td>good</td>\n",
              "    </tr>\n",
              "    <tr>\n",
              "      <td>2</td>\n",
              "      <td>?</td>\n",
              "      <td>?</td>\n",
              "      <td>?</td>\n",
              "      <td>?</td>\n",
              "      <td>?</td>\n",
              "      <td>38</td>\n",
              "      <td>empl_contr</td>\n",
              "      <td>?</td>\n",
              "      <td>5</td>\n",
              "      <td>?</td>\n",
              "      <td>11</td>\n",
              "      <td>generous</td>\n",
              "      <td>yes</td>\n",
              "      <td>half</td>\n",
              "      <td>yes</td>\n",
              "      <td>half</td>\n",
              "      <td>good</td>\n",
              "    </tr>\n",
              "    <tr>\n",
              "      <td>3</td>\n",
              "      <td>3</td>\n",
              "      <td>3.7</td>\n",
              "      <td>4</td>\n",
              "      <td>5</td>\n",
              "      <td>tc</td>\n",
              "      <td>?</td>\n",
              "      <td>?</td>\n",
              "      <td>?</td>\n",
              "      <td>?</td>\n",
              "      <td>yes</td>\n",
              "      <td>?</td>\n",
              "      <td>?</td>\n",
              "      <td>?</td>\n",
              "      <td>?</td>\n",
              "      <td>yes</td>\n",
              "      <td>?</td>\n",
              "      <td>good</td>\n",
              "    </tr>\n",
              "    <tr>\n",
              "      <td>4</td>\n",
              "      <td>3</td>\n",
              "      <td>4.5</td>\n",
              "      <td>4.5</td>\n",
              "      <td>5</td>\n",
              "      <td>?</td>\n",
              "      <td>40</td>\n",
              "      <td>?</td>\n",
              "      <td>?</td>\n",
              "      <td>?</td>\n",
              "      <td>?</td>\n",
              "      <td>12</td>\n",
              "      <td>average</td>\n",
              "      <td>?</td>\n",
              "      <td>half</td>\n",
              "      <td>yes</td>\n",
              "      <td>half</td>\n",
              "      <td>good</td>\n",
              "    </tr>\n",
              "    <tr>\n",
              "      <td>5</td>\n",
              "      <td>2</td>\n",
              "      <td>2</td>\n",
              "      <td>2.5</td>\n",
              "      <td>?</td>\n",
              "      <td>?</td>\n",
              "      <td>35</td>\n",
              "      <td>?</td>\n",
              "      <td>?</td>\n",
              "      <td>6</td>\n",
              "      <td>yes</td>\n",
              "      <td>12</td>\n",
              "      <td>average</td>\n",
              "      <td>?</td>\n",
              "      <td>?</td>\n",
              "      <td>?</td>\n",
              "      <td>?</td>\n",
              "      <td>good</td>\n",
              "    </tr>\n",
              "    <tr>\n",
              "      <td>6</td>\n",
              "      <td>3</td>\n",
              "      <td>4</td>\n",
              "      <td>5</td>\n",
              "      <td>5</td>\n",
              "      <td>tc</td>\n",
              "      <td>?</td>\n",
              "      <td>empl_contr</td>\n",
              "      <td>?</td>\n",
              "      <td>?</td>\n",
              "      <td>?</td>\n",
              "      <td>12</td>\n",
              "      <td>generous</td>\n",
              "      <td>yes</td>\n",
              "      <td>none</td>\n",
              "      <td>yes</td>\n",
              "      <td>half</td>\n",
              "      <td>good</td>\n",
              "    </tr>\n",
              "    <tr>\n",
              "      <td>7</td>\n",
              "      <td>3</td>\n",
              "      <td>6.9</td>\n",
              "      <td>4.8</td>\n",
              "      <td>2.3</td>\n",
              "      <td>?</td>\n",
              "      <td>40</td>\n",
              "      <td>?</td>\n",
              "      <td>?</td>\n",
              "      <td>3</td>\n",
              "      <td>?</td>\n",
              "      <td>12</td>\n",
              "      <td>below average</td>\n",
              "      <td>?</td>\n",
              "      <td>?</td>\n",
              "      <td>?</td>\n",
              "      <td>?</td>\n",
              "      <td>good</td>\n",
              "    </tr>\n",
              "    <tr>\n",
              "      <td>8</td>\n",
              "      <td>2</td>\n",
              "      <td>3</td>\n",
              "      <td>7</td>\n",
              "      <td>?</td>\n",
              "      <td>?</td>\n",
              "      <td>38</td>\n",
              "      <td>?</td>\n",
              "      <td>12</td>\n",
              "      <td>25</td>\n",
              "      <td>yes</td>\n",
              "      <td>11</td>\n",
              "      <td>below average</td>\n",
              "      <td>yes</td>\n",
              "      <td>half</td>\n",
              "      <td>yes</td>\n",
              "      <td>?</td>\n",
              "      <td>good</td>\n",
              "    </tr>\n",
              "    <tr>\n",
              "      <td>9</td>\n",
              "      <td>1</td>\n",
              "      <td>5.7</td>\n",
              "      <td>?</td>\n",
              "      <td>?</td>\n",
              "      <td>none</td>\n",
              "      <td>40</td>\n",
              "      <td>empl_contr</td>\n",
              "      <td>?</td>\n",
              "      <td>4</td>\n",
              "      <td>?</td>\n",
              "      <td>11</td>\n",
              "      <td>generous</td>\n",
              "      <td>yes</td>\n",
              "      <td>full</td>\n",
              "      <td>?</td>\n",
              "      <td>?</td>\n",
              "      <td>good</td>\n",
              "    </tr>\n",
              "  </tbody>\n",
              "</table>\n",
              "</div>"
            ],
            "text/plain": [
              "  dur wage1 wage2 wage3  cola hours     pension stby_pay shift_diff educ_allw  \\\n",
              "0   1     5     ?     ?     ?    40           ?        ?          2         ?   \n",
              "1   2   4.5   5.8     ?     ?    35    ret_allw        ?          ?       yes   \n",
              "2   ?     ?     ?     ?     ?    38  empl_contr        ?          5         ?   \n",
              "3   3   3.7     4     5    tc     ?           ?        ?          ?       yes   \n",
              "4   3   4.5   4.5     5     ?    40           ?        ?          ?         ?   \n",
              "5   2     2   2.5     ?     ?    35           ?        ?          6       yes   \n",
              "6   3     4     5     5    tc     ?  empl_contr        ?          ?         ?   \n",
              "7   3   6.9   4.8   2.3     ?    40           ?        ?          3         ?   \n",
              "8   2     3     7     ?     ?    38           ?       12         25       yes   \n",
              "9   1   5.7     ?     ?  none    40  empl_contr        ?          4         ?   \n",
              "\n",
              "  holidays       vacation Ingtrm_disabil dntl_ins bereavement empl_hplan Class  \n",
              "0       11        average              ?        ?         yes          ?  good  \n",
              "1       11  below average              ?     full           ?       full  good  \n",
              "2       11       generous            yes     half         yes       half  good  \n",
              "3        ?              ?              ?        ?         yes          ?  good  \n",
              "4       12        average              ?     half         yes       half  good  \n",
              "5       12        average              ?        ?           ?          ?  good  \n",
              "6       12       generous            yes     none         yes       half  good  \n",
              "7       12  below average              ?        ?           ?          ?  good  \n",
              "8       11  below average            yes     half         yes          ?  good  \n",
              "9       11       generous            yes     full           ?          ?  good  "
            ]
          },
          "metadata": {
            "tags": []
          },
          "execution_count": 74
        }
      ]
    },
    {
      "cell_type": "code",
      "metadata": {
        "id": "Ixrxv8bD44Ep",
        "outputId": "ef39815b-a105-41ac-be43-3ff6937b68e1"
      },
      "source": [
        "#Importing the testing data of labor negotiations\n",
        "df2 = pd.read_csv('labor-negotiations-test.csv')\n",
        "df2.head(10)"
      ],
      "execution_count": null,
      "outputs": [
        {
          "output_type": "execute_result",
          "data": {
            "text/html": [
              "<div>\n",
              "<style scoped>\n",
              "    .dataframe tbody tr th:only-of-type {\n",
              "        vertical-align: middle;\n",
              "    }\n",
              "\n",
              "    .dataframe tbody tr th {\n",
              "        vertical-align: top;\n",
              "    }\n",
              "\n",
              "    .dataframe thead th {\n",
              "        text-align: right;\n",
              "    }\n",
              "</style>\n",
              "<table border=\"1\" class=\"dataframe\">\n",
              "  <thead>\n",
              "    <tr style=\"text-align: right;\">\n",
              "      <th></th>\n",
              "      <th>dur</th>\n",
              "      <th>wage1</th>\n",
              "      <th>wage2</th>\n",
              "      <th>wage3</th>\n",
              "      <th>cola</th>\n",
              "      <th>hours</th>\n",
              "      <th>pension</th>\n",
              "      <th>stby_pay</th>\n",
              "      <th>shift_diff</th>\n",
              "      <th>educ_allw</th>\n",
              "      <th>holidays</th>\n",
              "      <th>vacation</th>\n",
              "      <th>Ingtrm_disabil</th>\n",
              "      <th>dntl_ins</th>\n",
              "      <th>bereavement</th>\n",
              "      <th>empl_hplan</th>\n",
              "      <th>Class</th>\n",
              "    </tr>\n",
              "  </thead>\n",
              "  <tbody>\n",
              "    <tr>\n",
              "      <td>0</td>\n",
              "      <td>1</td>\n",
              "      <td>4.0</td>\n",
              "      <td>?</td>\n",
              "      <td>?</td>\n",
              "      <td>none</td>\n",
              "      <td>?</td>\n",
              "      <td>none</td>\n",
              "      <td>?</td>\n",
              "      <td>?</td>\n",
              "      <td>yes</td>\n",
              "      <td>11</td>\n",
              "      <td>average</td>\n",
              "      <td>no</td>\n",
              "      <td>none</td>\n",
              "      <td>no</td>\n",
              "      <td>none</td>\n",
              "      <td>bad</td>\n",
              "    </tr>\n",
              "    <tr>\n",
              "      <td>1</td>\n",
              "      <td>2</td>\n",
              "      <td>2.0</td>\n",
              "      <td>3</td>\n",
              "      <td>?</td>\n",
              "      <td>none</td>\n",
              "      <td>38</td>\n",
              "      <td>empl_contr</td>\n",
              "      <td>?</td>\n",
              "      <td>?</td>\n",
              "      <td>yes</td>\n",
              "      <td>12</td>\n",
              "      <td>generous</td>\n",
              "      <td>yes</td>\n",
              "      <td>none</td>\n",
              "      <td>yes</td>\n",
              "      <td>full</td>\n",
              "      <td>bad</td>\n",
              "    </tr>\n",
              "    <tr>\n",
              "      <td>2</td>\n",
              "      <td>2</td>\n",
              "      <td>2.5</td>\n",
              "      <td>2.5</td>\n",
              "      <td>?</td>\n",
              "      <td>tc</td>\n",
              "      <td>39</td>\n",
              "      <td>empl_contr</td>\n",
              "      <td>?</td>\n",
              "      <td>?</td>\n",
              "      <td>?</td>\n",
              "      <td>12</td>\n",
              "      <td>average</td>\n",
              "      <td>?</td>\n",
              "      <td>?</td>\n",
              "      <td>yes</td>\n",
              "      <td>?</td>\n",
              "      <td>bad</td>\n",
              "    </tr>\n",
              "    <tr>\n",
              "      <td>3</td>\n",
              "      <td>2</td>\n",
              "      <td>2.5</td>\n",
              "      <td>3</td>\n",
              "      <td>?</td>\n",
              "      <td>tcf</td>\n",
              "      <td>40</td>\n",
              "      <td>none</td>\n",
              "      <td>?</td>\n",
              "      <td>?</td>\n",
              "      <td>?</td>\n",
              "      <td>11</td>\n",
              "      <td>below average</td>\n",
              "      <td>?</td>\n",
              "      <td>?</td>\n",
              "      <td>yes</td>\n",
              "      <td>?</td>\n",
              "      <td>bad</td>\n",
              "    </tr>\n",
              "    <tr>\n",
              "      <td>4</td>\n",
              "      <td>2</td>\n",
              "      <td>4.0</td>\n",
              "      <td>4</td>\n",
              "      <td>?</td>\n",
              "      <td>none</td>\n",
              "      <td>40</td>\n",
              "      <td>none</td>\n",
              "      <td>?</td>\n",
              "      <td>3</td>\n",
              "      <td>?</td>\n",
              "      <td>10</td>\n",
              "      <td>below average</td>\n",
              "      <td>no</td>\n",
              "      <td>none</td>\n",
              "      <td>?</td>\n",
              "      <td>none</td>\n",
              "      <td>bad</td>\n",
              "    </tr>\n",
              "    <tr>\n",
              "      <td>5</td>\n",
              "      <td>2</td>\n",
              "      <td>4.5</td>\n",
              "      <td>4</td>\n",
              "      <td>?</td>\n",
              "      <td>?</td>\n",
              "      <td>40</td>\n",
              "      <td>?</td>\n",
              "      <td>?</td>\n",
              "      <td>2</td>\n",
              "      <td>no</td>\n",
              "      <td>10</td>\n",
              "      <td>below average</td>\n",
              "      <td>no</td>\n",
              "      <td>half</td>\n",
              "      <td>?</td>\n",
              "      <td>half</td>\n",
              "      <td>bad</td>\n",
              "    </tr>\n",
              "    <tr>\n",
              "      <td>6</td>\n",
              "      <td>2</td>\n",
              "      <td>4.5</td>\n",
              "      <td>4</td>\n",
              "      <td>?</td>\n",
              "      <td>none</td>\n",
              "      <td>40</td>\n",
              "      <td>?</td>\n",
              "      <td>?</td>\n",
              "      <td>5</td>\n",
              "      <td>?</td>\n",
              "      <td>11</td>\n",
              "      <td>average</td>\n",
              "      <td>?</td>\n",
              "      <td>full</td>\n",
              "      <td>yes</td>\n",
              "      <td>full</td>\n",
              "      <td>good</td>\n",
              "    </tr>\n",
              "    <tr>\n",
              "      <td>7</td>\n",
              "      <td>2</td>\n",
              "      <td>4.6</td>\n",
              "      <td>4.6</td>\n",
              "      <td>?</td>\n",
              "      <td>tcf</td>\n",
              "      <td>38</td>\n",
              "      <td>?</td>\n",
              "      <td>?</td>\n",
              "      <td>?</td>\n",
              "      <td>?</td>\n",
              "      <td>?</td>\n",
              "      <td>?</td>\n",
              "      <td>yes</td>\n",
              "      <td>half</td>\n",
              "      <td>?</td>\n",
              "      <td>half</td>\n",
              "      <td>good</td>\n",
              "    </tr>\n",
              "    <tr>\n",
              "      <td>8</td>\n",
              "      <td>2</td>\n",
              "      <td>5.0</td>\n",
              "      <td>4.5</td>\n",
              "      <td>?</td>\n",
              "      <td>none</td>\n",
              "      <td>38</td>\n",
              "      <td>?</td>\n",
              "      <td>14</td>\n",
              "      <td>5</td>\n",
              "      <td>?</td>\n",
              "      <td>11</td>\n",
              "      <td>below average</td>\n",
              "      <td>yes</td>\n",
              "      <td>?</td>\n",
              "      <td>?</td>\n",
              "      <td>full</td>\n",
              "      <td>good</td>\n",
              "    </tr>\n",
              "    <tr>\n",
              "      <td>9</td>\n",
              "      <td>2</td>\n",
              "      <td>5.7</td>\n",
              "      <td>4.5</td>\n",
              "      <td>?</td>\n",
              "      <td>none</td>\n",
              "      <td>40</td>\n",
              "      <td>ret_allw</td>\n",
              "      <td>?</td>\n",
              "      <td>?</td>\n",
              "      <td>?</td>\n",
              "      <td>11</td>\n",
              "      <td>average</td>\n",
              "      <td>yes</td>\n",
              "      <td>full</td>\n",
              "      <td>yes</td>\n",
              "      <td>full</td>\n",
              "      <td>good</td>\n",
              "    </tr>\n",
              "  </tbody>\n",
              "</table>\n",
              "</div>"
            ],
            "text/plain": [
              "   dur  wage1 wage2 wage3  cola hours     pension stby_pay shift_diff  \\\n",
              "0    1    4.0     ?     ?  none     ?        none        ?          ?   \n",
              "1    2    2.0     3     ?  none    38  empl_contr        ?          ?   \n",
              "2    2    2.5   2.5     ?    tc    39  empl_contr        ?          ?   \n",
              "3    2    2.5     3     ?   tcf    40        none        ?          ?   \n",
              "4    2    4.0     4     ?  none    40        none        ?          3   \n",
              "5    2    4.5     4     ?     ?    40           ?        ?          2   \n",
              "6    2    4.5     4     ?  none    40           ?        ?          5   \n",
              "7    2    4.6   4.6     ?   tcf    38           ?        ?          ?   \n",
              "8    2    5.0   4.5     ?  none    38           ?       14          5   \n",
              "9    2    5.7   4.5     ?  none    40    ret_allw        ?          ?   \n",
              "\n",
              "  educ_allw holidays       vacation Ingtrm_disabil dntl_ins bereavement  \\\n",
              "0       yes       11        average             no     none          no   \n",
              "1       yes       12       generous            yes     none         yes   \n",
              "2         ?       12        average              ?        ?         yes   \n",
              "3         ?       11  below average              ?        ?         yes   \n",
              "4         ?       10  below average             no     none           ?   \n",
              "5        no       10  below average             no     half           ?   \n",
              "6         ?       11        average              ?     full         yes   \n",
              "7         ?        ?              ?            yes     half           ?   \n",
              "8         ?       11  below average            yes        ?           ?   \n",
              "9         ?       11        average            yes     full         yes   \n",
              "\n",
              "  empl_hplan Class  \n",
              "0       none   bad  \n",
              "1       full   bad  \n",
              "2          ?   bad  \n",
              "3          ?   bad  \n",
              "4       none   bad  \n",
              "5       half   bad  \n",
              "6       full  good  \n",
              "7       half  good  \n",
              "8       full  good  \n",
              "9       full  good  "
            ]
          },
          "metadata": {
            "tags": []
          },
          "execution_count": 75
        }
      ]
    },
    {
      "cell_type": "code",
      "metadata": {
        "id": "8dgeB0L_44Er",
        "outputId": "14cdfc8f-711b-4d43-fddf-3b3810d39f82"
      },
      "source": [
        "#Appending df1 to df to training and testing data into a single dataset\n",
        "df3 = df1.append(df2,ignore_index = True)\n",
        "df3.shape"
      ],
      "execution_count": null,
      "outputs": [
        {
          "output_type": "execute_result",
          "data": {
            "text/plain": [
              "(57, 17)"
            ]
          },
          "metadata": {
            "tags": []
          },
          "execution_count": 76
        }
      ]
    },
    {
      "cell_type": "code",
      "metadata": {
        "id": "yntidMdf44Eu",
        "outputId": "3014041e-b83c-43f9-a9a8-9689275e3bd0"
      },
      "source": [
        "#Removing the spaces between the column headings on both sides\n",
        "df3.columns.str.strip()"
      ],
      "execution_count": null,
      "outputs": [
        {
          "output_type": "execute_result",
          "data": {
            "text/plain": [
              "Index(['dur', 'wage1', 'wage2', 'wage3', 'cola', 'hours', 'pension',\n",
              "       'stby_pay', 'shift_diff', 'educ_allw', 'holidays', 'vacation',\n",
              "       'Ingtrm_disabil', 'dntl_ins', 'bereavement', 'empl_hplan', 'Class'],\n",
              "      dtype='object')"
            ]
          },
          "metadata": {
            "tags": []
          },
          "execution_count": 77
        }
      ]
    },
    {
      "cell_type": "code",
      "metadata": {
        "id": "wvwfDaIt44E5",
        "outputId": "c0863c4f-5bbd-423f-ddee-fd98ab0458d2"
      },
      "source": [
        "df3.columns"
      ],
      "execution_count": null,
      "outputs": [
        {
          "output_type": "execute_result",
          "data": {
            "text/plain": [
              "Index(['dur', 'wage1', 'wage2', 'wage3', 'cola', 'hours', 'pension',\n",
              "       'stby_pay', 'shift_diff', 'educ_allw', 'holidays', 'vacation',\n",
              "       'Ingtrm_disabil', 'dntl_ins', 'bereavement', 'empl_hplan', 'Class'],\n",
              "      dtype='object')"
            ]
          },
          "metadata": {
            "tags": []
          },
          "execution_count": 78
        }
      ]
    },
    {
      "cell_type": "code",
      "metadata": {
        "id": "DMy_GBVg44E9"
      },
      "source": [
        "#Counting the number of '?' in each column\n",
        "missing_value_count_in_column = (df3[['dur', 'wage1', 'wage2', 'wage3', 'cola', 'hours', 'pension',\n",
        "       'stby_pay', 'shift_diff', 'educ_allw', 'holidays', 'vacation',\n",
        "       'Ingtrm_disabil', 'dntl_ins', 'bereavement', 'empl_hplan', 'Class']] == '?').sum()"
      ],
      "execution_count": null,
      "outputs": []
    },
    {
      "cell_type": "code",
      "metadata": {
        "id": "gK9u5hdz44FB",
        "outputId": "16710a80-cddc-47be-b092-b8becf40f4e1"
      },
      "source": [
        "print(missing_value_count_in_column )"
      ],
      "execution_count": null,
      "outputs": [
        {
          "output_type": "stream",
          "text": [
            "dur                1\n",
            "wage1              1\n",
            "wage2             11\n",
            "wage3             42\n",
            "cola              20\n",
            "hours              6\n",
            "pension           30\n",
            "stby_pay          48\n",
            "shift_diff        26\n",
            "educ_allw         35\n",
            "holidays           4\n",
            "vacation           6\n",
            "Ingtrm_disabil    29\n",
            "dntl_ins          20\n",
            "bereavement       27\n",
            "empl_hplan        20\n",
            "Class              0\n",
            "dtype: int64\n"
          ],
          "name": "stdout"
        }
      ]
    },
    {
      "cell_type": "code",
      "metadata": {
        "id": "rM8kChrR44FE",
        "outputId": "a22aaccc-662b-4ac9-c1c5-b3e402051fd8"
      },
      "source": [
        "# From the above output we can see that there are many missing values in some columns\n",
        "#Printing the columns whose missing value count > 20\n",
        "print(missing_value_count_in_column[missing_value_count_in_column > 20] )"
      ],
      "execution_count": null,
      "outputs": [
        {
          "output_type": "stream",
          "text": [
            "wage3             42\n",
            "pension           30\n",
            "stby_pay          48\n",
            "shift_diff        26\n",
            "educ_allw         35\n",
            "Ingtrm_disabil    29\n",
            "bereavement       27\n",
            "dtype: int64\n"
          ],
          "name": "stdout"
        }
      ]
    },
    {
      "cell_type": "code",
      "metadata": {
        "id": "CxCB_o_x44FH",
        "outputId": "ccd063b5-5000-418f-e1d4-7903d4eb8a98"
      },
      "source": [
        "# Removing the columns whose count of missing values > 20 beacause those are not helpful in predicting the class\n",
        "df3 = df3.drop(columns = ['wage3','pension','stby_pay','shift_diff','educ_allw','Ingtrm_disabil','bereavement'])\n",
        "df3.head(10)"
      ],
      "execution_count": null,
      "outputs": [
        {
          "output_type": "execute_result",
          "data": {
            "text/html": [
              "<div>\n",
              "<style scoped>\n",
              "    .dataframe tbody tr th:only-of-type {\n",
              "        vertical-align: middle;\n",
              "    }\n",
              "\n",
              "    .dataframe tbody tr th {\n",
              "        vertical-align: top;\n",
              "    }\n",
              "\n",
              "    .dataframe thead th {\n",
              "        text-align: right;\n",
              "    }\n",
              "</style>\n",
              "<table border=\"1\" class=\"dataframe\">\n",
              "  <thead>\n",
              "    <tr style=\"text-align: right;\">\n",
              "      <th></th>\n",
              "      <th>dur</th>\n",
              "      <th>wage1</th>\n",
              "      <th>wage2</th>\n",
              "      <th>cola</th>\n",
              "      <th>hours</th>\n",
              "      <th>holidays</th>\n",
              "      <th>vacation</th>\n",
              "      <th>dntl_ins</th>\n",
              "      <th>empl_hplan</th>\n",
              "      <th>Class</th>\n",
              "    </tr>\n",
              "  </thead>\n",
              "  <tbody>\n",
              "    <tr>\n",
              "      <td>0</td>\n",
              "      <td>1</td>\n",
              "      <td>5</td>\n",
              "      <td>?</td>\n",
              "      <td>?</td>\n",
              "      <td>40</td>\n",
              "      <td>11</td>\n",
              "      <td>average</td>\n",
              "      <td>?</td>\n",
              "      <td>?</td>\n",
              "      <td>good</td>\n",
              "    </tr>\n",
              "    <tr>\n",
              "      <td>1</td>\n",
              "      <td>2</td>\n",
              "      <td>4.5</td>\n",
              "      <td>5.8</td>\n",
              "      <td>?</td>\n",
              "      <td>35</td>\n",
              "      <td>11</td>\n",
              "      <td>below average</td>\n",
              "      <td>full</td>\n",
              "      <td>full</td>\n",
              "      <td>good</td>\n",
              "    </tr>\n",
              "    <tr>\n",
              "      <td>2</td>\n",
              "      <td>?</td>\n",
              "      <td>?</td>\n",
              "      <td>?</td>\n",
              "      <td>?</td>\n",
              "      <td>38</td>\n",
              "      <td>11</td>\n",
              "      <td>generous</td>\n",
              "      <td>half</td>\n",
              "      <td>half</td>\n",
              "      <td>good</td>\n",
              "    </tr>\n",
              "    <tr>\n",
              "      <td>3</td>\n",
              "      <td>3</td>\n",
              "      <td>3.7</td>\n",
              "      <td>4</td>\n",
              "      <td>tc</td>\n",
              "      <td>?</td>\n",
              "      <td>?</td>\n",
              "      <td>?</td>\n",
              "      <td>?</td>\n",
              "      <td>?</td>\n",
              "      <td>good</td>\n",
              "    </tr>\n",
              "    <tr>\n",
              "      <td>4</td>\n",
              "      <td>3</td>\n",
              "      <td>4.5</td>\n",
              "      <td>4.5</td>\n",
              "      <td>?</td>\n",
              "      <td>40</td>\n",
              "      <td>12</td>\n",
              "      <td>average</td>\n",
              "      <td>half</td>\n",
              "      <td>half</td>\n",
              "      <td>good</td>\n",
              "    </tr>\n",
              "    <tr>\n",
              "      <td>5</td>\n",
              "      <td>2</td>\n",
              "      <td>2</td>\n",
              "      <td>2.5</td>\n",
              "      <td>?</td>\n",
              "      <td>35</td>\n",
              "      <td>12</td>\n",
              "      <td>average</td>\n",
              "      <td>?</td>\n",
              "      <td>?</td>\n",
              "      <td>good</td>\n",
              "    </tr>\n",
              "    <tr>\n",
              "      <td>6</td>\n",
              "      <td>3</td>\n",
              "      <td>4</td>\n",
              "      <td>5</td>\n",
              "      <td>tc</td>\n",
              "      <td>?</td>\n",
              "      <td>12</td>\n",
              "      <td>generous</td>\n",
              "      <td>none</td>\n",
              "      <td>half</td>\n",
              "      <td>good</td>\n",
              "    </tr>\n",
              "    <tr>\n",
              "      <td>7</td>\n",
              "      <td>3</td>\n",
              "      <td>6.9</td>\n",
              "      <td>4.8</td>\n",
              "      <td>?</td>\n",
              "      <td>40</td>\n",
              "      <td>12</td>\n",
              "      <td>below average</td>\n",
              "      <td>?</td>\n",
              "      <td>?</td>\n",
              "      <td>good</td>\n",
              "    </tr>\n",
              "    <tr>\n",
              "      <td>8</td>\n",
              "      <td>2</td>\n",
              "      <td>3</td>\n",
              "      <td>7</td>\n",
              "      <td>?</td>\n",
              "      <td>38</td>\n",
              "      <td>11</td>\n",
              "      <td>below average</td>\n",
              "      <td>half</td>\n",
              "      <td>?</td>\n",
              "      <td>good</td>\n",
              "    </tr>\n",
              "    <tr>\n",
              "      <td>9</td>\n",
              "      <td>1</td>\n",
              "      <td>5.7</td>\n",
              "      <td>?</td>\n",
              "      <td>none</td>\n",
              "      <td>40</td>\n",
              "      <td>11</td>\n",
              "      <td>generous</td>\n",
              "      <td>full</td>\n",
              "      <td>?</td>\n",
              "      <td>good</td>\n",
              "    </tr>\n",
              "  </tbody>\n",
              "</table>\n",
              "</div>"
            ],
            "text/plain": [
              "  dur wage1 wage2  cola hours holidays       vacation dntl_ins empl_hplan  \\\n",
              "0   1     5     ?     ?    40       11        average        ?          ?   \n",
              "1   2   4.5   5.8     ?    35       11  below average     full       full   \n",
              "2   ?     ?     ?     ?    38       11       generous     half       half   \n",
              "3   3   3.7     4    tc     ?        ?              ?        ?          ?   \n",
              "4   3   4.5   4.5     ?    40       12        average     half       half   \n",
              "5   2     2   2.5     ?    35       12        average        ?          ?   \n",
              "6   3     4     5    tc     ?       12       generous     none       half   \n",
              "7   3   6.9   4.8     ?    40       12  below average        ?          ?   \n",
              "8   2     3     7     ?    38       11  below average     half          ?   \n",
              "9   1   5.7     ?  none    40       11       generous     full          ?   \n",
              "\n",
              "  Class  \n",
              "0  good  \n",
              "1  good  \n",
              "2  good  \n",
              "3  good  \n",
              "4  good  \n",
              "5  good  \n",
              "6  good  \n",
              "7  good  \n",
              "8  good  \n",
              "9  good  "
            ]
          },
          "metadata": {
            "tags": []
          },
          "execution_count": 82
        }
      ]
    },
    {
      "cell_type": "code",
      "metadata": {
        "id": "rEXXMNxr44FK",
        "outputId": "fc4bff32-c00e-4bf8-fd76-cf58c5f20f2d"
      },
      "source": [
        "#Now,I am replacing the numerical columns missing data with their nan.\n",
        "from numpy import nan\n",
        "df3 = df3.replace('?',np.nan)\n",
        "df3.head(10)"
      ],
      "execution_count": null,
      "outputs": [
        {
          "output_type": "execute_result",
          "data": {
            "text/html": [
              "<div>\n",
              "<style scoped>\n",
              "    .dataframe tbody tr th:only-of-type {\n",
              "        vertical-align: middle;\n",
              "    }\n",
              "\n",
              "    .dataframe tbody tr th {\n",
              "        vertical-align: top;\n",
              "    }\n",
              "\n",
              "    .dataframe thead th {\n",
              "        text-align: right;\n",
              "    }\n",
              "</style>\n",
              "<table border=\"1\" class=\"dataframe\">\n",
              "  <thead>\n",
              "    <tr style=\"text-align: right;\">\n",
              "      <th></th>\n",
              "      <th>dur</th>\n",
              "      <th>wage1</th>\n",
              "      <th>wage2</th>\n",
              "      <th>cola</th>\n",
              "      <th>hours</th>\n",
              "      <th>holidays</th>\n",
              "      <th>vacation</th>\n",
              "      <th>dntl_ins</th>\n",
              "      <th>empl_hplan</th>\n",
              "      <th>Class</th>\n",
              "    </tr>\n",
              "  </thead>\n",
              "  <tbody>\n",
              "    <tr>\n",
              "      <td>0</td>\n",
              "      <td>1</td>\n",
              "      <td>5</td>\n",
              "      <td>NaN</td>\n",
              "      <td>NaN</td>\n",
              "      <td>40</td>\n",
              "      <td>11</td>\n",
              "      <td>average</td>\n",
              "      <td>NaN</td>\n",
              "      <td>NaN</td>\n",
              "      <td>good</td>\n",
              "    </tr>\n",
              "    <tr>\n",
              "      <td>1</td>\n",
              "      <td>2</td>\n",
              "      <td>4.5</td>\n",
              "      <td>5.8</td>\n",
              "      <td>NaN</td>\n",
              "      <td>35</td>\n",
              "      <td>11</td>\n",
              "      <td>below average</td>\n",
              "      <td>full</td>\n",
              "      <td>full</td>\n",
              "      <td>good</td>\n",
              "    </tr>\n",
              "    <tr>\n",
              "      <td>2</td>\n",
              "      <td>NaN</td>\n",
              "      <td>NaN</td>\n",
              "      <td>NaN</td>\n",
              "      <td>NaN</td>\n",
              "      <td>38</td>\n",
              "      <td>11</td>\n",
              "      <td>generous</td>\n",
              "      <td>half</td>\n",
              "      <td>half</td>\n",
              "      <td>good</td>\n",
              "    </tr>\n",
              "    <tr>\n",
              "      <td>3</td>\n",
              "      <td>3</td>\n",
              "      <td>3.7</td>\n",
              "      <td>4</td>\n",
              "      <td>tc</td>\n",
              "      <td>NaN</td>\n",
              "      <td>NaN</td>\n",
              "      <td>NaN</td>\n",
              "      <td>NaN</td>\n",
              "      <td>NaN</td>\n",
              "      <td>good</td>\n",
              "    </tr>\n",
              "    <tr>\n",
              "      <td>4</td>\n",
              "      <td>3</td>\n",
              "      <td>4.5</td>\n",
              "      <td>4.5</td>\n",
              "      <td>NaN</td>\n",
              "      <td>40</td>\n",
              "      <td>12</td>\n",
              "      <td>average</td>\n",
              "      <td>half</td>\n",
              "      <td>half</td>\n",
              "      <td>good</td>\n",
              "    </tr>\n",
              "    <tr>\n",
              "      <td>5</td>\n",
              "      <td>2</td>\n",
              "      <td>2</td>\n",
              "      <td>2.5</td>\n",
              "      <td>NaN</td>\n",
              "      <td>35</td>\n",
              "      <td>12</td>\n",
              "      <td>average</td>\n",
              "      <td>NaN</td>\n",
              "      <td>NaN</td>\n",
              "      <td>good</td>\n",
              "    </tr>\n",
              "    <tr>\n",
              "      <td>6</td>\n",
              "      <td>3</td>\n",
              "      <td>4</td>\n",
              "      <td>5</td>\n",
              "      <td>tc</td>\n",
              "      <td>NaN</td>\n",
              "      <td>12</td>\n",
              "      <td>generous</td>\n",
              "      <td>none</td>\n",
              "      <td>half</td>\n",
              "      <td>good</td>\n",
              "    </tr>\n",
              "    <tr>\n",
              "      <td>7</td>\n",
              "      <td>3</td>\n",
              "      <td>6.9</td>\n",
              "      <td>4.8</td>\n",
              "      <td>NaN</td>\n",
              "      <td>40</td>\n",
              "      <td>12</td>\n",
              "      <td>below average</td>\n",
              "      <td>NaN</td>\n",
              "      <td>NaN</td>\n",
              "      <td>good</td>\n",
              "    </tr>\n",
              "    <tr>\n",
              "      <td>8</td>\n",
              "      <td>2</td>\n",
              "      <td>3</td>\n",
              "      <td>7</td>\n",
              "      <td>NaN</td>\n",
              "      <td>38</td>\n",
              "      <td>11</td>\n",
              "      <td>below average</td>\n",
              "      <td>half</td>\n",
              "      <td>NaN</td>\n",
              "      <td>good</td>\n",
              "    </tr>\n",
              "    <tr>\n",
              "      <td>9</td>\n",
              "      <td>1</td>\n",
              "      <td>5.7</td>\n",
              "      <td>NaN</td>\n",
              "      <td>none</td>\n",
              "      <td>40</td>\n",
              "      <td>11</td>\n",
              "      <td>generous</td>\n",
              "      <td>full</td>\n",
              "      <td>NaN</td>\n",
              "      <td>good</td>\n",
              "    </tr>\n",
              "  </tbody>\n",
              "</table>\n",
              "</div>"
            ],
            "text/plain": [
              "   dur wage1 wage2  cola hours holidays       vacation dntl_ins empl_hplan  \\\n",
              "0    1     5   NaN   NaN    40       11        average      NaN        NaN   \n",
              "1    2   4.5   5.8   NaN    35       11  below average     full       full   \n",
              "2  NaN   NaN   NaN   NaN    38       11       generous     half       half   \n",
              "3    3   3.7     4    tc   NaN      NaN            NaN      NaN        NaN   \n",
              "4    3   4.5   4.5   NaN    40       12        average     half       half   \n",
              "5    2     2   2.5   NaN    35       12        average      NaN        NaN   \n",
              "6    3     4     5    tc   NaN       12       generous     none       half   \n",
              "7    3   6.9   4.8   NaN    40       12  below average      NaN        NaN   \n",
              "8    2     3     7   NaN    38       11  below average     half        NaN   \n",
              "9    1   5.7   NaN  none    40       11       generous     full        NaN   \n",
              "\n",
              "  Class  \n",
              "0  good  \n",
              "1  good  \n",
              "2  good  \n",
              "3  good  \n",
              "4  good  \n",
              "5  good  \n",
              "6  good  \n",
              "7  good  \n",
              "8  good  \n",
              "9  good  "
            ]
          },
          "metadata": {
            "tags": []
          },
          "execution_count": 83
        }
      ]
    },
    {
      "cell_type": "code",
      "metadata": {
        "id": "lvRe5V0c44FL",
        "outputId": "e757ebe9-3406-4b0c-a76d-75535e41078a"
      },
      "source": [
        "#Label Encoding Categorical Columns\n",
        "from sklearn import preprocessing\n",
        "from sklearn.preprocessing import LabelEncoder\n",
        "def label_encode(df3,feature_to_encode):\n",
        "    label_encoder = preprocessing.LabelEncoder()\n",
        "    df3[feature_to_encode]= label_encoder.fit_transform(df3[feature_to_encode].astype(str))\n",
        "    return(df3)\n",
        "\n",
        "feature_to_encode = ['cola','vacation','dntl_ins','empl_hplan','Class']\n",
        "for feature in feature_to_encode:\n",
        "    df3 = label_encode(df3,feature)\n",
        "print(df3.head(10))"
      ],
      "execution_count": null,
      "outputs": [
        {
          "output_type": "stream",
          "text": [
            "   dur wage1 wage2  cola hours holidays  vacation  dntl_ins  empl_hplan  Class\n",
            "0    1     5   NaN     0    40       11         0         2           2      1\n",
            "1    2   4.5   5.8     0    35       11         1         0           0      1\n",
            "2  NaN   NaN   NaN     0    38       11         2         1           1      1\n",
            "3    3   3.7     4     2   NaN      NaN         3         2           2      1\n",
            "4    3   4.5   4.5     0    40       12         0         1           1      1\n",
            "5    2     2   2.5     0    35       12         0         2           2      1\n",
            "6    3     4     5     2   NaN       12         2         3           1      1\n",
            "7    3   6.9   4.8     0    40       12         1         2           2      1\n",
            "8    2     3     7     0    38       11         1         1           2      1\n",
            "9    1   5.7   NaN     1    40       11         2         0           2      1\n"
          ],
          "name": "stdout"
        }
      ]
    },
    {
      "cell_type": "code",
      "metadata": {
        "id": "1MVHFVkx44FO",
        "outputId": "d5f1c2c8-351c-44a0-d978-c783f816ee09"
      },
      "source": [
        "# Converting the datatype from object datatype to float for Computation purpose.\n",
        "df3['wage1'] = df3.wage1.astype(float)\n",
        "#Using backward fill method to fill all the \"NaN\" values\n",
        "df3 = df3.fillna(method='bfill')\n",
        "df3['wage2'] = df3.wage2.astype(float)\n",
        "df3.dtypes\n",
        "df3"
      ],
      "execution_count": null,
      "outputs": [
        {
          "output_type": "execute_result",
          "data": {
            "text/html": [
              "<div>\n",
              "<style scoped>\n",
              "    .dataframe tbody tr th:only-of-type {\n",
              "        vertical-align: middle;\n",
              "    }\n",
              "\n",
              "    .dataframe tbody tr th {\n",
              "        vertical-align: top;\n",
              "    }\n",
              "\n",
              "    .dataframe thead th {\n",
              "        text-align: right;\n",
              "    }\n",
              "</style>\n",
              "<table border=\"1\" class=\"dataframe\">\n",
              "  <thead>\n",
              "    <tr style=\"text-align: right;\">\n",
              "      <th></th>\n",
              "      <th>dur</th>\n",
              "      <th>wage1</th>\n",
              "      <th>wage2</th>\n",
              "      <th>cola</th>\n",
              "      <th>hours</th>\n",
              "      <th>holidays</th>\n",
              "      <th>vacation</th>\n",
              "      <th>dntl_ins</th>\n",
              "      <th>empl_hplan</th>\n",
              "      <th>Class</th>\n",
              "    </tr>\n",
              "  </thead>\n",
              "  <tbody>\n",
              "    <tr>\n",
              "      <td>0</td>\n",
              "      <td>1</td>\n",
              "      <td>5.0</td>\n",
              "      <td>5.8</td>\n",
              "      <td>0</td>\n",
              "      <td>40</td>\n",
              "      <td>11</td>\n",
              "      <td>0</td>\n",
              "      <td>2</td>\n",
              "      <td>2</td>\n",
              "      <td>1</td>\n",
              "    </tr>\n",
              "    <tr>\n",
              "      <td>1</td>\n",
              "      <td>2</td>\n",
              "      <td>4.5</td>\n",
              "      <td>5.8</td>\n",
              "      <td>0</td>\n",
              "      <td>35</td>\n",
              "      <td>11</td>\n",
              "      <td>1</td>\n",
              "      <td>0</td>\n",
              "      <td>0</td>\n",
              "      <td>1</td>\n",
              "    </tr>\n",
              "    <tr>\n",
              "      <td>2</td>\n",
              "      <td>3</td>\n",
              "      <td>3.7</td>\n",
              "      <td>4.0</td>\n",
              "      <td>0</td>\n",
              "      <td>38</td>\n",
              "      <td>11</td>\n",
              "      <td>2</td>\n",
              "      <td>1</td>\n",
              "      <td>1</td>\n",
              "      <td>1</td>\n",
              "    </tr>\n",
              "    <tr>\n",
              "      <td>3</td>\n",
              "      <td>3</td>\n",
              "      <td>3.7</td>\n",
              "      <td>4.0</td>\n",
              "      <td>2</td>\n",
              "      <td>40</td>\n",
              "      <td>12</td>\n",
              "      <td>3</td>\n",
              "      <td>2</td>\n",
              "      <td>2</td>\n",
              "      <td>1</td>\n",
              "    </tr>\n",
              "    <tr>\n",
              "      <td>4</td>\n",
              "      <td>3</td>\n",
              "      <td>4.5</td>\n",
              "      <td>4.5</td>\n",
              "      <td>0</td>\n",
              "      <td>40</td>\n",
              "      <td>12</td>\n",
              "      <td>0</td>\n",
              "      <td>1</td>\n",
              "      <td>1</td>\n",
              "      <td>1</td>\n",
              "    </tr>\n",
              "    <tr>\n",
              "      <td>5</td>\n",
              "      <td>2</td>\n",
              "      <td>2.0</td>\n",
              "      <td>2.5</td>\n",
              "      <td>0</td>\n",
              "      <td>35</td>\n",
              "      <td>12</td>\n",
              "      <td>0</td>\n",
              "      <td>2</td>\n",
              "      <td>2</td>\n",
              "      <td>1</td>\n",
              "    </tr>\n",
              "    <tr>\n",
              "      <td>6</td>\n",
              "      <td>3</td>\n",
              "      <td>4.0</td>\n",
              "      <td>5.0</td>\n",
              "      <td>2</td>\n",
              "      <td>40</td>\n",
              "      <td>12</td>\n",
              "      <td>2</td>\n",
              "      <td>3</td>\n",
              "      <td>1</td>\n",
              "      <td>1</td>\n",
              "    </tr>\n",
              "    <tr>\n",
              "      <td>7</td>\n",
              "      <td>3</td>\n",
              "      <td>6.9</td>\n",
              "      <td>4.8</td>\n",
              "      <td>0</td>\n",
              "      <td>40</td>\n",
              "      <td>12</td>\n",
              "      <td>1</td>\n",
              "      <td>2</td>\n",
              "      <td>2</td>\n",
              "      <td>1</td>\n",
              "    </tr>\n",
              "    <tr>\n",
              "      <td>8</td>\n",
              "      <td>2</td>\n",
              "      <td>3.0</td>\n",
              "      <td>7.0</td>\n",
              "      <td>0</td>\n",
              "      <td>38</td>\n",
              "      <td>11</td>\n",
              "      <td>1</td>\n",
              "      <td>1</td>\n",
              "      <td>2</td>\n",
              "      <td>1</td>\n",
              "    </tr>\n",
              "    <tr>\n",
              "      <td>9</td>\n",
              "      <td>1</td>\n",
              "      <td>5.7</td>\n",
              "      <td>4.0</td>\n",
              "      <td>1</td>\n",
              "      <td>40</td>\n",
              "      <td>11</td>\n",
              "      <td>2</td>\n",
              "      <td>0</td>\n",
              "      <td>2</td>\n",
              "      <td>1</td>\n",
              "    </tr>\n",
              "    <tr>\n",
              "      <td>10</td>\n",
              "      <td>3</td>\n",
              "      <td>3.5</td>\n",
              "      <td>4.0</td>\n",
              "      <td>1</td>\n",
              "      <td>36</td>\n",
              "      <td>13</td>\n",
              "      <td>2</td>\n",
              "      <td>2</td>\n",
              "      <td>0</td>\n",
              "      <td>1</td>\n",
              "    </tr>\n",
              "    <tr>\n",
              "      <td>11</td>\n",
              "      <td>2</td>\n",
              "      <td>6.4</td>\n",
              "      <td>6.4</td>\n",
              "      <td>0</td>\n",
              "      <td>38</td>\n",
              "      <td>15</td>\n",
              "      <td>3</td>\n",
              "      <td>0</td>\n",
              "      <td>2</td>\n",
              "      <td>1</td>\n",
              "    </tr>\n",
              "    <tr>\n",
              "      <td>12</td>\n",
              "      <td>2</td>\n",
              "      <td>3.5</td>\n",
              "      <td>4.0</td>\n",
              "      <td>1</td>\n",
              "      <td>40</td>\n",
              "      <td>10</td>\n",
              "      <td>1</td>\n",
              "      <td>1</td>\n",
              "      <td>1</td>\n",
              "      <td>0</td>\n",
              "    </tr>\n",
              "    <tr>\n",
              "      <td>13</td>\n",
              "      <td>3</td>\n",
              "      <td>3.5</td>\n",
              "      <td>4.0</td>\n",
              "      <td>3</td>\n",
              "      <td>37</td>\n",
              "      <td>13</td>\n",
              "      <td>2</td>\n",
              "      <td>0</td>\n",
              "      <td>0</td>\n",
              "      <td>1</td>\n",
              "    </tr>\n",
              "    <tr>\n",
              "      <td>14</td>\n",
              "      <td>1</td>\n",
              "      <td>3.0</td>\n",
              "      <td>4.0</td>\n",
              "      <td>1</td>\n",
              "      <td>36</td>\n",
              "      <td>11</td>\n",
              "      <td>2</td>\n",
              "      <td>2</td>\n",
              "      <td>2</td>\n",
              "      <td>1</td>\n",
              "    </tr>\n",
              "    <tr>\n",
              "      <td>15</td>\n",
              "      <td>2</td>\n",
              "      <td>4.5</td>\n",
              "      <td>4.0</td>\n",
              "      <td>1</td>\n",
              "      <td>37</td>\n",
              "      <td>11</td>\n",
              "      <td>0</td>\n",
              "      <td>0</td>\n",
              "      <td>2</td>\n",
              "      <td>1</td>\n",
              "    </tr>\n",
              "    <tr>\n",
              "      <td>16</td>\n",
              "      <td>1</td>\n",
              "      <td>2.8</td>\n",
              "      <td>5.0</td>\n",
              "      <td>0</td>\n",
              "      <td>35</td>\n",
              "      <td>12</td>\n",
              "      <td>1</td>\n",
              "      <td>2</td>\n",
              "      <td>2</td>\n",
              "      <td>1</td>\n",
              "    </tr>\n",
              "    <tr>\n",
              "      <td>17</td>\n",
              "      <td>1</td>\n",
              "      <td>2.1</td>\n",
              "      <td>5.0</td>\n",
              "      <td>2</td>\n",
              "      <td>40</td>\n",
              "      <td>9</td>\n",
              "      <td>1</td>\n",
              "      <td>1</td>\n",
              "      <td>3</td>\n",
              "      <td>0</td>\n",
              "    </tr>\n",
              "    <tr>\n",
              "      <td>18</td>\n",
              "      <td>1</td>\n",
              "      <td>2.0</td>\n",
              "      <td>5.0</td>\n",
              "      <td>1</td>\n",
              "      <td>38</td>\n",
              "      <td>11</td>\n",
              "      <td>0</td>\n",
              "      <td>3</td>\n",
              "      <td>3</td>\n",
              "      <td>0</td>\n",
              "    </tr>\n",
              "    <tr>\n",
              "      <td>19</td>\n",
              "      <td>2</td>\n",
              "      <td>4.0</td>\n",
              "      <td>5.0</td>\n",
              "      <td>3</td>\n",
              "      <td>35</td>\n",
              "      <td>15</td>\n",
              "      <td>2</td>\n",
              "      <td>2</td>\n",
              "      <td>2</td>\n",
              "      <td>1</td>\n",
              "    </tr>\n",
              "    <tr>\n",
              "      <td>20</td>\n",
              "      <td>2</td>\n",
              "      <td>4.3</td>\n",
              "      <td>4.4</td>\n",
              "      <td>0</td>\n",
              "      <td>38</td>\n",
              "      <td>12</td>\n",
              "      <td>2</td>\n",
              "      <td>0</td>\n",
              "      <td>0</td>\n",
              "      <td>1</td>\n",
              "    </tr>\n",
              "    <tr>\n",
              "      <td>21</td>\n",
              "      <td>2</td>\n",
              "      <td>2.5</td>\n",
              "      <td>3.0</td>\n",
              "      <td>0</td>\n",
              "      <td>40</td>\n",
              "      <td>11</td>\n",
              "      <td>1</td>\n",
              "      <td>2</td>\n",
              "      <td>2</td>\n",
              "      <td>0</td>\n",
              "    </tr>\n",
              "    <tr>\n",
              "      <td>22</td>\n",
              "      <td>3</td>\n",
              "      <td>3.5</td>\n",
              "      <td>4.0</td>\n",
              "      <td>3</td>\n",
              "      <td>27</td>\n",
              "      <td>10</td>\n",
              "      <td>3</td>\n",
              "      <td>2</td>\n",
              "      <td>2</td>\n",
              "      <td>1</td>\n",
              "    </tr>\n",
              "    <tr>\n",
              "      <td>23</td>\n",
              "      <td>2</td>\n",
              "      <td>4.5</td>\n",
              "      <td>4.0</td>\n",
              "      <td>0</td>\n",
              "      <td>40</td>\n",
              "      <td>10</td>\n",
              "      <td>2</td>\n",
              "      <td>1</td>\n",
              "      <td>0</td>\n",
              "      <td>1</td>\n",
              "    </tr>\n",
              "    <tr>\n",
              "      <td>24</td>\n",
              "      <td>1</td>\n",
              "      <td>6.0</td>\n",
              "      <td>2.0</td>\n",
              "      <td>0</td>\n",
              "      <td>38</td>\n",
              "      <td>9</td>\n",
              "      <td>2</td>\n",
              "      <td>2</td>\n",
              "      <td>2</td>\n",
              "      <td>1</td>\n",
              "    </tr>\n",
              "    <tr>\n",
              "      <td>25</td>\n",
              "      <td>3</td>\n",
              "      <td>2.0</td>\n",
              "      <td>2.0</td>\n",
              "      <td>1</td>\n",
              "      <td>40</td>\n",
              "      <td>10</td>\n",
              "      <td>1</td>\n",
              "      <td>1</td>\n",
              "      <td>0</td>\n",
              "      <td>0</td>\n",
              "    </tr>\n",
              "    <tr>\n",
              "      <td>26</td>\n",
              "      <td>2</td>\n",
              "      <td>4.5</td>\n",
              "      <td>4.5</td>\n",
              "      <td>3</td>\n",
              "      <td>33</td>\n",
              "      <td>10</td>\n",
              "      <td>1</td>\n",
              "      <td>3</td>\n",
              "      <td>1</td>\n",
              "      <td>1</td>\n",
              "    </tr>\n",
              "    <tr>\n",
              "      <td>27</td>\n",
              "      <td>2</td>\n",
              "      <td>3.0</td>\n",
              "      <td>3.0</td>\n",
              "      <td>1</td>\n",
              "      <td>33</td>\n",
              "      <td>12</td>\n",
              "      <td>2</td>\n",
              "      <td>2</td>\n",
              "      <td>0</td>\n",
              "      <td>1</td>\n",
              "    </tr>\n",
              "    <tr>\n",
              "      <td>28</td>\n",
              "      <td>2</td>\n",
              "      <td>5.0</td>\n",
              "      <td>4.0</td>\n",
              "      <td>1</td>\n",
              "      <td>37</td>\n",
              "      <td>11</td>\n",
              "      <td>1</td>\n",
              "      <td>0</td>\n",
              "      <td>0</td>\n",
              "      <td>1</td>\n",
              "    </tr>\n",
              "    <tr>\n",
              "      <td>29</td>\n",
              "      <td>3</td>\n",
              "      <td>2.0</td>\n",
              "      <td>2.5</td>\n",
              "      <td>0</td>\n",
              "      <td>35</td>\n",
              "      <td>10</td>\n",
              "      <td>0</td>\n",
              "      <td>2</td>\n",
              "      <td>0</td>\n",
              "      <td>0</td>\n",
              "    </tr>\n",
              "    <tr>\n",
              "      <td>30</td>\n",
              "      <td>3</td>\n",
              "      <td>4.5</td>\n",
              "      <td>4.5</td>\n",
              "      <td>1</td>\n",
              "      <td>40</td>\n",
              "      <td>11</td>\n",
              "      <td>0</td>\n",
              "      <td>1</td>\n",
              "      <td>2</td>\n",
              "      <td>1</td>\n",
              "    </tr>\n",
              "    <tr>\n",
              "      <td>31</td>\n",
              "      <td>3</td>\n",
              "      <td>3.0</td>\n",
              "      <td>2.0</td>\n",
              "      <td>2</td>\n",
              "      <td>40</td>\n",
              "      <td>10</td>\n",
              "      <td>1</td>\n",
              "      <td>1</td>\n",
              "      <td>0</td>\n",
              "      <td>0</td>\n",
              "    </tr>\n",
              "    <tr>\n",
              "      <td>32</td>\n",
              "      <td>2</td>\n",
              "      <td>2.5</td>\n",
              "      <td>2.5</td>\n",
              "      <td>0</td>\n",
              "      <td>38</td>\n",
              "      <td>10</td>\n",
              "      <td>0</td>\n",
              "      <td>2</td>\n",
              "      <td>2</td>\n",
              "      <td>0</td>\n",
              "    </tr>\n",
              "    <tr>\n",
              "      <td>33</td>\n",
              "      <td>2</td>\n",
              "      <td>4.0</td>\n",
              "      <td>5.0</td>\n",
              "      <td>1</td>\n",
              "      <td>40</td>\n",
              "      <td>10</td>\n",
              "      <td>1</td>\n",
              "      <td>3</td>\n",
              "      <td>3</td>\n",
              "      <td>0</td>\n",
              "    </tr>\n",
              "    <tr>\n",
              "      <td>34</td>\n",
              "      <td>3</td>\n",
              "      <td>2.0</td>\n",
              "      <td>2.5</td>\n",
              "      <td>2</td>\n",
              "      <td>40</td>\n",
              "      <td>10</td>\n",
              "      <td>1</td>\n",
              "      <td>1</td>\n",
              "      <td>0</td>\n",
              "      <td>0</td>\n",
              "    </tr>\n",
              "    <tr>\n",
              "      <td>35</td>\n",
              "      <td>2</td>\n",
              "      <td>2.0</td>\n",
              "      <td>2.0</td>\n",
              "      <td>1</td>\n",
              "      <td>40</td>\n",
              "      <td>11</td>\n",
              "      <td>0</td>\n",
              "      <td>3</td>\n",
              "      <td>0</td>\n",
              "      <td>0</td>\n",
              "    </tr>\n",
              "    <tr>\n",
              "      <td>36</td>\n",
              "      <td>1</td>\n",
              "      <td>2.0</td>\n",
              "      <td>2.5</td>\n",
              "      <td>2</td>\n",
              "      <td>40</td>\n",
              "      <td>11</td>\n",
              "      <td>2</td>\n",
              "      <td>3</td>\n",
              "      <td>3</td>\n",
              "      <td>0</td>\n",
              "    </tr>\n",
              "    <tr>\n",
              "      <td>37</td>\n",
              "      <td>1</td>\n",
              "      <td>2.8</td>\n",
              "      <td>2.5</td>\n",
              "      <td>1</td>\n",
              "      <td>38</td>\n",
              "      <td>9</td>\n",
              "      <td>1</td>\n",
              "      <td>1</td>\n",
              "      <td>3</td>\n",
              "      <td>0</td>\n",
              "    </tr>\n",
              "    <tr>\n",
              "      <td>38</td>\n",
              "      <td>3</td>\n",
              "      <td>2.0</td>\n",
              "      <td>2.5</td>\n",
              "      <td>0</td>\n",
              "      <td>37</td>\n",
              "      <td>10</td>\n",
              "      <td>0</td>\n",
              "      <td>2</td>\n",
              "      <td>3</td>\n",
              "      <td>0</td>\n",
              "    </tr>\n",
              "    <tr>\n",
              "      <td>39</td>\n",
              "      <td>2</td>\n",
              "      <td>4.5</td>\n",
              "      <td>4.0</td>\n",
              "      <td>1</td>\n",
              "      <td>40</td>\n",
              "      <td>12</td>\n",
              "      <td>0</td>\n",
              "      <td>0</td>\n",
              "      <td>1</td>\n",
              "      <td>1</td>\n",
              "    </tr>\n",
              "    <tr>\n",
              "      <td>40</td>\n",
              "      <td>1</td>\n",
              "      <td>4.0</td>\n",
              "      <td>3.0</td>\n",
              "      <td>1</td>\n",
              "      <td>38</td>\n",
              "      <td>11</td>\n",
              "      <td>0</td>\n",
              "      <td>3</td>\n",
              "      <td>3</td>\n",
              "      <td>0</td>\n",
              "    </tr>\n",
              "    <tr>\n",
              "      <td>41</td>\n",
              "      <td>2</td>\n",
              "      <td>2.0</td>\n",
              "      <td>3.0</td>\n",
              "      <td>1</td>\n",
              "      <td>38</td>\n",
              "      <td>12</td>\n",
              "      <td>2</td>\n",
              "      <td>3</td>\n",
              "      <td>0</td>\n",
              "      <td>0</td>\n",
              "    </tr>\n",
              "    <tr>\n",
              "      <td>42</td>\n",
              "      <td>2</td>\n",
              "      <td>2.5</td>\n",
              "      <td>2.5</td>\n",
              "      <td>2</td>\n",
              "      <td>39</td>\n",
              "      <td>12</td>\n",
              "      <td>0</td>\n",
              "      <td>2</td>\n",
              "      <td>2</td>\n",
              "      <td>0</td>\n",
              "    </tr>\n",
              "    <tr>\n",
              "      <td>43</td>\n",
              "      <td>2</td>\n",
              "      <td>2.5</td>\n",
              "      <td>3.0</td>\n",
              "      <td>3</td>\n",
              "      <td>40</td>\n",
              "      <td>11</td>\n",
              "      <td>1</td>\n",
              "      <td>2</td>\n",
              "      <td>2</td>\n",
              "      <td>0</td>\n",
              "    </tr>\n",
              "    <tr>\n",
              "      <td>44</td>\n",
              "      <td>2</td>\n",
              "      <td>4.0</td>\n",
              "      <td>4.0</td>\n",
              "      <td>1</td>\n",
              "      <td>40</td>\n",
              "      <td>10</td>\n",
              "      <td>1</td>\n",
              "      <td>3</td>\n",
              "      <td>3</td>\n",
              "      <td>0</td>\n",
              "    </tr>\n",
              "    <tr>\n",
              "      <td>45</td>\n",
              "      <td>2</td>\n",
              "      <td>4.5</td>\n",
              "      <td>4.0</td>\n",
              "      <td>0</td>\n",
              "      <td>40</td>\n",
              "      <td>10</td>\n",
              "      <td>1</td>\n",
              "      <td>1</td>\n",
              "      <td>1</td>\n",
              "      <td>0</td>\n",
              "    </tr>\n",
              "    <tr>\n",
              "      <td>46</td>\n",
              "      <td>2</td>\n",
              "      <td>4.5</td>\n",
              "      <td>4.0</td>\n",
              "      <td>1</td>\n",
              "      <td>40</td>\n",
              "      <td>11</td>\n",
              "      <td>0</td>\n",
              "      <td>0</td>\n",
              "      <td>0</td>\n",
              "      <td>1</td>\n",
              "    </tr>\n",
              "    <tr>\n",
              "      <td>47</td>\n",
              "      <td>2</td>\n",
              "      <td>4.6</td>\n",
              "      <td>4.6</td>\n",
              "      <td>3</td>\n",
              "      <td>38</td>\n",
              "      <td>11</td>\n",
              "      <td>3</td>\n",
              "      <td>1</td>\n",
              "      <td>1</td>\n",
              "      <td>1</td>\n",
              "    </tr>\n",
              "    <tr>\n",
              "      <td>48</td>\n",
              "      <td>2</td>\n",
              "      <td>5.0</td>\n",
              "      <td>4.5</td>\n",
              "      <td>1</td>\n",
              "      <td>38</td>\n",
              "      <td>11</td>\n",
              "      <td>1</td>\n",
              "      <td>2</td>\n",
              "      <td>0</td>\n",
              "      <td>1</td>\n",
              "    </tr>\n",
              "    <tr>\n",
              "      <td>49</td>\n",
              "      <td>2</td>\n",
              "      <td>5.7</td>\n",
              "      <td>4.5</td>\n",
              "      <td>1</td>\n",
              "      <td>40</td>\n",
              "      <td>11</td>\n",
              "      <td>0</td>\n",
              "      <td>0</td>\n",
              "      <td>0</td>\n",
              "      <td>1</td>\n",
              "    </tr>\n",
              "    <tr>\n",
              "      <td>50</td>\n",
              "      <td>2</td>\n",
              "      <td>7.0</td>\n",
              "      <td>5.3</td>\n",
              "      <td>0</td>\n",
              "      <td>35</td>\n",
              "      <td>11</td>\n",
              "      <td>3</td>\n",
              "      <td>0</td>\n",
              "      <td>2</td>\n",
              "      <td>1</td>\n",
              "    </tr>\n",
              "    <tr>\n",
              "      <td>51</td>\n",
              "      <td>3</td>\n",
              "      <td>2.0</td>\n",
              "      <td>3.0</td>\n",
              "      <td>3</td>\n",
              "      <td>35</td>\n",
              "      <td>13</td>\n",
              "      <td>3</td>\n",
              "      <td>1</td>\n",
              "      <td>2</td>\n",
              "      <td>1</td>\n",
              "    </tr>\n",
              "    <tr>\n",
              "      <td>52</td>\n",
              "      <td>3</td>\n",
              "      <td>3.5</td>\n",
              "      <td>4.0</td>\n",
              "      <td>3</td>\n",
              "      <td>35</td>\n",
              "      <td>13</td>\n",
              "      <td>2</td>\n",
              "      <td>2</td>\n",
              "      <td>0</td>\n",
              "      <td>1</td>\n",
              "    </tr>\n",
              "    <tr>\n",
              "      <td>53</td>\n",
              "      <td>3</td>\n",
              "      <td>4.0</td>\n",
              "      <td>3.5</td>\n",
              "      <td>1</td>\n",
              "      <td>40</td>\n",
              "      <td>11</td>\n",
              "      <td>0</td>\n",
              "      <td>0</td>\n",
              "      <td>0</td>\n",
              "      <td>1</td>\n",
              "    </tr>\n",
              "    <tr>\n",
              "      <td>54</td>\n",
              "      <td>3</td>\n",
              "      <td>5.0</td>\n",
              "      <td>4.4</td>\n",
              "      <td>1</td>\n",
              "      <td>38</td>\n",
              "      <td>11</td>\n",
              "      <td>2</td>\n",
              "      <td>2</td>\n",
              "      <td>0</td>\n",
              "      <td>1</td>\n",
              "    </tr>\n",
              "    <tr>\n",
              "      <td>55</td>\n",
              "      <td>3</td>\n",
              "      <td>5.0</td>\n",
              "      <td>5.0</td>\n",
              "      <td>0</td>\n",
              "      <td>40</td>\n",
              "      <td>12</td>\n",
              "      <td>0</td>\n",
              "      <td>1</td>\n",
              "      <td>1</td>\n",
              "      <td>1</td>\n",
              "    </tr>\n",
              "    <tr>\n",
              "      <td>56</td>\n",
              "      <td>3</td>\n",
              "      <td>6.0</td>\n",
              "      <td>6.0</td>\n",
              "      <td>0</td>\n",
              "      <td>35</td>\n",
              "      <td>9</td>\n",
              "      <td>2</td>\n",
              "      <td>0</td>\n",
              "      <td>0</td>\n",
              "      <td>1</td>\n",
              "    </tr>\n",
              "  </tbody>\n",
              "</table>\n",
              "</div>"
            ],
            "text/plain": [
              "   dur  wage1  wage2  cola hours holidays  vacation  dntl_ins  empl_hplan  \\\n",
              "0    1    5.0    5.8     0    40       11         0         2           2   \n",
              "1    2    4.5    5.8     0    35       11         1         0           0   \n",
              "2    3    3.7    4.0     0    38       11         2         1           1   \n",
              "3    3    3.7    4.0     2    40       12         3         2           2   \n",
              "4    3    4.5    4.5     0    40       12         0         1           1   \n",
              "5    2    2.0    2.5     0    35       12         0         2           2   \n",
              "6    3    4.0    5.0     2    40       12         2         3           1   \n",
              "7    3    6.9    4.8     0    40       12         1         2           2   \n",
              "8    2    3.0    7.0     0    38       11         1         1           2   \n",
              "9    1    5.7    4.0     1    40       11         2         0           2   \n",
              "10   3    3.5    4.0     1    36       13         2         2           0   \n",
              "11   2    6.4    6.4     0    38       15         3         0           2   \n",
              "12   2    3.5    4.0     1    40       10         1         1           1   \n",
              "13   3    3.5    4.0     3    37       13         2         0           0   \n",
              "14   1    3.0    4.0     1    36       11         2         2           2   \n",
              "15   2    4.5    4.0     1    37       11         0         0           2   \n",
              "16   1    2.8    5.0     0    35       12         1         2           2   \n",
              "17   1    2.1    5.0     2    40        9         1         1           3   \n",
              "18   1    2.0    5.0     1    38       11         0         3           3   \n",
              "19   2    4.0    5.0     3    35       15         2         2           2   \n",
              "20   2    4.3    4.4     0    38       12         2         0           0   \n",
              "21   2    2.5    3.0     0    40       11         1         2           2   \n",
              "22   3    3.5    4.0     3    27       10         3         2           2   \n",
              "23   2    4.5    4.0     0    40       10         2         1           0   \n",
              "24   1    6.0    2.0     0    38        9         2         2           2   \n",
              "25   3    2.0    2.0     1    40       10         1         1           0   \n",
              "26   2    4.5    4.5     3    33       10         1         3           1   \n",
              "27   2    3.0    3.0     1    33       12         2         2           0   \n",
              "28   2    5.0    4.0     1    37       11         1         0           0   \n",
              "29   3    2.0    2.5     0    35       10         0         2           0   \n",
              "30   3    4.5    4.5     1    40       11         0         1           2   \n",
              "31   3    3.0    2.0     2    40       10         1         1           0   \n",
              "32   2    2.5    2.5     0    38       10         0         2           2   \n",
              "33   2    4.0    5.0     1    40       10         1         3           3   \n",
              "34   3    2.0    2.5     2    40       10         1         1           0   \n",
              "35   2    2.0    2.0     1    40       11         0         3           0   \n",
              "36   1    2.0    2.5     2    40       11         2         3           3   \n",
              "37   1    2.8    2.5     1    38        9         1         1           3   \n",
              "38   3    2.0    2.5     0    37       10         0         2           3   \n",
              "39   2    4.5    4.0     1    40       12         0         0           1   \n",
              "40   1    4.0    3.0     1    38       11         0         3           3   \n",
              "41   2    2.0    3.0     1    38       12         2         3           0   \n",
              "42   2    2.5    2.5     2    39       12         0         2           2   \n",
              "43   2    2.5    3.0     3    40       11         1         2           2   \n",
              "44   2    4.0    4.0     1    40       10         1         3           3   \n",
              "45   2    4.5    4.0     0    40       10         1         1           1   \n",
              "46   2    4.5    4.0     1    40       11         0         0           0   \n",
              "47   2    4.6    4.6     3    38       11         3         1           1   \n",
              "48   2    5.0    4.5     1    38       11         1         2           0   \n",
              "49   2    5.7    4.5     1    40       11         0         0           0   \n",
              "50   2    7.0    5.3     0    35       11         3         0           2   \n",
              "51   3    2.0    3.0     3    35       13         3         1           2   \n",
              "52   3    3.5    4.0     3    35       13         2         2           0   \n",
              "53   3    4.0    3.5     1    40       11         0         0           0   \n",
              "54   3    5.0    4.4     1    38       11         2         2           0   \n",
              "55   3    5.0    5.0     0    40       12         0         1           1   \n",
              "56   3    6.0    6.0     0    35        9         2         0           0   \n",
              "\n",
              "    Class  \n",
              "0       1  \n",
              "1       1  \n",
              "2       1  \n",
              "3       1  \n",
              "4       1  \n",
              "5       1  \n",
              "6       1  \n",
              "7       1  \n",
              "8       1  \n",
              "9       1  \n",
              "10      1  \n",
              "11      1  \n",
              "12      0  \n",
              "13      1  \n",
              "14      1  \n",
              "15      1  \n",
              "16      1  \n",
              "17      0  \n",
              "18      0  \n",
              "19      1  \n",
              "20      1  \n",
              "21      0  \n",
              "22      1  \n",
              "23      1  \n",
              "24      1  \n",
              "25      0  \n",
              "26      1  \n",
              "27      1  \n",
              "28      1  \n",
              "29      0  \n",
              "30      1  \n",
              "31      0  \n",
              "32      0  \n",
              "33      0  \n",
              "34      0  \n",
              "35      0  \n",
              "36      0  \n",
              "37      0  \n",
              "38      0  \n",
              "39      1  \n",
              "40      0  \n",
              "41      0  \n",
              "42      0  \n",
              "43      0  \n",
              "44      0  \n",
              "45      0  \n",
              "46      1  \n",
              "47      1  \n",
              "48      1  \n",
              "49      1  \n",
              "50      1  \n",
              "51      1  \n",
              "52      1  \n",
              "53      1  \n",
              "54      1  \n",
              "55      1  \n",
              "56      1  "
            ]
          },
          "metadata": {
            "tags": []
          },
          "execution_count": 85
        }
      ]
    },
    {
      "cell_type": "markdown",
      "metadata": {
        "id": "9wZRO7_P44FQ"
      },
      "source": [
        "### Independent and Dependent features"
      ]
    },
    {
      "cell_type": "code",
      "metadata": {
        "id": "mzTlnzIS44FR",
        "outputId": "2e47ac5d-7a00-4a44-d785-9798da86929d"
      },
      "source": [
        "columns = df3.columns.tolist()\n",
        "# Filtering the columns to remove data we do not want \n",
        "columns = [c for c in columns if c not in [\"Class\"]]\n",
        "# Storing the variable we are predicting \n",
        "target = \"Class\"\n",
        "# Defining a random state \n",
        "state = np.random.RandomState(42)\n",
        "X = df3[columns]\n",
        "Y = df3[target]\n",
        "# Printing the shapes of X & Y\n",
        "print(X.shape)\n",
        "print(Y.shape)"
      ],
      "execution_count": null,
      "outputs": [
        {
          "output_type": "stream",
          "text": [
            "(57, 9)\n",
            "(57,)\n"
          ],
          "name": "stdout"
        }
      ]
    },
    {
      "cell_type": "markdown",
      "metadata": {
        "id": "a2wn0x9v44FS"
      },
      "source": [
        "### Implementation of SVM algorithm against Labor Relations dataset using tenfold cross validation"
      ]
    },
    {
      "cell_type": "code",
      "metadata": {
        "id": "uw6Qk1ip44FT",
        "outputId": "772a730e-745e-4a7a-e835-ad977eb95787"
      },
      "source": [
        "#creating a new svm model\n",
        "from sklearn.svm import SVC\n",
        "from sklearn.model_selection import cross_val_score\n",
        "support_vector_classifier = SVC()\n",
        "support_vector_classifier.fit(X,Y)\n",
        "#training our model with cv of 10 \n",
        "svm_cross_val_scores = cross_val_score(support_vector_classifier, X, Y, cv=10)\n",
        "#printing cross validation scores\n",
        "print('svm_labor_cross_val_scores:{}'.format(svm_cross_val_scores))\n",
        "#printing the average of them\n",
        "svm_avg_score3 = np.mean(svm_cross_val_scores)\n",
        "print('svm_model_labor_negotiation_average_accuracy :{}'.format(np.mean(svm_cross_val_scores)))"
      ],
      "execution_count": null,
      "outputs": [
        {
          "output_type": "stream",
          "text": [
            "svm_labor_cross_val_scores:[0.66666667 0.66666667 0.66666667 0.66666667 0.66666667 0.66666667\n",
            " 0.66666667 0.6        0.6        0.6       ]\n",
            "svm_model_labor_negotiation_average_accuracy :0.6466666666666665\n"
          ],
          "name": "stdout"
        }
      ]
    },
    {
      "cell_type": "markdown",
      "metadata": {
        "id": "57EhpcYf44FV"
      },
      "source": [
        "### Implementation of KNN algorithm against Labor Relations dataset using tenfold cross validation"
      ]
    },
    {
      "cell_type": "code",
      "metadata": {
        "id": "WYElnVaa44FV",
        "outputId": "eed11e60-0d2a-4fba-d97e-3a7c5425e042"
      },
      "source": [
        "from sklearn.neighbors import KNeighborsClassifier\n",
        "from sklearn.model_selection import cross_val_score\n",
        "import numpy as np\n",
        "#creating a new KNN model\n",
        "knn_cv = KNeighborsClassifier(n_neighbors= 5)\n",
        "#training our model with cv of 10 \n",
        "cross_val_scores = cross_val_score(knn_cv, X,Y, cv=10)\n",
        "#printing each cross validation score (accuracy) and finding the average of them\n",
        "print('knn_labor_cross_val_scores:{}'.format(cross_val_scores))\n",
        "knn_avg_score3=np.mean(cross_val_scores)\n",
        "print('knn_model_labor_negotiation_average_accuracy :{}'.format(np.mean(cross_val_scores)))"
      ],
      "execution_count": null,
      "outputs": [
        {
          "output_type": "stream",
          "text": [
            "knn_labor_cross_val_scores:[0.90361738 0.88905074 0.88565186 0.87351299 0.86817189 0.87302743\n",
            " 0.88419519 0.75649429 0.864983   0.33462846]\n",
            "knn_model_labor_negotiation_average_accuracy :0.8133333239005068\n"
          ],
          "name": "stdout"
        }
      ]
    },
    {
      "cell_type": "markdown",
      "metadata": {
        "id": "_kpJnHHL44FX"
      },
      "source": [
        "### Implementation of Random Forest algorithm against Labor Relations dataset using tenfold cross validation"
      ]
    },
    {
      "cell_type": "code",
      "metadata": {
        "id": "I2rYciPn44FX",
        "outputId": "886eaae1-deab-4f63-ccb0-91715854cb91"
      },
      "source": [
        "from sklearn.ensemble import RandomForestClassifier\n",
        "from sklearn.model_selection import cross_val_score\n",
        "#creating a new model\n",
        "random_forest_classifier = RandomForestClassifier(n_jobs = -1, n_estimators=10,bootstrap= True, criterion='gini')\n",
        "#training our model with cv of 10 \n",
        "randomforest_cross_val_scores = cross_val_score(random_forest_classifier, X,Y, cv=10)\n",
        "#printing cross validation scores\n",
        "print('randomforest_labor_cross_val_scores:{}'.format(randomforest_cross_val_scores))\n",
        "#printing the average of them\n",
        "randomforest_avg_score3 = np.mean(randomforest_cross_val_scores)\n",
        "print('randomforest_labor_negotiation_average_accuracy :{}'.format(np.mean(randomforest_avg_score3)))"
      ],
      "execution_count": null,
      "outputs": [
        {
          "output_type": "stream",
          "text": [
            "randomforest_labor_cross_val_scores:[1.         0.83333333 1.         0.83333333 0.83333333 0.83333333\n",
            " 1.         0.8        1.         1.        ]\n",
            "randomforest_labor_negotiation_average_accuracy :0.9133333333333333\n"
          ],
          "name": "stdout"
        }
      ]
    },
    {
      "cell_type": "markdown",
      "metadata": {
        "id": "cSAU7Mp444Fa"
      },
      "source": [
        "### 2. Displaying the average accuracies obtained after applying SVM ,KNN and Random Forest Algorithms against Portugese-Bank, Labor Relations, Congressional Voting Records and Iris dataset"
      ]
    },
    {
      "cell_type": "code",
      "metadata": {
        "id": "fKvKFQl744Fa",
        "outputId": "4d1849ab-498d-415f-92c1-537abff40d5d"
      },
      "source": [
        "import pandas as pd\n",
        "Algorithms_cross_val_scores = {\n",
        "    'SVM':[svm_avg_score,svm_avg_score3,svm_avg_score2,svm_avg_score1],\n",
        "    'KNN':[knn_avg_score,knn_avg_accuracy3,knn_avg_accuracy2,knn_avg_accuracy1],\n",
        "    'Random Forest':[randomforest_avg_score,randomforest_avg_score3,\n",
        "                     randomforest_avg_score2,randomforest_avg_score1]\n",
        "}\n",
        "\n",
        "df6 = pd.DataFrame(Algorithms_cross_val_scores ).rename_axis('Dataset', axis=1)\n",
        " \n",
        "df6\n",
        "df6.rename(index={0: 'Portugese Bank',1:'Labor Relations',2:'Congressional Voting',3:'Iris'})"
      ],
      "execution_count": null,
      "outputs": [
        {
          "output_type": "execute_result",
          "data": {
            "text/html": [
              "<div>\n",
              "<style scoped>\n",
              "    .dataframe tbody tr th:only-of-type {\n",
              "        vertical-align: middle;\n",
              "    }\n",
              "\n",
              "    .dataframe tbody tr th {\n",
              "        vertical-align: top;\n",
              "    }\n",
              "\n",
              "    .dataframe thead th {\n",
              "        text-align: right;\n",
              "    }\n",
              "</style>\n",
              "<table border=\"1\" class=\"dataframe\">\n",
              "  <thead>\n",
              "    <tr style=\"text-align: right;\">\n",
              "      <th>Dataset</th>\n",
              "      <th>SVM</th>\n",
              "      <th>KNN</th>\n",
              "      <th>Random Forest</th>\n",
              "    </tr>\n",
              "  </thead>\n",
              "  <tbody>\n",
              "    <tr>\n",
              "      <td>Portugese Bank</td>\n",
              "      <td>83.830000</td>\n",
              "      <td>88.360000</td>\n",
              "      <td>84.990000</td>\n",
              "    </tr>\n",
              "    <tr>\n",
              "      <td>Labor Relations</td>\n",
              "      <td>0.646667</td>\n",
              "      <td>0.896667</td>\n",
              "      <td>0.913333</td>\n",
              "    </tr>\n",
              "    <tr>\n",
              "      <td>Congressional Voting</td>\n",
              "      <td>0.956237</td>\n",
              "      <td>0.903383</td>\n",
              "      <td>0.958457</td>\n",
              "    </tr>\n",
              "    <tr>\n",
              "      <td>Iris</td>\n",
              "      <td>0.973333</td>\n",
              "      <td>0.966667</td>\n",
              "      <td>0.960000</td>\n",
              "    </tr>\n",
              "  </tbody>\n",
              "</table>\n",
              "</div>"
            ],
            "text/plain": [
              "Dataset                     SVM        KNN  Random Forest\n",
              "Portugese Bank        83.830000  88.360000      84.990000\n",
              "Labor Relations        0.646667   0.896667       0.913333\n",
              "Congressional Voting   0.956237   0.903383       0.958457\n",
              "Iris                   0.973333   0.966667       0.960000"
            ]
          },
          "metadata": {
            "tags": []
          },
          "execution_count": 150
        }
      ]
    },
    {
      "cell_type": "markdown",
      "metadata": {
        "id": "jXVl8ifT44Fc"
      },
      "source": [
        "### Friedman test for SVM, KNN and Random Forest algorithm models."
      ]
    },
    {
      "cell_type": "code",
      "metadata": {
        "id": "Jo8n15-H44Fd",
        "outputId": "e4089165-4783-4150-8aca-6cac2e860460"
      },
      "source": [
        "from scipy import stats\n",
        "from scipy.stats import friedmanchisquare\n",
        "stat,p = stats.friedmanchisquare(df6['SVM'],df6['KNN'],df6['Random Forest'])\n",
        "print('Statistics=%3f, p=%.3f' %(stat, p))"
      ],
      "execution_count": null,
      "outputs": [
        {
          "output_type": "stream",
          "text": [
            "Statistics=0.500000, p=0.779\n"
          ],
          "name": "stdout"
        }
      ]
    },
    {
      "cell_type": "code",
      "metadata": {
        "id": "PA7Bt8Iv44Fe",
        "outputId": "b7dcf6b9-9f0c-4ff5-fd2e-c6dcaea0aaac"
      },
      "source": [
        "p = 0.779\n",
        "if p < 0.05:\n",
        "    print('There are statistical significant difference in the accuracy of the models')\n",
        "else:\n",
        "    print('There are no statistical significant difference in the accuracies of the models')"
      ],
      "execution_count": null,
      "outputs": [
        {
          "output_type": "stream",
          "text": [
            "There are no statistical significant difference in the accuracies of the models\n"
          ],
          "name": "stdout"
        }
      ]
    },
    {
      "cell_type": "code",
      "metadata": {
        "id": "oKwygfhH44Fg"
      },
      "source": [
        "df7 = df6.rank(axis = 1, method = 'max', ascending = False)"
      ],
      "execution_count": null,
      "outputs": []
    },
    {
      "cell_type": "code",
      "metadata": {
        "id": "Fw-eS9GI44Fh",
        "outputId": "1eaccf19-081e-4022-f684-be9144a2f3d8"
      },
      "source": [
        "#Calculating mean value of all the models ranks\n",
        "df7[['SVM','KNN','Random Forest']].mean()"
      ],
      "execution_count": null,
      "outputs": [
        {
          "output_type": "execute_result",
          "data": {
            "text/plain": [
              "Dataset\n",
              "SVM              2.25\n",
              "KNN              2.00\n",
              "Random Forest    1.75\n",
              "dtype: float64"
            ]
          },
          "metadata": {
            "tags": []
          },
          "execution_count": 178
        }
      ]
    },
    {
      "cell_type": "markdown",
      "metadata": {
        "id": "AOtO3imp44Fk"
      },
      "source": [
        "### Calculation of critical difference Values and Displaying Nemenyi Diagram obtained from the critical difference values."
      ]
    },
    {
      "cell_type": "code",
      "metadata": {
        "id": "1L_qlDaF44Fl",
        "outputId": "28611068-5efb-4c7b-f573-35635f1da427"
      },
      "source": [
        "import Orange \n",
        "import matplotlib.pyplot as plt\n",
        "# Assigning the list of model names\n",
        "names = [\"SVM\", \"KNN\", \"Random Forest\"]\n",
        "avranks = [2.25,2.00,1.75]\n",
        "cd = Orange.evaluation.compute_CD(avranks,n=4,alpha=\"0.05\")\n",
        "print(\"cd=\",cd)\n",
        "Orange.evaluation.graph_ranks(avranks, names, cd=cd, width=5, textspace=1.5, cdmethod=0)\n",
        "plt.show();"
      ],
      "execution_count": null,
      "outputs": [
        {
          "output_type": "stream",
          "text": [
            "cd= 1.6572468701736927\n"
          ],
          "name": "stdout"
        },
        {
          "output_type": "display_data",
          "data": {
            "image/png": "[encoded data removed]",
            "text/plain": [
              "<Figure size 360x86.4 with 1 Axes>"
            ]
          },
          "metadata": {
            "tags": []
          }
        }
      ]
    }
  ]
}